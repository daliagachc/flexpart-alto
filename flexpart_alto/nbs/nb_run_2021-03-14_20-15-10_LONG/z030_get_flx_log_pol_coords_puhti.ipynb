{
 "cells": [
  {
   "cell_type": "code",
   "execution_count": null,
   "metadata": {},
   "outputs": [],
   "source": []
  },
  {
   "cell_type": "code",
   "execution_count": 1,
   "metadata": {
    "lines_to_next_cell": 2
   },
   "outputs": [],
   "source": [
    "# this notebook was created to convert rectanfular coo"
   ]
  },
  {
   "cell_type": "code",
   "execution_count": 3,
   "metadata": {},
   "outputs": [
    {
     "name": "stdout",
     "output_type": "stream",
     "text": [
      "The autoreload extension is already loaded. To reload it, use:\n",
      "  %reload_ext autoreload\n"
     ]
    }
   ],
   "source": [
    "import flexpart_alto.modules.FLEXOUT as FO\n",
    "import flexpart_alto.modules.flx_array as fa\n",
    "from useful_scit.imps2.defs import *"
   ]
  },
  {
   "cell_type": "code",
   "execution_count": 7,
   "metadata": {},
   "outputs": [],
   "source": [
    "log.ger.setLevel(log.log.DEBUG)"
   ]
  },
  {
   "cell_type": "code",
   "execution_count": 8,
   "metadata": {},
   "outputs": [],
   "source": [
    "#os.environ['HDF5_USE_FILE_LOCKING'] = 'FALSE'\n",
    "doms = ['d01','d02']\n",
    "\n",
    "run_root_path = Path('/scratch/project_2001273/diego/flexpart-alto-data/run_2021-03-14_20-15-10_LONG')\n",
    "\n",
    "root_path = run_root_path / '*-*-*'\n",
    "# root_path = '/homeappl/home/aliagadi/wrk/DONOTREMOVE/flexpart_management_data/runs/run_2019-06-05_18-42-11_/*-*-*'\n",
    "path_out = run_root_path/ 'log_pol'\n",
    "\n",
    "run_name = 'run_2021-03-14_20-15-10_LONG'\n",
    "paths = glob.glob(str(root_path))\n",
    "paths.sort()"
   ]
  },
  {
   "cell_type": "code",
   "execution_count": 9,
   "metadata": {},
   "outputs": [],
   "source": [
    "fo_base_dic  = dict(\n",
    "# dom = 'd01',\n",
    "# folder_path = '/Volumes/mbProD/Downloads/flex_out/run_2019-06-02_20-42-05_/2017-12-10',\n",
    "folder_path_out = path_out,\n",
    "run_name= run_name,\n",
    ")"
   ]
  },
  {
   "cell_type": "code",
   "execution_count": 12,
   "metadata": {
    "lines_to_next_cell": 2
   },
   "outputs": [
    {
     "name": "stderr",
     "output_type": "stream",
     "text": [
      "2021-03-21 20:27:33,601 useful_scit  DEBUG    head file is /scratch/project_2001273/diego/flexpart-alto-data/run_2021-03-14_20-15-10_LONG/2017-12-06/*header_*d01*\n"
     ]
    },
    {
     "name": "stdout",
     "output_type": "stream",
     "text": [
      "starting d01 /scratch/project_2001273/diego/flexpart-alto-data/run_2021-03-14_20-15-10_LONG/2017-12-06\n",
      "2021-03-21 20:27:33,601 useful_scit  DEBUG    head file is /scratch/project_2001273/diego/flexpart-alto-data/run_2021-03-14_20-15-10_LONG/2017-12-06/*header_*d01*\n"
     ]
    },
    {
     "name": "stderr",
     "output_type": "stream",
     "text": [
      "2021-03-21 20:27:33,611 useful_scit  DEBUG    head file again is /scratch/project_2001273/diego/flexpart-alto-data/run_2021-03-14_20-15-10_LONG/2017-12-06/header_d01.nc\n"
     ]
    },
    {
     "name": "stdout",
     "output_type": "stream",
     "text": [
      "2021-03-21 20:27:33,611 useful_scit  DEBUG    head file again is /scratch/project_2001273/diego/flexpart-alto-data/run_2021-03-14_20-15-10_LONG/2017-12-06/header_d01.nc\n"
     ]
    },
    {
     "name": "stderr",
     "output_type": "stream",
     "text": [
      "2021-03-21 20:27:33,614 useful_scit  DEBUG    out path is /scratch/project_2001273/diego/flexpart-alto-data/run_2021-03-14_20-15-10_LONG/2017-12-06/*flxout_*d01*\n"
     ]
    },
    {
     "name": "stdout",
     "output_type": "stream",
     "text": [
      "2021-03-21 20:27:33,614 useful_scit  DEBUG    out path is /scratch/project_2001273/diego/flexpart-alto-data/run_2021-03-14_20-15-10_LONG/2017-12-06/*flxout_*d01*\n"
     ]
    },
    {
     "name": "stderr",
     "output_type": "stream",
     "text": [
      "2021-03-21 20:27:33,623 useful_scit  DEBUG    out path list 1st elemnt is ['/scratch/project_2001273/diego/flexpart-alto-data/run_2021-03-14_20-15-10_LONG/2017-12-06/flxout_d01_20171202_000000.nc']\n"
     ]
    },
    {
     "name": "stdout",
     "output_type": "stream",
     "text": [
      "2021-03-21 20:27:33,623 useful_scit  DEBUG    out path list 1st elemnt is ['/scratch/project_2001273/diego/flexpart-alto-data/run_2021-03-14_20-15-10_LONG/2017-12-06/flxout_d01_20171202_000000.nc']\n"
     ]
    },
    {
     "name": "stderr",
     "output_type": "stream",
     "text": [
      "2021-03-21 20:27:34,403 useful_scit  DEBUG    file /scratch/project_2001273/diego/flexpart-alto-data/run_2021-03-14_20-15-10_LONG/2017-12-06/flxout_d01_20171202_000000.nc opened\n"
     ]
    },
    {
     "name": "stdout",
     "output_type": "stream",
     "text": [
      "2021-03-21 20:27:34,403 useful_scit  DEBUG    file /scratch/project_2001273/diego/flexpart-alto-data/run_2021-03-14_20-15-10_LONG/2017-12-06/flxout_d01_20171202_000000.nc opened\n"
     ]
    },
    {
     "name": "stderr",
     "output_type": "stream",
     "text": [
      "2021-03-21 20:27:34,447 useful_scit  DEBUG    file /scratch/project_2001273/diego/flexpart-alto-data/run_2021-03-14_20-15-10_LONG/2017-12-06/flxout_d01_20171202_010000.nc opened\n"
     ]
    },
    {
     "name": "stdout",
     "output_type": "stream",
     "text": [
      "2021-03-21 20:27:34,447 useful_scit  DEBUG    file /scratch/project_2001273/diego/flexpart-alto-data/run_2021-03-14_20-15-10_LONG/2017-12-06/flxout_d01_20171202_010000.nc opened\n"
     ]
    },
    {
     "name": "stderr",
     "output_type": "stream",
     "text": [
      "2021-03-21 20:27:34,503 useful_scit  DEBUG    file /scratch/project_2001273/diego/flexpart-alto-data/run_2021-03-14_20-15-10_LONG/2017-12-06/flxout_d01_20171202_020000.nc opened\n"
     ]
    },
    {
     "name": "stdout",
     "output_type": "stream",
     "text": [
      "2021-03-21 20:27:34,503 useful_scit  DEBUG    file /scratch/project_2001273/diego/flexpart-alto-data/run_2021-03-14_20-15-10_LONG/2017-12-06/flxout_d01_20171202_020000.nc opened\n"
     ]
    },
    {
     "name": "stderr",
     "output_type": "stream",
     "text": [
      "2021-03-21 20:27:34,551 useful_scit  DEBUG    file /scratch/project_2001273/diego/flexpart-alto-data/run_2021-03-14_20-15-10_LONG/2017-12-06/flxout_d01_20171202_030000.nc opened\n"
     ]
    },
    {
     "name": "stdout",
     "output_type": "stream",
     "text": [
      "2021-03-21 20:27:34,551 useful_scit  DEBUG    file /scratch/project_2001273/diego/flexpart-alto-data/run_2021-03-14_20-15-10_LONG/2017-12-06/flxout_d01_20171202_030000.nc opened\n"
     ]
    },
    {
     "name": "stderr",
     "output_type": "stream",
     "text": [
      "2021-03-21 20:27:34,600 useful_scit  DEBUG    file /scratch/project_2001273/diego/flexpart-alto-data/run_2021-03-14_20-15-10_LONG/2017-12-06/flxout_d01_20171202_040000.nc opened\n"
     ]
    },
    {
     "name": "stdout",
     "output_type": "stream",
     "text": [
      "2021-03-21 20:27:34,600 useful_scit  DEBUG    file /scratch/project_2001273/diego/flexpart-alto-data/run_2021-03-14_20-15-10_LONG/2017-12-06/flxout_d01_20171202_040000.nc opened\n"
     ]
    },
    {
     "name": "stderr",
     "output_type": "stream",
     "text": [
      "2021-03-21 20:27:34,638 useful_scit  DEBUG    file /scratch/project_2001273/diego/flexpart-alto-data/run_2021-03-14_20-15-10_LONG/2017-12-06/flxout_d01_20171202_050000.nc opened\n"
     ]
    },
    {
     "name": "stdout",
     "output_type": "stream",
     "text": [
      "2021-03-21 20:27:34,638 useful_scit  DEBUG    file /scratch/project_2001273/diego/flexpart-alto-data/run_2021-03-14_20-15-10_LONG/2017-12-06/flxout_d01_20171202_050000.nc opened\n"
     ]
    },
    {
     "name": "stderr",
     "output_type": "stream",
     "text": [
      "2021-03-21 20:27:34,753 useful_scit  DEBUG    file /scratch/project_2001273/diego/flexpart-alto-data/run_2021-03-14_20-15-10_LONG/2017-12-06/flxout_d01_20171202_060000.nc opened\n"
     ]
    },
    {
     "name": "stdout",
     "output_type": "stream",
     "text": [
      "2021-03-21 20:27:34,753 useful_scit  DEBUG    file /scratch/project_2001273/diego/flexpart-alto-data/run_2021-03-14_20-15-10_LONG/2017-12-06/flxout_d01_20171202_060000.nc opened\n"
     ]
    },
    {
     "name": "stderr",
     "output_type": "stream",
     "text": [
      "2021-03-21 20:27:34,841 useful_scit  DEBUG    file /scratch/project_2001273/diego/flexpart-alto-data/run_2021-03-14_20-15-10_LONG/2017-12-06/flxout_d01_20171202_070000.nc opened\n"
     ]
    },
    {
     "name": "stdout",
     "output_type": "stream",
     "text": [
      "2021-03-21 20:27:34,841 useful_scit  DEBUG    file /scratch/project_2001273/diego/flexpart-alto-data/run_2021-03-14_20-15-10_LONG/2017-12-06/flxout_d01_20171202_070000.nc opened\n"
     ]
    },
    {
     "name": "stderr",
     "output_type": "stream",
     "text": [
      "2021-03-21 20:27:34,897 useful_scit  DEBUG    file /scratch/project_2001273/diego/flexpart-alto-data/run_2021-03-14_20-15-10_LONG/2017-12-06/flxout_d01_20171202_080000.nc opened\n"
     ]
    },
    {
     "name": "stdout",
     "output_type": "stream",
     "text": [
      "2021-03-21 20:27:34,897 useful_scit  DEBUG    file /scratch/project_2001273/diego/flexpart-alto-data/run_2021-03-14_20-15-10_LONG/2017-12-06/flxout_d01_20171202_080000.nc opened\n"
     ]
    },
    {
     "name": "stderr",
     "output_type": "stream",
     "text": [
      "2021-03-21 20:27:34,944 useful_scit  DEBUG    file /scratch/project_2001273/diego/flexpart-alto-data/run_2021-03-14_20-15-10_LONG/2017-12-06/flxout_d01_20171202_090000.nc opened\n"
     ]
    },
    {
     "name": "stdout",
     "output_type": "stream",
     "text": [
      "2021-03-21 20:27:34,944 useful_scit  DEBUG    file /scratch/project_2001273/diego/flexpart-alto-data/run_2021-03-14_20-15-10_LONG/2017-12-06/flxout_d01_20171202_090000.nc opened\n"
     ]
    },
    {
     "name": "stderr",
     "output_type": "stream",
     "text": [
      "2021-03-21 20:27:34,994 useful_scit  DEBUG    file /scratch/project_2001273/diego/flexpart-alto-data/run_2021-03-14_20-15-10_LONG/2017-12-06/flxout_d01_20171202_100000.nc opened\n"
     ]
    },
    {
     "name": "stdout",
     "output_type": "stream",
     "text": [
      "2021-03-21 20:27:34,994 useful_scit  DEBUG    file /scratch/project_2001273/diego/flexpart-alto-data/run_2021-03-14_20-15-10_LONG/2017-12-06/flxout_d01_20171202_100000.nc opened\n"
     ]
    },
    {
     "name": "stderr",
     "output_type": "stream",
     "text": [
      "2021-03-21 20:27:35,075 useful_scit  DEBUG    file /scratch/project_2001273/diego/flexpart-alto-data/run_2021-03-14_20-15-10_LONG/2017-12-06/flxout_d01_20171202_110000.nc opened\n"
     ]
    },
    {
     "name": "stdout",
     "output_type": "stream",
     "text": [
      "2021-03-21 20:27:35,075 useful_scit  DEBUG    file /scratch/project_2001273/diego/flexpart-alto-data/run_2021-03-14_20-15-10_LONG/2017-12-06/flxout_d01_20171202_110000.nc opened\n"
     ]
    },
    {
     "name": "stderr",
     "output_type": "stream",
     "text": [
      "2021-03-21 20:27:35,142 useful_scit  DEBUG    file /scratch/project_2001273/diego/flexpart-alto-data/run_2021-03-14_20-15-10_LONG/2017-12-06/flxout_d01_20171202_120000.nc opened\n"
     ]
    },
    {
     "name": "stdout",
     "output_type": "stream",
     "text": [
      "2021-03-21 20:27:35,142 useful_scit  DEBUG    file /scratch/project_2001273/diego/flexpart-alto-data/run_2021-03-14_20-15-10_LONG/2017-12-06/flxout_d01_20171202_120000.nc opened\n"
     ]
    },
    {
     "name": "stderr",
     "output_type": "stream",
     "text": [
      "2021-03-21 20:27:35,191 useful_scit  DEBUG    file /scratch/project_2001273/diego/flexpart-alto-data/run_2021-03-14_20-15-10_LONG/2017-12-06/flxout_d01_20171202_130000.nc opened\n"
     ]
    },
    {
     "name": "stdout",
     "output_type": "stream",
     "text": [
      "2021-03-21 20:27:35,191 useful_scit  DEBUG    file /scratch/project_2001273/diego/flexpart-alto-data/run_2021-03-14_20-15-10_LONG/2017-12-06/flxout_d01_20171202_130000.nc opened\n"
     ]
    },
    {
     "name": "stderr",
     "output_type": "stream",
     "text": [
      "2021-03-21 20:27:35,255 useful_scit  DEBUG    file /scratch/project_2001273/diego/flexpart-alto-data/run_2021-03-14_20-15-10_LONG/2017-12-06/flxout_d01_20171202_140000.nc opened\n"
     ]
    },
    {
     "name": "stdout",
     "output_type": "stream",
     "text": [
      "2021-03-21 20:27:35,255 useful_scit  DEBUG    file /scratch/project_2001273/diego/flexpart-alto-data/run_2021-03-14_20-15-10_LONG/2017-12-06/flxout_d01_20171202_140000.nc opened\n"
     ]
    },
    {
     "name": "stderr",
     "output_type": "stream",
     "text": [
      "2021-03-21 20:27:35,333 useful_scit  DEBUG    file /scratch/project_2001273/diego/flexpart-alto-data/run_2021-03-14_20-15-10_LONG/2017-12-06/flxout_d01_20171202_150000.nc opened\n"
     ]
    },
    {
     "name": "stdout",
     "output_type": "stream",
     "text": [
      "2021-03-21 20:27:35,333 useful_scit  DEBUG    file /scratch/project_2001273/diego/flexpart-alto-data/run_2021-03-14_20-15-10_LONG/2017-12-06/flxout_d01_20171202_150000.nc opened\n"
     ]
    },
    {
     "name": "stderr",
     "output_type": "stream",
     "text": [
      "2021-03-21 20:27:35,378 useful_scit  DEBUG    file /scratch/project_2001273/diego/flexpart-alto-data/run_2021-03-14_20-15-10_LONG/2017-12-06/flxout_d01_20171202_160000.nc opened\n"
     ]
    },
    {
     "name": "stdout",
     "output_type": "stream",
     "text": [
      "2021-03-21 20:27:35,378 useful_scit  DEBUG    file /scratch/project_2001273/diego/flexpart-alto-data/run_2021-03-14_20-15-10_LONG/2017-12-06/flxout_d01_20171202_160000.nc opened\n"
     ]
    },
    {
     "name": "stderr",
     "output_type": "stream",
     "text": [
      "2021-03-21 20:27:35,514 useful_scit  DEBUG    file /scratch/project_2001273/diego/flexpart-alto-data/run_2021-03-14_20-15-10_LONG/2017-12-06/flxout_d01_20171202_170000.nc opened\n"
     ]
    },
    {
     "name": "stdout",
     "output_type": "stream",
     "text": [
      "2021-03-21 20:27:35,514 useful_scit  DEBUG    file /scratch/project_2001273/diego/flexpart-alto-data/run_2021-03-14_20-15-10_LONG/2017-12-06/flxout_d01_20171202_170000.nc opened\n"
     ]
    },
    {
     "name": "stderr",
     "output_type": "stream",
     "text": [
      "2021-03-21 20:27:35,563 useful_scit  DEBUG    file /scratch/project_2001273/diego/flexpart-alto-data/run_2021-03-14_20-15-10_LONG/2017-12-06/flxout_d01_20171202_180000.nc opened\n"
     ]
    },
    {
     "name": "stdout",
     "output_type": "stream",
     "text": [
      "2021-03-21 20:27:35,563 useful_scit  DEBUG    file /scratch/project_2001273/diego/flexpart-alto-data/run_2021-03-14_20-15-10_LONG/2017-12-06/flxout_d01_20171202_180000.nc opened\n"
     ]
    },
    {
     "name": "stderr",
     "output_type": "stream",
     "text": [
      "2021-03-21 20:27:35,634 useful_scit  DEBUG    file /scratch/project_2001273/diego/flexpart-alto-data/run_2021-03-14_20-15-10_LONG/2017-12-06/flxout_d01_20171202_190000.nc opened\n"
     ]
    },
    {
     "name": "stdout",
     "output_type": "stream",
     "text": [
      "2021-03-21 20:27:35,634 useful_scit  DEBUG    file /scratch/project_2001273/diego/flexpart-alto-data/run_2021-03-14_20-15-10_LONG/2017-12-06/flxout_d01_20171202_190000.nc opened\n"
     ]
    },
    {
     "name": "stderr",
     "output_type": "stream",
     "text": [
      "2021-03-21 20:27:35,688 useful_scit  DEBUG    file /scratch/project_2001273/diego/flexpart-alto-data/run_2021-03-14_20-15-10_LONG/2017-12-06/flxout_d01_20171202_200000.nc opened\n"
     ]
    },
    {
     "name": "stdout",
     "output_type": "stream",
     "text": [
      "2021-03-21 20:27:35,688 useful_scit  DEBUG    file /scratch/project_2001273/diego/flexpart-alto-data/run_2021-03-14_20-15-10_LONG/2017-12-06/flxout_d01_20171202_200000.nc opened\n"
     ]
    },
    {
     "name": "stderr",
     "output_type": "stream",
     "text": [
      "2021-03-21 20:27:35,749 useful_scit  DEBUG    file /scratch/project_2001273/diego/flexpart-alto-data/run_2021-03-14_20-15-10_LONG/2017-12-06/flxout_d01_20171202_210000.nc opened\n"
     ]
    },
    {
     "name": "stdout",
     "output_type": "stream",
     "text": [
      "2021-03-21 20:27:35,749 useful_scit  DEBUG    file /scratch/project_2001273/diego/flexpart-alto-data/run_2021-03-14_20-15-10_LONG/2017-12-06/flxout_d01_20171202_210000.nc opened\n"
     ]
    },
    {
     "name": "stderr",
     "output_type": "stream",
     "text": [
      "2021-03-21 20:27:35,821 useful_scit  DEBUG    file /scratch/project_2001273/diego/flexpart-alto-data/run_2021-03-14_20-15-10_LONG/2017-12-06/flxout_d01_20171202_220000.nc opened\n"
     ]
    },
    {
     "name": "stdout",
     "output_type": "stream",
     "text": [
      "2021-03-21 20:27:35,821 useful_scit  DEBUG    file /scratch/project_2001273/diego/flexpart-alto-data/run_2021-03-14_20-15-10_LONG/2017-12-06/flxout_d01_20171202_220000.nc opened\n"
     ]
    },
    {
     "name": "stderr",
     "output_type": "stream",
     "text": [
      "2021-03-21 20:27:35,894 useful_scit  DEBUG    file /scratch/project_2001273/diego/flexpart-alto-data/run_2021-03-14_20-15-10_LONG/2017-12-06/flxout_d01_20171202_230000.nc opened\n"
     ]
    },
    {
     "name": "stdout",
     "output_type": "stream",
     "text": [
      "2021-03-21 20:27:35,894 useful_scit  DEBUG    file /scratch/project_2001273/diego/flexpart-alto-data/run_2021-03-14_20-15-10_LONG/2017-12-06/flxout_d01_20171202_230000.nc opened\n"
     ]
    },
    {
     "name": "stderr",
     "output_type": "stream",
     "text": [
      "2021-03-21 20:27:35,970 useful_scit  DEBUG    file /scratch/project_2001273/diego/flexpart-alto-data/run_2021-03-14_20-15-10_LONG/2017-12-06/flxout_d01_20171203_000000.nc opened\n"
     ]
    },
    {
     "name": "stdout",
     "output_type": "stream",
     "text": [
      "2021-03-21 20:27:35,970 useful_scit  DEBUG    file /scratch/project_2001273/diego/flexpart-alto-data/run_2021-03-14_20-15-10_LONG/2017-12-06/flxout_d01_20171203_000000.nc opened\n"
     ]
    },
    {
     "name": "stderr",
     "output_type": "stream",
     "text": [
      "2021-03-21 20:27:36,060 useful_scit  DEBUG    file /scratch/project_2001273/diego/flexpart-alto-data/run_2021-03-14_20-15-10_LONG/2017-12-06/flxout_d01_20171203_010000.nc opened\n"
     ]
    },
    {
     "name": "stdout",
     "output_type": "stream",
     "text": [
      "2021-03-21 20:27:36,060 useful_scit  DEBUG    file /scratch/project_2001273/diego/flexpart-alto-data/run_2021-03-14_20-15-10_LONG/2017-12-06/flxout_d01_20171203_010000.nc opened\n"
     ]
    },
    {
     "name": "stderr",
     "output_type": "stream",
     "text": [
      "2021-03-21 20:27:36,113 useful_scit  DEBUG    file /scratch/project_2001273/diego/flexpart-alto-data/run_2021-03-14_20-15-10_LONG/2017-12-06/flxout_d01_20171203_020000.nc opened\n"
     ]
    },
    {
     "name": "stdout",
     "output_type": "stream",
     "text": [
      "2021-03-21 20:27:36,113 useful_scit  DEBUG    file /scratch/project_2001273/diego/flexpart-alto-data/run_2021-03-14_20-15-10_LONG/2017-12-06/flxout_d01_20171203_020000.nc opened\n"
     ]
    },
    {
     "name": "stderr",
     "output_type": "stream",
     "text": [
      "2021-03-21 20:27:36,170 useful_scit  DEBUG    file /scratch/project_2001273/diego/flexpart-alto-data/run_2021-03-14_20-15-10_LONG/2017-12-06/flxout_d01_20171203_030000.nc opened\n"
     ]
    },
    {
     "name": "stdout",
     "output_type": "stream",
     "text": [
      "2021-03-21 20:27:36,170 useful_scit  DEBUG    file /scratch/project_2001273/diego/flexpart-alto-data/run_2021-03-14_20-15-10_LONG/2017-12-06/flxout_d01_20171203_030000.nc opened\n"
     ]
    },
    {
     "name": "stderr",
     "output_type": "stream",
     "text": [
      "2021-03-21 20:27:36,238 useful_scit  DEBUG    file /scratch/project_2001273/diego/flexpart-alto-data/run_2021-03-14_20-15-10_LONG/2017-12-06/flxout_d01_20171203_040000.nc opened\n"
     ]
    },
    {
     "name": "stdout",
     "output_type": "stream",
     "text": [
      "2021-03-21 20:27:36,238 useful_scit  DEBUG    file /scratch/project_2001273/diego/flexpart-alto-data/run_2021-03-14_20-15-10_LONG/2017-12-06/flxout_d01_20171203_040000.nc opened\n"
     ]
    },
    {
     "name": "stderr",
     "output_type": "stream",
     "text": [
      "2021-03-21 20:27:36,299 useful_scit  DEBUG    file /scratch/project_2001273/diego/flexpart-alto-data/run_2021-03-14_20-15-10_LONG/2017-12-06/flxout_d01_20171203_050000.nc opened\n"
     ]
    },
    {
     "name": "stdout",
     "output_type": "stream",
     "text": [
      "2021-03-21 20:27:36,299 useful_scit  DEBUG    file /scratch/project_2001273/diego/flexpart-alto-data/run_2021-03-14_20-15-10_LONG/2017-12-06/flxout_d01_20171203_050000.nc opened\n"
     ]
    },
    {
     "name": "stderr",
     "output_type": "stream",
     "text": [
      "2021-03-21 20:27:36,357 useful_scit  DEBUG    file /scratch/project_2001273/diego/flexpart-alto-data/run_2021-03-14_20-15-10_LONG/2017-12-06/flxout_d01_20171203_060000.nc opened\n"
     ]
    },
    {
     "name": "stdout",
     "output_type": "stream",
     "text": [
      "2021-03-21 20:27:36,357 useful_scit  DEBUG    file /scratch/project_2001273/diego/flexpart-alto-data/run_2021-03-14_20-15-10_LONG/2017-12-06/flxout_d01_20171203_060000.nc opened\n"
     ]
    },
    {
     "name": "stderr",
     "output_type": "stream",
     "text": [
      "2021-03-21 20:27:36,414 useful_scit  DEBUG    file /scratch/project_2001273/diego/flexpart-alto-data/run_2021-03-14_20-15-10_LONG/2017-12-06/flxout_d01_20171203_070000.nc opened\n"
     ]
    },
    {
     "name": "stdout",
     "output_type": "stream",
     "text": [
      "2021-03-21 20:27:36,414 useful_scit  DEBUG    file /scratch/project_2001273/diego/flexpart-alto-data/run_2021-03-14_20-15-10_LONG/2017-12-06/flxout_d01_20171203_070000.nc opened\n"
     ]
    },
    {
     "name": "stderr",
     "output_type": "stream",
     "text": [
      "2021-03-21 20:27:36,462 useful_scit  DEBUG    file /scratch/project_2001273/diego/flexpart-alto-data/run_2021-03-14_20-15-10_LONG/2017-12-06/flxout_d01_20171203_080000.nc opened\n"
     ]
    },
    {
     "name": "stdout",
     "output_type": "stream",
     "text": [
      "2021-03-21 20:27:36,462 useful_scit  DEBUG    file /scratch/project_2001273/diego/flexpart-alto-data/run_2021-03-14_20-15-10_LONG/2017-12-06/flxout_d01_20171203_080000.nc opened\n"
     ]
    },
    {
     "name": "stderr",
     "output_type": "stream",
     "text": [
      "2021-03-21 20:27:36,528 useful_scit  DEBUG    file /scratch/project_2001273/diego/flexpart-alto-data/run_2021-03-14_20-15-10_LONG/2017-12-06/flxout_d01_20171203_090000.nc opened\n"
     ]
    },
    {
     "name": "stdout",
     "output_type": "stream",
     "text": [
      "2021-03-21 20:27:36,528 useful_scit  DEBUG    file /scratch/project_2001273/diego/flexpart-alto-data/run_2021-03-14_20-15-10_LONG/2017-12-06/flxout_d01_20171203_090000.nc opened\n"
     ]
    },
    {
     "name": "stderr",
     "output_type": "stream",
     "text": [
      "2021-03-21 20:27:36,576 useful_scit  DEBUG    file /scratch/project_2001273/diego/flexpart-alto-data/run_2021-03-14_20-15-10_LONG/2017-12-06/flxout_d01_20171203_100000.nc opened\n"
     ]
    },
    {
     "name": "stdout",
     "output_type": "stream",
     "text": [
      "2021-03-21 20:27:36,576 useful_scit  DEBUG    file /scratch/project_2001273/diego/flexpart-alto-data/run_2021-03-14_20-15-10_LONG/2017-12-06/flxout_d01_20171203_100000.nc opened\n"
     ]
    },
    {
     "name": "stderr",
     "output_type": "stream",
     "text": [
      "2021-03-21 20:27:36,626 useful_scit  DEBUG    file /scratch/project_2001273/diego/flexpart-alto-data/run_2021-03-14_20-15-10_LONG/2017-12-06/flxout_d01_20171203_110000.nc opened\n"
     ]
    },
    {
     "name": "stdout",
     "output_type": "stream",
     "text": [
      "2021-03-21 20:27:36,626 useful_scit  DEBUG    file /scratch/project_2001273/diego/flexpart-alto-data/run_2021-03-14_20-15-10_LONG/2017-12-06/flxout_d01_20171203_110000.nc opened\n"
     ]
    },
    {
     "name": "stderr",
     "output_type": "stream",
     "text": [
      "2021-03-21 20:27:36,690 useful_scit  DEBUG    file /scratch/project_2001273/diego/flexpart-alto-data/run_2021-03-14_20-15-10_LONG/2017-12-06/flxout_d01_20171203_120000.nc opened\n"
     ]
    },
    {
     "name": "stdout",
     "output_type": "stream",
     "text": [
      "2021-03-21 20:27:36,690 useful_scit  DEBUG    file /scratch/project_2001273/diego/flexpart-alto-data/run_2021-03-14_20-15-10_LONG/2017-12-06/flxout_d01_20171203_120000.nc opened\n"
     ]
    },
    {
     "name": "stderr",
     "output_type": "stream",
     "text": [
      "2021-03-21 20:27:36,775 useful_scit  DEBUG    file /scratch/project_2001273/diego/flexpart-alto-data/run_2021-03-14_20-15-10_LONG/2017-12-06/flxout_d01_20171203_130000.nc opened\n"
     ]
    },
    {
     "name": "stdout",
     "output_type": "stream",
     "text": [
      "2021-03-21 20:27:36,775 useful_scit  DEBUG    file /scratch/project_2001273/diego/flexpart-alto-data/run_2021-03-14_20-15-10_LONG/2017-12-06/flxout_d01_20171203_130000.nc opened\n"
     ]
    },
    {
     "name": "stderr",
     "output_type": "stream",
     "text": [
      "2021-03-21 20:27:36,834 useful_scit  DEBUG    file /scratch/project_2001273/diego/flexpart-alto-data/run_2021-03-14_20-15-10_LONG/2017-12-06/flxout_d01_20171203_140000.nc opened\n"
     ]
    },
    {
     "name": "stdout",
     "output_type": "stream",
     "text": [
      "2021-03-21 20:27:36,834 useful_scit  DEBUG    file /scratch/project_2001273/diego/flexpart-alto-data/run_2021-03-14_20-15-10_LONG/2017-12-06/flxout_d01_20171203_140000.nc opened\n"
     ]
    },
    {
     "name": "stderr",
     "output_type": "stream",
     "text": [
      "2021-03-21 20:27:36,888 useful_scit  DEBUG    file /scratch/project_2001273/diego/flexpart-alto-data/run_2021-03-14_20-15-10_LONG/2017-12-06/flxout_d01_20171203_150000.nc opened\n"
     ]
    },
    {
     "name": "stdout",
     "output_type": "stream",
     "text": [
      "2021-03-21 20:27:36,888 useful_scit  DEBUG    file /scratch/project_2001273/diego/flexpart-alto-data/run_2021-03-14_20-15-10_LONG/2017-12-06/flxout_d01_20171203_150000.nc opened\n"
     ]
    },
    {
     "name": "stderr",
     "output_type": "stream",
     "text": [
      "2021-03-21 20:27:37,004 useful_scit  DEBUG    file /scratch/project_2001273/diego/flexpart-alto-data/run_2021-03-14_20-15-10_LONG/2017-12-06/flxout_d01_20171203_160000.nc opened\n"
     ]
    },
    {
     "name": "stdout",
     "output_type": "stream",
     "text": [
      "2021-03-21 20:27:37,004 useful_scit  DEBUG    file /scratch/project_2001273/diego/flexpart-alto-data/run_2021-03-14_20-15-10_LONG/2017-12-06/flxout_d01_20171203_160000.nc opened\n"
     ]
    },
    {
     "name": "stderr",
     "output_type": "stream",
     "text": [
      "2021-03-21 20:27:37,061 useful_scit  DEBUG    file /scratch/project_2001273/diego/flexpart-alto-data/run_2021-03-14_20-15-10_LONG/2017-12-06/flxout_d01_20171203_170000.nc opened\n"
     ]
    },
    {
     "name": "stdout",
     "output_type": "stream",
     "text": [
      "2021-03-21 20:27:37,061 useful_scit  DEBUG    file /scratch/project_2001273/diego/flexpart-alto-data/run_2021-03-14_20-15-10_LONG/2017-12-06/flxout_d01_20171203_170000.nc opened\n"
     ]
    },
    {
     "name": "stderr",
     "output_type": "stream",
     "text": [
      "2021-03-21 20:27:37,117 useful_scit  DEBUG    file /scratch/project_2001273/diego/flexpart-alto-data/run_2021-03-14_20-15-10_LONG/2017-12-06/flxout_d01_20171203_180000.nc opened\n"
     ]
    },
    {
     "name": "stdout",
     "output_type": "stream",
     "text": [
      "2021-03-21 20:27:37,117 useful_scit  DEBUG    file /scratch/project_2001273/diego/flexpart-alto-data/run_2021-03-14_20-15-10_LONG/2017-12-06/flxout_d01_20171203_180000.nc opened\n"
     ]
    },
    {
     "name": "stderr",
     "output_type": "stream",
     "text": [
      "2021-03-21 20:27:37,184 useful_scit  DEBUG    file /scratch/project_2001273/diego/flexpart-alto-data/run_2021-03-14_20-15-10_LONG/2017-12-06/flxout_d01_20171203_190000.nc opened\n"
     ]
    },
    {
     "name": "stdout",
     "output_type": "stream",
     "text": [
      "2021-03-21 20:27:37,184 useful_scit  DEBUG    file /scratch/project_2001273/diego/flexpart-alto-data/run_2021-03-14_20-15-10_LONG/2017-12-06/flxout_d01_20171203_190000.nc opened\n"
     ]
    },
    {
     "name": "stderr",
     "output_type": "stream",
     "text": [
      "2021-03-21 20:27:37,264 useful_scit  DEBUG    file /scratch/project_2001273/diego/flexpart-alto-data/run_2021-03-14_20-15-10_LONG/2017-12-06/flxout_d01_20171203_200000.nc opened\n"
     ]
    },
    {
     "name": "stdout",
     "output_type": "stream",
     "text": [
      "2021-03-21 20:27:37,264 useful_scit  DEBUG    file /scratch/project_2001273/diego/flexpart-alto-data/run_2021-03-14_20-15-10_LONG/2017-12-06/flxout_d01_20171203_200000.nc opened\n"
     ]
    },
    {
     "name": "stderr",
     "output_type": "stream",
     "text": [
      "2021-03-21 20:27:37,323 useful_scit  DEBUG    file /scratch/project_2001273/diego/flexpart-alto-data/run_2021-03-14_20-15-10_LONG/2017-12-06/flxout_d01_20171203_210000.nc opened\n"
     ]
    },
    {
     "name": "stdout",
     "output_type": "stream",
     "text": [
      "2021-03-21 20:27:37,323 useful_scit  DEBUG    file /scratch/project_2001273/diego/flexpart-alto-data/run_2021-03-14_20-15-10_LONG/2017-12-06/flxout_d01_20171203_210000.nc opened\n"
     ]
    },
    {
     "name": "stderr",
     "output_type": "stream",
     "text": [
      "2021-03-21 20:27:37,393 useful_scit  DEBUG    file /scratch/project_2001273/diego/flexpart-alto-data/run_2021-03-14_20-15-10_LONG/2017-12-06/flxout_d01_20171203_220000.nc opened\n"
     ]
    },
    {
     "name": "stdout",
     "output_type": "stream",
     "text": [
      "2021-03-21 20:27:37,393 useful_scit  DEBUG    file /scratch/project_2001273/diego/flexpart-alto-data/run_2021-03-14_20-15-10_LONG/2017-12-06/flxout_d01_20171203_220000.nc opened\n"
     ]
    },
    {
     "name": "stderr",
     "output_type": "stream",
     "text": [
      "2021-03-21 20:27:37,446 useful_scit  DEBUG    file /scratch/project_2001273/diego/flexpart-alto-data/run_2021-03-14_20-15-10_LONG/2017-12-06/flxout_d01_20171203_230000.nc opened\n"
     ]
    },
    {
     "name": "stdout",
     "output_type": "stream",
     "text": [
      "2021-03-21 20:27:37,446 useful_scit  DEBUG    file /scratch/project_2001273/diego/flexpart-alto-data/run_2021-03-14_20-15-10_LONG/2017-12-06/flxout_d01_20171203_230000.nc opened\n"
     ]
    },
    {
     "name": "stderr",
     "output_type": "stream",
     "text": [
      "2021-03-21 20:27:37,554 useful_scit  DEBUG    file /scratch/project_2001273/diego/flexpart-alto-data/run_2021-03-14_20-15-10_LONG/2017-12-06/flxout_d01_20171204_000000.nc opened\n"
     ]
    },
    {
     "name": "stdout",
     "output_type": "stream",
     "text": [
      "2021-03-21 20:27:37,554 useful_scit  DEBUG    file /scratch/project_2001273/diego/flexpart-alto-data/run_2021-03-14_20-15-10_LONG/2017-12-06/flxout_d01_20171204_000000.nc opened\n"
     ]
    },
    {
     "name": "stderr",
     "output_type": "stream",
     "text": [
      "2021-03-21 20:27:37,600 useful_scit  DEBUG    file /scratch/project_2001273/diego/flexpart-alto-data/run_2021-03-14_20-15-10_LONG/2017-12-06/flxout_d01_20171204_010000.nc opened\n"
     ]
    },
    {
     "name": "stdout",
     "output_type": "stream",
     "text": [
      "2021-03-21 20:27:37,600 useful_scit  DEBUG    file /scratch/project_2001273/diego/flexpart-alto-data/run_2021-03-14_20-15-10_LONG/2017-12-06/flxout_d01_20171204_010000.nc opened\n"
     ]
    },
    {
     "name": "stderr",
     "output_type": "stream",
     "text": [
      "2021-03-21 20:27:37,669 useful_scit  DEBUG    file /scratch/project_2001273/diego/flexpart-alto-data/run_2021-03-14_20-15-10_LONG/2017-12-06/flxout_d01_20171204_020000.nc opened\n"
     ]
    },
    {
     "name": "stdout",
     "output_type": "stream",
     "text": [
      "2021-03-21 20:27:37,669 useful_scit  DEBUG    file /scratch/project_2001273/diego/flexpart-alto-data/run_2021-03-14_20-15-10_LONG/2017-12-06/flxout_d01_20171204_020000.nc opened\n"
     ]
    },
    {
     "name": "stderr",
     "output_type": "stream",
     "text": [
      "2021-03-21 20:27:37,738 useful_scit  DEBUG    file /scratch/project_2001273/diego/flexpart-alto-data/run_2021-03-14_20-15-10_LONG/2017-12-06/flxout_d01_20171204_030000.nc opened\n"
     ]
    },
    {
     "name": "stdout",
     "output_type": "stream",
     "text": [
      "2021-03-21 20:27:37,738 useful_scit  DEBUG    file /scratch/project_2001273/diego/flexpart-alto-data/run_2021-03-14_20-15-10_LONG/2017-12-06/flxout_d01_20171204_030000.nc opened\n"
     ]
    },
    {
     "name": "stderr",
     "output_type": "stream",
     "text": [
      "2021-03-21 20:27:37,783 useful_scit  DEBUG    file /scratch/project_2001273/diego/flexpart-alto-data/run_2021-03-14_20-15-10_LONG/2017-12-06/flxout_d01_20171204_040000.nc opened\n"
     ]
    },
    {
     "name": "stdout",
     "output_type": "stream",
     "text": [
      "2021-03-21 20:27:37,783 useful_scit  DEBUG    file /scratch/project_2001273/diego/flexpart-alto-data/run_2021-03-14_20-15-10_LONG/2017-12-06/flxout_d01_20171204_040000.nc opened\n"
     ]
    },
    {
     "name": "stderr",
     "output_type": "stream",
     "text": [
      "2021-03-21 20:27:37,834 useful_scit  DEBUG    file /scratch/project_2001273/diego/flexpart-alto-data/run_2021-03-14_20-15-10_LONG/2017-12-06/flxout_d01_20171204_050000.nc opened\n"
     ]
    },
    {
     "name": "stdout",
     "output_type": "stream",
     "text": [
      "2021-03-21 20:27:37,834 useful_scit  DEBUG    file /scratch/project_2001273/diego/flexpart-alto-data/run_2021-03-14_20-15-10_LONG/2017-12-06/flxout_d01_20171204_050000.nc opened\n"
     ]
    },
    {
     "name": "stderr",
     "output_type": "stream",
     "text": [
      "2021-03-21 20:27:37,886 useful_scit  DEBUG    file /scratch/project_2001273/diego/flexpart-alto-data/run_2021-03-14_20-15-10_LONG/2017-12-06/flxout_d01_20171204_060000.nc opened\n"
     ]
    },
    {
     "name": "stdout",
     "output_type": "stream",
     "text": [
      "2021-03-21 20:27:37,886 useful_scit  DEBUG    file /scratch/project_2001273/diego/flexpart-alto-data/run_2021-03-14_20-15-10_LONG/2017-12-06/flxout_d01_20171204_060000.nc opened\n"
     ]
    },
    {
     "name": "stderr",
     "output_type": "stream",
     "text": [
      "2021-03-21 20:27:37,939 useful_scit  DEBUG    file /scratch/project_2001273/diego/flexpart-alto-data/run_2021-03-14_20-15-10_LONG/2017-12-06/flxout_d01_20171204_070000.nc opened\n"
     ]
    },
    {
     "name": "stdout",
     "output_type": "stream",
     "text": [
      "2021-03-21 20:27:37,939 useful_scit  DEBUG    file /scratch/project_2001273/diego/flexpart-alto-data/run_2021-03-14_20-15-10_LONG/2017-12-06/flxout_d01_20171204_070000.nc opened\n"
     ]
    },
    {
     "name": "stderr",
     "output_type": "stream",
     "text": [
      "2021-03-21 20:27:38,049 useful_scit  DEBUG    file /scratch/project_2001273/diego/flexpart-alto-data/run_2021-03-14_20-15-10_LONG/2017-12-06/flxout_d01_20171204_080000.nc opened\n"
     ]
    },
    {
     "name": "stdout",
     "output_type": "stream",
     "text": [
      "2021-03-21 20:27:38,049 useful_scit  DEBUG    file /scratch/project_2001273/diego/flexpart-alto-data/run_2021-03-14_20-15-10_LONG/2017-12-06/flxout_d01_20171204_080000.nc opened\n"
     ]
    },
    {
     "name": "stderr",
     "output_type": "stream",
     "text": [
      "2021-03-21 20:27:38,111 useful_scit  DEBUG    file /scratch/project_2001273/diego/flexpart-alto-data/run_2021-03-14_20-15-10_LONG/2017-12-06/flxout_d01_20171204_090000.nc opened\n"
     ]
    },
    {
     "name": "stdout",
     "output_type": "stream",
     "text": [
      "2021-03-21 20:27:38,111 useful_scit  DEBUG    file /scratch/project_2001273/diego/flexpart-alto-data/run_2021-03-14_20-15-10_LONG/2017-12-06/flxout_d01_20171204_090000.nc opened\n"
     ]
    },
    {
     "name": "stderr",
     "output_type": "stream",
     "text": [
      "2021-03-21 20:27:38,190 useful_scit  DEBUG    file /scratch/project_2001273/diego/flexpart-alto-data/run_2021-03-14_20-15-10_LONG/2017-12-06/flxout_d01_20171204_100000.nc opened\n"
     ]
    },
    {
     "name": "stdout",
     "output_type": "stream",
     "text": [
      "2021-03-21 20:27:38,190 useful_scit  DEBUG    file /scratch/project_2001273/diego/flexpart-alto-data/run_2021-03-14_20-15-10_LONG/2017-12-06/flxout_d01_20171204_100000.nc opened\n"
     ]
    },
    {
     "name": "stderr",
     "output_type": "stream",
     "text": [
      "2021-03-21 20:27:38,239 useful_scit  DEBUG    file /scratch/project_2001273/diego/flexpart-alto-data/run_2021-03-14_20-15-10_LONG/2017-12-06/flxout_d01_20171204_110000.nc opened\n"
     ]
    },
    {
     "name": "stdout",
     "output_type": "stream",
     "text": [
      "2021-03-21 20:27:38,239 useful_scit  DEBUG    file /scratch/project_2001273/diego/flexpart-alto-data/run_2021-03-14_20-15-10_LONG/2017-12-06/flxout_d01_20171204_110000.nc opened\n"
     ]
    },
    {
     "name": "stderr",
     "output_type": "stream",
     "text": [
      "2021-03-21 20:27:38,285 useful_scit  DEBUG    file /scratch/project_2001273/diego/flexpart-alto-data/run_2021-03-14_20-15-10_LONG/2017-12-06/flxout_d01_20171204_120000.nc opened\n"
     ]
    },
    {
     "name": "stdout",
     "output_type": "stream",
     "text": [
      "2021-03-21 20:27:38,285 useful_scit  DEBUG    file /scratch/project_2001273/diego/flexpart-alto-data/run_2021-03-14_20-15-10_LONG/2017-12-06/flxout_d01_20171204_120000.nc opened\n"
     ]
    },
    {
     "name": "stderr",
     "output_type": "stream",
     "text": [
      "2021-03-21 20:27:38,335 useful_scit  DEBUG    file /scratch/project_2001273/diego/flexpart-alto-data/run_2021-03-14_20-15-10_LONG/2017-12-06/flxout_d01_20171204_130000.nc opened\n"
     ]
    },
    {
     "name": "stdout",
     "output_type": "stream",
     "text": [
      "2021-03-21 20:27:38,335 useful_scit  DEBUG    file /scratch/project_2001273/diego/flexpart-alto-data/run_2021-03-14_20-15-10_LONG/2017-12-06/flxout_d01_20171204_130000.nc opened\n"
     ]
    },
    {
     "name": "stderr",
     "output_type": "stream",
     "text": [
      "2021-03-21 20:27:38,397 useful_scit  DEBUG    file /scratch/project_2001273/diego/flexpart-alto-data/run_2021-03-14_20-15-10_LONG/2017-12-06/flxout_d01_20171204_140000.nc opened\n"
     ]
    },
    {
     "name": "stdout",
     "output_type": "stream",
     "text": [
      "2021-03-21 20:27:38,397 useful_scit  DEBUG    file /scratch/project_2001273/diego/flexpart-alto-data/run_2021-03-14_20-15-10_LONG/2017-12-06/flxout_d01_20171204_140000.nc opened\n"
     ]
    },
    {
     "name": "stderr",
     "output_type": "stream",
     "text": [
      "2021-03-21 20:27:38,456 useful_scit  DEBUG    file /scratch/project_2001273/diego/flexpart-alto-data/run_2021-03-14_20-15-10_LONG/2017-12-06/flxout_d01_20171204_150000.nc opened\n"
     ]
    },
    {
     "name": "stdout",
     "output_type": "stream",
     "text": [
      "2021-03-21 20:27:38,456 useful_scit  DEBUG    file /scratch/project_2001273/diego/flexpart-alto-data/run_2021-03-14_20-15-10_LONG/2017-12-06/flxout_d01_20171204_150000.nc opened\n"
     ]
    },
    {
     "name": "stderr",
     "output_type": "stream",
     "text": [
      "2021-03-21 20:27:38,527 useful_scit  DEBUG    file /scratch/project_2001273/diego/flexpart-alto-data/run_2021-03-14_20-15-10_LONG/2017-12-06/flxout_d01_20171204_160000.nc opened\n"
     ]
    },
    {
     "name": "stdout",
     "output_type": "stream",
     "text": [
      "2021-03-21 20:27:38,527 useful_scit  DEBUG    file /scratch/project_2001273/diego/flexpart-alto-data/run_2021-03-14_20-15-10_LONG/2017-12-06/flxout_d01_20171204_160000.nc opened\n"
     ]
    },
    {
     "name": "stderr",
     "output_type": "stream",
     "text": [
      "2021-03-21 20:27:38,574 useful_scit  DEBUG    file /scratch/project_2001273/diego/flexpart-alto-data/run_2021-03-14_20-15-10_LONG/2017-12-06/flxout_d01_20171204_170000.nc opened\n"
     ]
    },
    {
     "name": "stdout",
     "output_type": "stream",
     "text": [
      "2021-03-21 20:27:38,574 useful_scit  DEBUG    file /scratch/project_2001273/diego/flexpart-alto-data/run_2021-03-14_20-15-10_LONG/2017-12-06/flxout_d01_20171204_170000.nc opened\n"
     ]
    },
    {
     "name": "stderr",
     "output_type": "stream",
     "text": [
      "2021-03-21 20:27:38,620 useful_scit  DEBUG    file /scratch/project_2001273/diego/flexpart-alto-data/run_2021-03-14_20-15-10_LONG/2017-12-06/flxout_d01_20171204_180000.nc opened\n"
     ]
    },
    {
     "name": "stdout",
     "output_type": "stream",
     "text": [
      "2021-03-21 20:27:38,620 useful_scit  DEBUG    file /scratch/project_2001273/diego/flexpart-alto-data/run_2021-03-14_20-15-10_LONG/2017-12-06/flxout_d01_20171204_180000.nc opened\n"
     ]
    },
    {
     "name": "stderr",
     "output_type": "stream",
     "text": [
      "2021-03-21 20:27:38,686 useful_scit  DEBUG    file /scratch/project_2001273/diego/flexpart-alto-data/run_2021-03-14_20-15-10_LONG/2017-12-06/flxout_d01_20171204_190000.nc opened\n"
     ]
    },
    {
     "name": "stdout",
     "output_type": "stream",
     "text": [
      "2021-03-21 20:27:38,686 useful_scit  DEBUG    file /scratch/project_2001273/diego/flexpart-alto-data/run_2021-03-14_20-15-10_LONG/2017-12-06/flxout_d01_20171204_190000.nc opened\n"
     ]
    },
    {
     "name": "stderr",
     "output_type": "stream",
     "text": [
      "2021-03-21 20:27:38,774 useful_scit  DEBUG    file /scratch/project_2001273/diego/flexpart-alto-data/run_2021-03-14_20-15-10_LONG/2017-12-06/flxout_d01_20171204_200000.nc opened\n"
     ]
    },
    {
     "name": "stdout",
     "output_type": "stream",
     "text": [
      "2021-03-21 20:27:38,774 useful_scit  DEBUG    file /scratch/project_2001273/diego/flexpart-alto-data/run_2021-03-14_20-15-10_LONG/2017-12-06/flxout_d01_20171204_200000.nc opened\n"
     ]
    },
    {
     "name": "stderr",
     "output_type": "stream",
     "text": [
      "2021-03-21 20:27:38,821 useful_scit  DEBUG    file /scratch/project_2001273/diego/flexpart-alto-data/run_2021-03-14_20-15-10_LONG/2017-12-06/flxout_d01_20171204_210000.nc opened\n"
     ]
    },
    {
     "name": "stdout",
     "output_type": "stream",
     "text": [
      "2021-03-21 20:27:38,821 useful_scit  DEBUG    file /scratch/project_2001273/diego/flexpart-alto-data/run_2021-03-14_20-15-10_LONG/2017-12-06/flxout_d01_20171204_210000.nc opened\n"
     ]
    },
    {
     "name": "stderr",
     "output_type": "stream",
     "text": [
      "2021-03-21 20:27:38,855 useful_scit  DEBUG    file /scratch/project_2001273/diego/flexpart-alto-data/run_2021-03-14_20-15-10_LONG/2017-12-06/flxout_d01_20171204_220000.nc opened\n"
     ]
    },
    {
     "name": "stdout",
     "output_type": "stream",
     "text": [
      "2021-03-21 20:27:38,855 useful_scit  DEBUG    file /scratch/project_2001273/diego/flexpart-alto-data/run_2021-03-14_20-15-10_LONG/2017-12-06/flxout_d01_20171204_220000.nc opened\n"
     ]
    },
    {
     "name": "stderr",
     "output_type": "stream",
     "text": [
      "2021-03-21 20:27:38,899 useful_scit  DEBUG    file /scratch/project_2001273/diego/flexpart-alto-data/run_2021-03-14_20-15-10_LONG/2017-12-06/flxout_d01_20171204_230000.nc opened\n"
     ]
    },
    {
     "name": "stdout",
     "output_type": "stream",
     "text": [
      "2021-03-21 20:27:38,899 useful_scit  DEBUG    file /scratch/project_2001273/diego/flexpart-alto-data/run_2021-03-14_20-15-10_LONG/2017-12-06/flxout_d01_20171204_230000.nc opened\n"
     ]
    },
    {
     "name": "stderr",
     "output_type": "stream",
     "text": [
      "2021-03-21 20:27:38,939 useful_scit  DEBUG    file /scratch/project_2001273/diego/flexpart-alto-data/run_2021-03-14_20-15-10_LONG/2017-12-06/flxout_d01_20171205_000000.nc opened\n"
     ]
    },
    {
     "name": "stdout",
     "output_type": "stream",
     "text": [
      "2021-03-21 20:27:38,939 useful_scit  DEBUG    file /scratch/project_2001273/diego/flexpart-alto-data/run_2021-03-14_20-15-10_LONG/2017-12-06/flxout_d01_20171205_000000.nc opened\n"
     ]
    },
    {
     "name": "stderr",
     "output_type": "stream",
     "text": [
      "2021-03-21 20:27:39,000 useful_scit  DEBUG    file /scratch/project_2001273/diego/flexpart-alto-data/run_2021-03-14_20-15-10_LONG/2017-12-06/flxout_d01_20171205_010000.nc opened\n"
     ]
    },
    {
     "name": "stdout",
     "output_type": "stream",
     "text": [
      "2021-03-21 20:27:39,000 useful_scit  DEBUG    file /scratch/project_2001273/diego/flexpart-alto-data/run_2021-03-14_20-15-10_LONG/2017-12-06/flxout_d01_20171205_010000.nc opened\n"
     ]
    },
    {
     "name": "stderr",
     "output_type": "stream",
     "text": [
      "2021-03-21 20:27:39,046 useful_scit  DEBUG    file /scratch/project_2001273/diego/flexpart-alto-data/run_2021-03-14_20-15-10_LONG/2017-12-06/flxout_d01_20171205_020000.nc opened\n"
     ]
    },
    {
     "name": "stdout",
     "output_type": "stream",
     "text": [
      "2021-03-21 20:27:39,046 useful_scit  DEBUG    file /scratch/project_2001273/diego/flexpart-alto-data/run_2021-03-14_20-15-10_LONG/2017-12-06/flxout_d01_20171205_020000.nc opened\n"
     ]
    },
    {
     "name": "stderr",
     "output_type": "stream",
     "text": [
      "2021-03-21 20:27:39,125 useful_scit  DEBUG    file /scratch/project_2001273/diego/flexpart-alto-data/run_2021-03-14_20-15-10_LONG/2017-12-06/flxout_d01_20171205_030000.nc opened\n"
     ]
    },
    {
     "name": "stdout",
     "output_type": "stream",
     "text": [
      "2021-03-21 20:27:39,125 useful_scit  DEBUG    file /scratch/project_2001273/diego/flexpart-alto-data/run_2021-03-14_20-15-10_LONG/2017-12-06/flxout_d01_20171205_030000.nc opened\n"
     ]
    },
    {
     "name": "stderr",
     "output_type": "stream",
     "text": [
      "2021-03-21 20:27:39,178 useful_scit  DEBUG    file /scratch/project_2001273/diego/flexpart-alto-data/run_2021-03-14_20-15-10_LONG/2017-12-06/flxout_d01_20171205_040000.nc opened\n"
     ]
    },
    {
     "name": "stdout",
     "output_type": "stream",
     "text": [
      "2021-03-21 20:27:39,178 useful_scit  DEBUG    file /scratch/project_2001273/diego/flexpart-alto-data/run_2021-03-14_20-15-10_LONG/2017-12-06/flxout_d01_20171205_040000.nc opened\n"
     ]
    },
    {
     "name": "stderr",
     "output_type": "stream",
     "text": [
      "2021-03-21 20:27:39,234 useful_scit  DEBUG    file /scratch/project_2001273/diego/flexpart-alto-data/run_2021-03-14_20-15-10_LONG/2017-12-06/flxout_d01_20171205_050000.nc opened\n"
     ]
    },
    {
     "name": "stdout",
     "output_type": "stream",
     "text": [
      "2021-03-21 20:27:39,234 useful_scit  DEBUG    file /scratch/project_2001273/diego/flexpart-alto-data/run_2021-03-14_20-15-10_LONG/2017-12-06/flxout_d01_20171205_050000.nc opened\n"
     ]
    },
    {
     "name": "stderr",
     "output_type": "stream",
     "text": [
      "2021-03-21 20:27:39,302 useful_scit  DEBUG    file /scratch/project_2001273/diego/flexpart-alto-data/run_2021-03-14_20-15-10_LONG/2017-12-06/flxout_d01_20171205_060000.nc opened\n"
     ]
    },
    {
     "name": "stdout",
     "output_type": "stream",
     "text": [
      "2021-03-21 20:27:39,302 useful_scit  DEBUG    file /scratch/project_2001273/diego/flexpart-alto-data/run_2021-03-14_20-15-10_LONG/2017-12-06/flxout_d01_20171205_060000.nc opened\n"
     ]
    },
    {
     "name": "stderr",
     "output_type": "stream",
     "text": [
      "2021-03-21 20:27:39,348 useful_scit  DEBUG    file /scratch/project_2001273/diego/flexpart-alto-data/run_2021-03-14_20-15-10_LONG/2017-12-06/flxout_d01_20171205_070000.nc opened\n"
     ]
    },
    {
     "name": "stdout",
     "output_type": "stream",
     "text": [
      "2021-03-21 20:27:39,348 useful_scit  DEBUG    file /scratch/project_2001273/diego/flexpart-alto-data/run_2021-03-14_20-15-10_LONG/2017-12-06/flxout_d01_20171205_070000.nc opened\n"
     ]
    },
    {
     "name": "stderr",
     "output_type": "stream",
     "text": [
      "2021-03-21 20:27:39,403 useful_scit  DEBUG    file /scratch/project_2001273/diego/flexpart-alto-data/run_2021-03-14_20-15-10_LONG/2017-12-06/flxout_d01_20171205_080000.nc opened\n"
     ]
    },
    {
     "name": "stdout",
     "output_type": "stream",
     "text": [
      "2021-03-21 20:27:39,403 useful_scit  DEBUG    file /scratch/project_2001273/diego/flexpart-alto-data/run_2021-03-14_20-15-10_LONG/2017-12-06/flxout_d01_20171205_080000.nc opened\n"
     ]
    },
    {
     "name": "stderr",
     "output_type": "stream",
     "text": [
      "2021-03-21 20:27:39,453 useful_scit  DEBUG    file /scratch/project_2001273/diego/flexpart-alto-data/run_2021-03-14_20-15-10_LONG/2017-12-06/flxout_d01_20171205_090000.nc opened\n"
     ]
    },
    {
     "name": "stdout",
     "output_type": "stream",
     "text": [
      "2021-03-21 20:27:39,453 useful_scit  DEBUG    file /scratch/project_2001273/diego/flexpart-alto-data/run_2021-03-14_20-15-10_LONG/2017-12-06/flxout_d01_20171205_090000.nc opened\n"
     ]
    },
    {
     "name": "stderr",
     "output_type": "stream",
     "text": [
      "2021-03-21 20:27:39,498 useful_scit  DEBUG    file /scratch/project_2001273/diego/flexpart-alto-data/run_2021-03-14_20-15-10_LONG/2017-12-06/flxout_d01_20171205_100000.nc opened\n"
     ]
    },
    {
     "name": "stdout",
     "output_type": "stream",
     "text": [
      "2021-03-21 20:27:39,498 useful_scit  DEBUG    file /scratch/project_2001273/diego/flexpart-alto-data/run_2021-03-14_20-15-10_LONG/2017-12-06/flxout_d01_20171205_100000.nc opened\n"
     ]
    },
    {
     "name": "stderr",
     "output_type": "stream",
     "text": [
      "2021-03-21 20:27:39,542 useful_scit  DEBUG    file /scratch/project_2001273/diego/flexpart-alto-data/run_2021-03-14_20-15-10_LONG/2017-12-06/flxout_d01_20171205_110000.nc opened\n"
     ]
    },
    {
     "name": "stdout",
     "output_type": "stream",
     "text": [
      "2021-03-21 20:27:39,542 useful_scit  DEBUG    file /scratch/project_2001273/diego/flexpart-alto-data/run_2021-03-14_20-15-10_LONG/2017-12-06/flxout_d01_20171205_110000.nc opened\n"
     ]
    },
    {
     "name": "stderr",
     "output_type": "stream",
     "text": [
      "2021-03-21 20:27:39,610 useful_scit  DEBUG    file /scratch/project_2001273/diego/flexpart-alto-data/run_2021-03-14_20-15-10_LONG/2017-12-06/flxout_d01_20171205_120000.nc opened\n"
     ]
    },
    {
     "name": "stdout",
     "output_type": "stream",
     "text": [
      "2021-03-21 20:27:39,610 useful_scit  DEBUG    file /scratch/project_2001273/diego/flexpart-alto-data/run_2021-03-14_20-15-10_LONG/2017-12-06/flxout_d01_20171205_120000.nc opened\n"
     ]
    },
    {
     "name": "stderr",
     "output_type": "stream",
     "text": [
      "2021-03-21 20:27:39,668 useful_scit  DEBUG    file /scratch/project_2001273/diego/flexpart-alto-data/run_2021-03-14_20-15-10_LONG/2017-12-06/flxout_d01_20171205_130000.nc opened\n"
     ]
    },
    {
     "name": "stdout",
     "output_type": "stream",
     "text": [
      "2021-03-21 20:27:39,668 useful_scit  DEBUG    file /scratch/project_2001273/diego/flexpart-alto-data/run_2021-03-14_20-15-10_LONG/2017-12-06/flxout_d01_20171205_130000.nc opened\n"
     ]
    },
    {
     "name": "stderr",
     "output_type": "stream",
     "text": [
      "2021-03-21 20:27:39,757 useful_scit  DEBUG    file /scratch/project_2001273/diego/flexpart-alto-data/run_2021-03-14_20-15-10_LONG/2017-12-06/flxout_d01_20171205_140000.nc opened\n"
     ]
    },
    {
     "name": "stdout",
     "output_type": "stream",
     "text": [
      "2021-03-21 20:27:39,757 useful_scit  DEBUG    file /scratch/project_2001273/diego/flexpart-alto-data/run_2021-03-14_20-15-10_LONG/2017-12-06/flxout_d01_20171205_140000.nc opened\n"
     ]
    },
    {
     "name": "stderr",
     "output_type": "stream",
     "text": [
      "2021-03-21 20:27:39,800 useful_scit  DEBUG    file /scratch/project_2001273/diego/flexpart-alto-data/run_2021-03-14_20-15-10_LONG/2017-12-06/flxout_d01_20171205_150000.nc opened\n"
     ]
    },
    {
     "name": "stdout",
     "output_type": "stream",
     "text": [
      "2021-03-21 20:27:39,800 useful_scit  DEBUG    file /scratch/project_2001273/diego/flexpart-alto-data/run_2021-03-14_20-15-10_LONG/2017-12-06/flxout_d01_20171205_150000.nc opened\n"
     ]
    },
    {
     "name": "stderr",
     "output_type": "stream",
     "text": [
      "2021-03-21 20:27:39,832 useful_scit  DEBUG    file /scratch/project_2001273/diego/flexpart-alto-data/run_2021-03-14_20-15-10_LONG/2017-12-06/flxout_d01_20171205_160000.nc opened\n"
     ]
    },
    {
     "name": "stdout",
     "output_type": "stream",
     "text": [
      "2021-03-21 20:27:39,832 useful_scit  DEBUG    file /scratch/project_2001273/diego/flexpart-alto-data/run_2021-03-14_20-15-10_LONG/2017-12-06/flxout_d01_20171205_160000.nc opened\n"
     ]
    },
    {
     "name": "stderr",
     "output_type": "stream",
     "text": [
      "2021-03-21 20:27:39,886 useful_scit  DEBUG    file /scratch/project_2001273/diego/flexpart-alto-data/run_2021-03-14_20-15-10_LONG/2017-12-06/flxout_d01_20171205_170000.nc opened\n"
     ]
    },
    {
     "name": "stdout",
     "output_type": "stream",
     "text": [
      "2021-03-21 20:27:39,886 useful_scit  DEBUG    file /scratch/project_2001273/diego/flexpart-alto-data/run_2021-03-14_20-15-10_LONG/2017-12-06/flxout_d01_20171205_170000.nc opened\n"
     ]
    },
    {
     "name": "stderr",
     "output_type": "stream",
     "text": [
      "2021-03-21 20:27:39,935 useful_scit  DEBUG    file /scratch/project_2001273/diego/flexpart-alto-data/run_2021-03-14_20-15-10_LONG/2017-12-06/flxout_d01_20171205_180000.nc opened\n"
     ]
    },
    {
     "name": "stdout",
     "output_type": "stream",
     "text": [
      "2021-03-21 20:27:39,935 useful_scit  DEBUG    file /scratch/project_2001273/diego/flexpart-alto-data/run_2021-03-14_20-15-10_LONG/2017-12-06/flxout_d01_20171205_180000.nc opened\n"
     ]
    },
    {
     "name": "stderr",
     "output_type": "stream",
     "text": [
      "2021-03-21 20:27:40,083 useful_scit  DEBUG    file /scratch/project_2001273/diego/flexpart-alto-data/run_2021-03-14_20-15-10_LONG/2017-12-06/flxout_d01_20171205_190000.nc opened\n"
     ]
    },
    {
     "name": "stdout",
     "output_type": "stream",
     "text": [
      "2021-03-21 20:27:40,083 useful_scit  DEBUG    file /scratch/project_2001273/diego/flexpart-alto-data/run_2021-03-14_20-15-10_LONG/2017-12-06/flxout_d01_20171205_190000.nc opened\n"
     ]
    },
    {
     "name": "stderr",
     "output_type": "stream",
     "text": [
      "2021-03-21 20:27:40,143 useful_scit  DEBUG    file /scratch/project_2001273/diego/flexpart-alto-data/run_2021-03-14_20-15-10_LONG/2017-12-06/flxout_d01_20171205_200000.nc opened\n"
     ]
    },
    {
     "name": "stdout",
     "output_type": "stream",
     "text": [
      "2021-03-21 20:27:40,143 useful_scit  DEBUG    file /scratch/project_2001273/diego/flexpart-alto-data/run_2021-03-14_20-15-10_LONG/2017-12-06/flxout_d01_20171205_200000.nc opened\n"
     ]
    },
    {
     "name": "stderr",
     "output_type": "stream",
     "text": [
      "2021-03-21 20:27:40,221 useful_scit  DEBUG    file /scratch/project_2001273/diego/flexpart-alto-data/run_2021-03-14_20-15-10_LONG/2017-12-06/flxout_d01_20171205_210000.nc opened\n"
     ]
    },
    {
     "name": "stdout",
     "output_type": "stream",
     "text": [
      "2021-03-21 20:27:40,221 useful_scit  DEBUG    file /scratch/project_2001273/diego/flexpart-alto-data/run_2021-03-14_20-15-10_LONG/2017-12-06/flxout_d01_20171205_210000.nc opened\n"
     ]
    },
    {
     "name": "stderr",
     "output_type": "stream",
     "text": [
      "2021-03-21 20:27:40,277 useful_scit  DEBUG    file /scratch/project_2001273/diego/flexpart-alto-data/run_2021-03-14_20-15-10_LONG/2017-12-06/flxout_d01_20171205_220000.nc opened\n"
     ]
    },
    {
     "name": "stdout",
     "output_type": "stream",
     "text": [
      "2021-03-21 20:27:40,277 useful_scit  DEBUG    file /scratch/project_2001273/diego/flexpart-alto-data/run_2021-03-14_20-15-10_LONG/2017-12-06/flxout_d01_20171205_220000.nc opened\n"
     ]
    },
    {
     "name": "stderr",
     "output_type": "stream",
     "text": [
      "2021-03-21 20:27:40,331 useful_scit  DEBUG    file /scratch/project_2001273/diego/flexpart-alto-data/run_2021-03-14_20-15-10_LONG/2017-12-06/flxout_d01_20171205_230000.nc opened\n"
     ]
    },
    {
     "name": "stdout",
     "output_type": "stream",
     "text": [
      "2021-03-21 20:27:40,331 useful_scit  DEBUG    file /scratch/project_2001273/diego/flexpart-alto-data/run_2021-03-14_20-15-10_LONG/2017-12-06/flxout_d01_20171205_230000.nc opened\n"
     ]
    },
    {
     "name": "stderr",
     "output_type": "stream",
     "text": [
      "2021-03-21 20:27:40,376 useful_scit  DEBUG    file /scratch/project_2001273/diego/flexpart-alto-data/run_2021-03-14_20-15-10_LONG/2017-12-06/flxout_d01_20171206_000000.nc opened\n"
     ]
    },
    {
     "name": "stdout",
     "output_type": "stream",
     "text": [
      "2021-03-21 20:27:40,376 useful_scit  DEBUG    file /scratch/project_2001273/diego/flexpart-alto-data/run_2021-03-14_20-15-10_LONG/2017-12-06/flxout_d01_20171206_000000.nc opened\n"
     ]
    },
    {
     "name": "stderr",
     "output_type": "stream",
     "text": [
      "2021-03-21 20:27:40,425 useful_scit  DEBUG    file /scratch/project_2001273/diego/flexpart-alto-data/run_2021-03-14_20-15-10_LONG/2017-12-06/flxout_d01_20171206_010000.nc opened\n"
     ]
    },
    {
     "name": "stdout",
     "output_type": "stream",
     "text": [
      "2021-03-21 20:27:40,425 useful_scit  DEBUG    file /scratch/project_2001273/diego/flexpart-alto-data/run_2021-03-14_20-15-10_LONG/2017-12-06/flxout_d01_20171206_010000.nc opened\n"
     ]
    },
    {
     "name": "stderr",
     "output_type": "stream",
     "text": [
      "2021-03-21 20:27:40,519 useful_scit  DEBUG    file /scratch/project_2001273/diego/flexpart-alto-data/run_2021-03-14_20-15-10_LONG/2017-12-06/flxout_d01_20171206_020000.nc opened\n"
     ]
    },
    {
     "name": "stdout",
     "output_type": "stream",
     "text": [
      "2021-03-21 20:27:40,519 useful_scit  DEBUG    file /scratch/project_2001273/diego/flexpart-alto-data/run_2021-03-14_20-15-10_LONG/2017-12-06/flxout_d01_20171206_020000.nc opened\n"
     ]
    },
    {
     "name": "stderr",
     "output_type": "stream",
     "text": [
      "2021-03-21 20:27:40,563 useful_scit  DEBUG    file /scratch/project_2001273/diego/flexpart-alto-data/run_2021-03-14_20-15-10_LONG/2017-12-06/flxout_d01_20171206_030000.nc opened\n"
     ]
    },
    {
     "name": "stdout",
     "output_type": "stream",
     "text": [
      "2021-03-21 20:27:40,563 useful_scit  DEBUG    file /scratch/project_2001273/diego/flexpart-alto-data/run_2021-03-14_20-15-10_LONG/2017-12-06/flxout_d01_20171206_030000.nc opened\n"
     ]
    },
    {
     "name": "stderr",
     "output_type": "stream",
     "text": [
      "2021-03-21 20:27:40,599 useful_scit  DEBUG    file /scratch/project_2001273/diego/flexpart-alto-data/run_2021-03-14_20-15-10_LONG/2017-12-06/flxout_d01_20171206_040000.nc opened\n"
     ]
    },
    {
     "name": "stdout",
     "output_type": "stream",
     "text": [
      "2021-03-21 20:27:40,599 useful_scit  DEBUG    file /scratch/project_2001273/diego/flexpart-alto-data/run_2021-03-14_20-15-10_LONG/2017-12-06/flxout_d01_20171206_040000.nc opened\n"
     ]
    },
    {
     "name": "stderr",
     "output_type": "stream",
     "text": [
      "2021-03-21 20:27:40,661 useful_scit  DEBUG    file /scratch/project_2001273/diego/flexpart-alto-data/run_2021-03-14_20-15-10_LONG/2017-12-06/flxout_d01_20171206_050000.nc opened\n"
     ]
    },
    {
     "name": "stdout",
     "output_type": "stream",
     "text": [
      "2021-03-21 20:27:40,661 useful_scit  DEBUG    file /scratch/project_2001273/diego/flexpart-alto-data/run_2021-03-14_20-15-10_LONG/2017-12-06/flxout_d01_20171206_050000.nc opened\n"
     ]
    },
    {
     "name": "stderr",
     "output_type": "stream",
     "text": [
      "2021-03-21 20:27:40,703 useful_scit  DEBUG    file /scratch/project_2001273/diego/flexpart-alto-data/run_2021-03-14_20-15-10_LONG/2017-12-06/flxout_d01_20171206_060000.nc opened\n"
     ]
    },
    {
     "name": "stdout",
     "output_type": "stream",
     "text": [
      "2021-03-21 20:27:40,703 useful_scit  DEBUG    file /scratch/project_2001273/diego/flexpart-alto-data/run_2021-03-14_20-15-10_LONG/2017-12-06/flxout_d01_20171206_060000.nc opened\n"
     ]
    },
    {
     "name": "stderr",
     "output_type": "stream",
     "text": [
      "2021-03-21 20:27:40,741 useful_scit  DEBUG    file /scratch/project_2001273/diego/flexpart-alto-data/run_2021-03-14_20-15-10_LONG/2017-12-06/flxout_d01_20171206_070000.nc opened\n"
     ]
    },
    {
     "name": "stdout",
     "output_type": "stream",
     "text": [
      "2021-03-21 20:27:40,741 useful_scit  DEBUG    file /scratch/project_2001273/diego/flexpart-alto-data/run_2021-03-14_20-15-10_LONG/2017-12-06/flxout_d01_20171206_070000.nc opened\n"
     ]
    },
    {
     "name": "stderr",
     "output_type": "stream",
     "text": [
      "2021-03-21 20:27:40,786 useful_scit  DEBUG    file /scratch/project_2001273/diego/flexpart-alto-data/run_2021-03-14_20-15-10_LONG/2017-12-06/flxout_d01_20171206_080000.nc opened\n"
     ]
    },
    {
     "name": "stdout",
     "output_type": "stream",
     "text": [
      "2021-03-21 20:27:40,786 useful_scit  DEBUG    file /scratch/project_2001273/diego/flexpart-alto-data/run_2021-03-14_20-15-10_LONG/2017-12-06/flxout_d01_20171206_080000.nc opened\n"
     ]
    },
    {
     "name": "stderr",
     "output_type": "stream",
     "text": [
      "2021-03-21 20:27:40,840 useful_scit  DEBUG    file /scratch/project_2001273/diego/flexpart-alto-data/run_2021-03-14_20-15-10_LONG/2017-12-06/flxout_d01_20171206_090000.nc opened\n"
     ]
    },
    {
     "name": "stdout",
     "output_type": "stream",
     "text": [
      "2021-03-21 20:27:40,840 useful_scit  DEBUG    file /scratch/project_2001273/diego/flexpart-alto-data/run_2021-03-14_20-15-10_LONG/2017-12-06/flxout_d01_20171206_090000.nc opened\n"
     ]
    },
    {
     "name": "stderr",
     "output_type": "stream",
     "text": [
      "2021-03-21 20:27:40,883 useful_scit  DEBUG    file /scratch/project_2001273/diego/flexpart-alto-data/run_2021-03-14_20-15-10_LONG/2017-12-06/flxout_d01_20171206_100000.nc opened\n"
     ]
    },
    {
     "name": "stdout",
     "output_type": "stream",
     "text": [
      "2021-03-21 20:27:40,883 useful_scit  DEBUG    file /scratch/project_2001273/diego/flexpart-alto-data/run_2021-03-14_20-15-10_LONG/2017-12-06/flxout_d01_20171206_100000.nc opened\n"
     ]
    },
    {
     "name": "stderr",
     "output_type": "stream",
     "text": [
      "2021-03-21 20:27:40,938 useful_scit  DEBUG    file /scratch/project_2001273/diego/flexpart-alto-data/run_2021-03-14_20-15-10_LONG/2017-12-06/flxout_d01_20171206_110000.nc opened\n"
     ]
    },
    {
     "name": "stdout",
     "output_type": "stream",
     "text": [
      "2021-03-21 20:27:40,938 useful_scit  DEBUG    file /scratch/project_2001273/diego/flexpart-alto-data/run_2021-03-14_20-15-10_LONG/2017-12-06/flxout_d01_20171206_110000.nc opened\n"
     ]
    },
    {
     "name": "stderr",
     "output_type": "stream",
     "text": [
      "2021-03-21 20:27:40,989 useful_scit  DEBUG    file /scratch/project_2001273/diego/flexpart-alto-data/run_2021-03-14_20-15-10_LONG/2017-12-06/flxout_d01_20171206_120000.nc opened\n"
     ]
    },
    {
     "name": "stdout",
     "output_type": "stream",
     "text": [
      "2021-03-21 20:27:40,989 useful_scit  DEBUG    file /scratch/project_2001273/diego/flexpart-alto-data/run_2021-03-14_20-15-10_LONG/2017-12-06/flxout_d01_20171206_120000.nc opened\n"
     ]
    },
    {
     "name": "stderr",
     "output_type": "stream",
     "text": [
      "2021-03-21 20:27:41,040 useful_scit  DEBUG    file /scratch/project_2001273/diego/flexpart-alto-data/run_2021-03-14_20-15-10_LONG/2017-12-06/flxout_d01_20171206_130000.nc opened\n"
     ]
    },
    {
     "name": "stdout",
     "output_type": "stream",
     "text": [
      "2021-03-21 20:27:41,040 useful_scit  DEBUG    file /scratch/project_2001273/diego/flexpart-alto-data/run_2021-03-14_20-15-10_LONG/2017-12-06/flxout_d01_20171206_130000.nc opened\n"
     ]
    },
    {
     "name": "stderr",
     "output_type": "stream",
     "text": [
      "2021-03-21 20:27:41,122 useful_scit  DEBUG    file /scratch/project_2001273/diego/flexpart-alto-data/run_2021-03-14_20-15-10_LONG/2017-12-06/flxout_d01_20171206_140000.nc opened\n"
     ]
    },
    {
     "name": "stdout",
     "output_type": "stream",
     "text": [
      "2021-03-21 20:27:41,122 useful_scit  DEBUG    file /scratch/project_2001273/diego/flexpart-alto-data/run_2021-03-14_20-15-10_LONG/2017-12-06/flxout_d01_20171206_140000.nc opened\n"
     ]
    },
    {
     "name": "stderr",
     "output_type": "stream",
     "text": [
      "2021-03-21 20:27:41,159 useful_scit  DEBUG    file /scratch/project_2001273/diego/flexpart-alto-data/run_2021-03-14_20-15-10_LONG/2017-12-06/flxout_d01_20171206_150000.nc opened\n"
     ]
    },
    {
     "name": "stdout",
     "output_type": "stream",
     "text": [
      "2021-03-21 20:27:41,159 useful_scit  DEBUG    file /scratch/project_2001273/diego/flexpart-alto-data/run_2021-03-14_20-15-10_LONG/2017-12-06/flxout_d01_20171206_150000.nc opened\n"
     ]
    },
    {
     "name": "stderr",
     "output_type": "stream",
     "text": [
      "2021-03-21 20:27:41,223 useful_scit  DEBUG    file /scratch/project_2001273/diego/flexpart-alto-data/run_2021-03-14_20-15-10_LONG/2017-12-06/flxout_d01_20171206_160000.nc opened\n"
     ]
    },
    {
     "name": "stdout",
     "output_type": "stream",
     "text": [
      "2021-03-21 20:27:41,223 useful_scit  DEBUG    file /scratch/project_2001273/diego/flexpart-alto-data/run_2021-03-14_20-15-10_LONG/2017-12-06/flxout_d01_20171206_160000.nc opened\n"
     ]
    },
    {
     "name": "stderr",
     "output_type": "stream",
     "text": [
      "2021-03-21 20:27:41,271 useful_scit  DEBUG    file /scratch/project_2001273/diego/flexpart-alto-data/run_2021-03-14_20-15-10_LONG/2017-12-06/flxout_d01_20171206_170000.nc opened\n"
     ]
    },
    {
     "name": "stdout",
     "output_type": "stream",
     "text": [
      "2021-03-21 20:27:41,271 useful_scit  DEBUG    file /scratch/project_2001273/diego/flexpart-alto-data/run_2021-03-14_20-15-10_LONG/2017-12-06/flxout_d01_20171206_170000.nc opened\n"
     ]
    },
    {
     "name": "stderr",
     "output_type": "stream",
     "text": [
      "2021-03-21 20:27:41,315 useful_scit  DEBUG    file /scratch/project_2001273/diego/flexpart-alto-data/run_2021-03-14_20-15-10_LONG/2017-12-06/flxout_d01_20171206_180000.nc opened\n"
     ]
    },
    {
     "name": "stdout",
     "output_type": "stream",
     "text": [
      "2021-03-21 20:27:41,315 useful_scit  DEBUG    file /scratch/project_2001273/diego/flexpart-alto-data/run_2021-03-14_20-15-10_LONG/2017-12-06/flxout_d01_20171206_180000.nc opened\n"
     ]
    },
    {
     "name": "stderr",
     "output_type": "stream",
     "text": [
      "2021-03-21 20:27:41,354 useful_scit  DEBUG    file /scratch/project_2001273/diego/flexpart-alto-data/run_2021-03-14_20-15-10_LONG/2017-12-06/flxout_d01_20171206_190000.nc opened\n"
     ]
    },
    {
     "name": "stdout",
     "output_type": "stream",
     "text": [
      "2021-03-21 20:27:41,354 useful_scit  DEBUG    file /scratch/project_2001273/diego/flexpart-alto-data/run_2021-03-14_20-15-10_LONG/2017-12-06/flxout_d01_20171206_190000.nc opened\n"
     ]
    },
    {
     "name": "stderr",
     "output_type": "stream",
     "text": [
      "2021-03-21 20:27:41,421 useful_scit  DEBUG    file /scratch/project_2001273/diego/flexpart-alto-data/run_2021-03-14_20-15-10_LONG/2017-12-06/flxout_d01_20171206_200000.nc opened\n"
     ]
    },
    {
     "name": "stdout",
     "output_type": "stream",
     "text": [
      "2021-03-21 20:27:41,421 useful_scit  DEBUG    file /scratch/project_2001273/diego/flexpart-alto-data/run_2021-03-14_20-15-10_LONG/2017-12-06/flxout_d01_20171206_200000.nc opened\n"
     ]
    },
    {
     "name": "stderr",
     "output_type": "stream",
     "text": [
      "2021-03-21 20:27:41,465 useful_scit  DEBUG    file /scratch/project_2001273/diego/flexpart-alto-data/run_2021-03-14_20-15-10_LONG/2017-12-06/flxout_d01_20171206_210000.nc opened\n"
     ]
    },
    {
     "name": "stdout",
     "output_type": "stream",
     "text": [
      "2021-03-21 20:27:41,465 useful_scit  DEBUG    file /scratch/project_2001273/diego/flexpart-alto-data/run_2021-03-14_20-15-10_LONG/2017-12-06/flxout_d01_20171206_210000.nc opened\n"
     ]
    },
    {
     "name": "stderr",
     "output_type": "stream",
     "text": [
      "2021-03-21 20:27:41,523 useful_scit  DEBUG    file /scratch/project_2001273/diego/flexpart-alto-data/run_2021-03-14_20-15-10_LONG/2017-12-06/flxout_d01_20171206_220000.nc opened\n"
     ]
    },
    {
     "name": "stdout",
     "output_type": "stream",
     "text": [
      "2021-03-21 20:27:41,523 useful_scit  DEBUG    file /scratch/project_2001273/diego/flexpart-alto-data/run_2021-03-14_20-15-10_LONG/2017-12-06/flxout_d01_20171206_220000.nc opened\n"
     ]
    },
    {
     "name": "stderr",
     "output_type": "stream",
     "text": [
      "2021-03-21 20:27:41,565 useful_scit  DEBUG    file /scratch/project_2001273/diego/flexpart-alto-data/run_2021-03-14_20-15-10_LONG/2017-12-06/flxout_d01_20171206_230000.nc opened\n"
     ]
    },
    {
     "name": "stdout",
     "output_type": "stream",
     "text": [
      "2021-03-21 20:27:41,565 useful_scit  DEBUG    file /scratch/project_2001273/diego/flexpart-alto-data/run_2021-03-14_20-15-10_LONG/2017-12-06/flxout_d01_20171206_230000.nc opened\n"
     ]
    },
    {
     "name": "stderr",
     "output_type": "stream",
     "text": [
      "2021-03-21 20:27:43,987 useful_scit  DEBUG    log_pol_file exists\n"
     ]
    },
    {
     "name": "stdout",
     "output_type": "stream",
     "text": [
      "2021-03-21 20:27:43,987 useful_scit  DEBUG    log_pol_file exists\n"
     ]
    },
    {
     "name": "stderr",
     "output_type": "stream",
     "text": [
      "2021-03-21 20:27:43,989 useful_scit  DEBUG    head file is /scratch/project_2001273/diego/flexpart-alto-data/run_2021-03-14_20-15-10_LONG/2017-12-06/*header_*d02*\n"
     ]
    },
    {
     "name": "stdout",
     "output_type": "stream",
     "text": [
      "done d01 /scratch/project_2001273/diego/flexpart-alto-data/run_2021-03-14_20-15-10_LONG/2017-12-06\n",
      "starting d02 /scratch/project_2001273/diego/flexpart-alto-data/run_2021-03-14_20-15-10_LONG/2017-12-06\n",
      "2021-03-21 20:27:43,989 useful_scit  DEBUG    head file is /scratch/project_2001273/diego/flexpart-alto-data/run_2021-03-14_20-15-10_LONG/2017-12-06/*header_*d02*\n"
     ]
    },
    {
     "name": "stderr",
     "output_type": "stream",
     "text": [
      "2021-03-21 20:27:43,992 useful_scit  DEBUG    head file again is /scratch/project_2001273/diego/flexpart-alto-data/run_2021-03-14_20-15-10_LONG/2017-12-06/header_d02.nc\n"
     ]
    },
    {
     "name": "stdout",
     "output_type": "stream",
     "text": [
      "2021-03-21 20:27:43,992 useful_scit  DEBUG    head file again is /scratch/project_2001273/diego/flexpart-alto-data/run_2021-03-14_20-15-10_LONG/2017-12-06/header_d02.nc\n"
     ]
    },
    {
     "name": "stderr",
     "output_type": "stream",
     "text": [
      "2021-03-21 20:27:43,994 useful_scit  DEBUG    out path is /scratch/project_2001273/diego/flexpart-alto-data/run_2021-03-14_20-15-10_LONG/2017-12-06/*flxout_*d02*\n"
     ]
    },
    {
     "name": "stdout",
     "output_type": "stream",
     "text": [
      "2021-03-21 20:27:43,994 useful_scit  DEBUG    out path is /scratch/project_2001273/diego/flexpart-alto-data/run_2021-03-14_20-15-10_LONG/2017-12-06/*flxout_*d02*\n"
     ]
    },
    {
     "name": "stderr",
     "output_type": "stream",
     "text": [
      "2021-03-21 20:27:43,997 useful_scit  DEBUG    out path list 1st elemnt is ['/scratch/project_2001273/diego/flexpart-alto-data/run_2021-03-14_20-15-10_LONG/2017-12-06/flxout_d02_20171202_000000.nc']\n"
     ]
    },
    {
     "name": "stdout",
     "output_type": "stream",
     "text": [
      "2021-03-21 20:27:43,997 useful_scit  DEBUG    out path list 1st elemnt is ['/scratch/project_2001273/diego/flexpart-alto-data/run_2021-03-14_20-15-10_LONG/2017-12-06/flxout_d02_20171202_000000.nc']\n"
     ]
    },
    {
     "name": "stderr",
     "output_type": "stream",
     "text": [
      "2021-03-21 20:27:44,066 useful_scit  DEBUG    file /scratch/project_2001273/diego/flexpart-alto-data/run_2021-03-14_20-15-10_LONG/2017-12-06/flxout_d02_20171202_000000.nc opened\n"
     ]
    },
    {
     "name": "stdout",
     "output_type": "stream",
     "text": [
      "2021-03-21 20:27:44,066 useful_scit  DEBUG    file /scratch/project_2001273/diego/flexpart-alto-data/run_2021-03-14_20-15-10_LONG/2017-12-06/flxout_d02_20171202_000000.nc opened\n"
     ]
    },
    {
     "name": "stderr",
     "output_type": "stream",
     "text": [
      "2021-03-21 20:27:44,112 useful_scit  DEBUG    file /scratch/project_2001273/diego/flexpart-alto-data/run_2021-03-14_20-15-10_LONG/2017-12-06/flxout_d02_20171202_010000.nc opened\n"
     ]
    },
    {
     "name": "stdout",
     "output_type": "stream",
     "text": [
      "2021-03-21 20:27:44,112 useful_scit  DEBUG    file /scratch/project_2001273/diego/flexpart-alto-data/run_2021-03-14_20-15-10_LONG/2017-12-06/flxout_d02_20171202_010000.nc opened\n"
     ]
    },
    {
     "name": "stderr",
     "output_type": "stream",
     "text": [
      "2021-03-21 20:27:44,164 useful_scit  DEBUG    file /scratch/project_2001273/diego/flexpart-alto-data/run_2021-03-14_20-15-10_LONG/2017-12-06/flxout_d02_20171202_020000.nc opened\n"
     ]
    },
    {
     "name": "stdout",
     "output_type": "stream",
     "text": [
      "2021-03-21 20:27:44,164 useful_scit  DEBUG    file /scratch/project_2001273/diego/flexpart-alto-data/run_2021-03-14_20-15-10_LONG/2017-12-06/flxout_d02_20171202_020000.nc opened\n"
     ]
    },
    {
     "name": "stderr",
     "output_type": "stream",
     "text": [
      "2021-03-21 20:27:44,224 useful_scit  DEBUG    file /scratch/project_2001273/diego/flexpart-alto-data/run_2021-03-14_20-15-10_LONG/2017-12-06/flxout_d02_20171202_030000.nc opened\n"
     ]
    },
    {
     "name": "stdout",
     "output_type": "stream",
     "text": [
      "2021-03-21 20:27:44,224 useful_scit  DEBUG    file /scratch/project_2001273/diego/flexpart-alto-data/run_2021-03-14_20-15-10_LONG/2017-12-06/flxout_d02_20171202_030000.nc opened\n"
     ]
    },
    {
     "name": "stderr",
     "output_type": "stream",
     "text": [
      "2021-03-21 20:27:44,275 useful_scit  DEBUG    file /scratch/project_2001273/diego/flexpart-alto-data/run_2021-03-14_20-15-10_LONG/2017-12-06/flxout_d02_20171202_040000.nc opened\n"
     ]
    },
    {
     "name": "stdout",
     "output_type": "stream",
     "text": [
      "2021-03-21 20:27:44,275 useful_scit  DEBUG    file /scratch/project_2001273/diego/flexpart-alto-data/run_2021-03-14_20-15-10_LONG/2017-12-06/flxout_d02_20171202_040000.nc opened\n"
     ]
    },
    {
     "name": "stderr",
     "output_type": "stream",
     "text": [
      "2021-03-21 20:27:44,309 useful_scit  DEBUG    file /scratch/project_2001273/diego/flexpart-alto-data/run_2021-03-14_20-15-10_LONG/2017-12-06/flxout_d02_20171202_050000.nc opened\n"
     ]
    },
    {
     "name": "stdout",
     "output_type": "stream",
     "text": [
      "2021-03-21 20:27:44,309 useful_scit  DEBUG    file /scratch/project_2001273/diego/flexpart-alto-data/run_2021-03-14_20-15-10_LONG/2017-12-06/flxout_d02_20171202_050000.nc opened\n"
     ]
    },
    {
     "name": "stderr",
     "output_type": "stream",
     "text": [
      "2021-03-21 20:27:44,360 useful_scit  DEBUG    file /scratch/project_2001273/diego/flexpart-alto-data/run_2021-03-14_20-15-10_LONG/2017-12-06/flxout_d02_20171202_060000.nc opened\n"
     ]
    },
    {
     "name": "stdout",
     "output_type": "stream",
     "text": [
      "2021-03-21 20:27:44,360 useful_scit  DEBUG    file /scratch/project_2001273/diego/flexpart-alto-data/run_2021-03-14_20-15-10_LONG/2017-12-06/flxout_d02_20171202_060000.nc opened\n"
     ]
    },
    {
     "name": "stderr",
     "output_type": "stream",
     "text": [
      "2021-03-21 20:27:44,404 useful_scit  DEBUG    file /scratch/project_2001273/diego/flexpart-alto-data/run_2021-03-14_20-15-10_LONG/2017-12-06/flxout_d02_20171202_070000.nc opened\n"
     ]
    },
    {
     "name": "stdout",
     "output_type": "stream",
     "text": [
      "2021-03-21 20:27:44,404 useful_scit  DEBUG    file /scratch/project_2001273/diego/flexpart-alto-data/run_2021-03-14_20-15-10_LONG/2017-12-06/flxout_d02_20171202_070000.nc opened\n"
     ]
    },
    {
     "name": "stderr",
     "output_type": "stream",
     "text": [
      "2021-03-21 20:27:44,563 useful_scit  DEBUG    file /scratch/project_2001273/diego/flexpart-alto-data/run_2021-03-14_20-15-10_LONG/2017-12-06/flxout_d02_20171202_080000.nc opened\n"
     ]
    },
    {
     "name": "stdout",
     "output_type": "stream",
     "text": [
      "2021-03-21 20:27:44,563 useful_scit  DEBUG    file /scratch/project_2001273/diego/flexpart-alto-data/run_2021-03-14_20-15-10_LONG/2017-12-06/flxout_d02_20171202_080000.nc opened\n"
     ]
    },
    {
     "name": "stderr",
     "output_type": "stream",
     "text": [
      "2021-03-21 20:27:44,616 useful_scit  DEBUG    file /scratch/project_2001273/diego/flexpart-alto-data/run_2021-03-14_20-15-10_LONG/2017-12-06/flxout_d02_20171202_090000.nc opened\n"
     ]
    },
    {
     "name": "stdout",
     "output_type": "stream",
     "text": [
      "2021-03-21 20:27:44,616 useful_scit  DEBUG    file /scratch/project_2001273/diego/flexpart-alto-data/run_2021-03-14_20-15-10_LONG/2017-12-06/flxout_d02_20171202_090000.nc opened\n"
     ]
    },
    {
     "name": "stderr",
     "output_type": "stream",
     "text": [
      "2021-03-21 20:27:44,665 useful_scit  DEBUG    file /scratch/project_2001273/diego/flexpart-alto-data/run_2021-03-14_20-15-10_LONG/2017-12-06/flxout_d02_20171202_100000.nc opened\n"
     ]
    },
    {
     "name": "stdout",
     "output_type": "stream",
     "text": [
      "2021-03-21 20:27:44,665 useful_scit  DEBUG    file /scratch/project_2001273/diego/flexpart-alto-data/run_2021-03-14_20-15-10_LONG/2017-12-06/flxout_d02_20171202_100000.nc opened\n"
     ]
    },
    {
     "name": "stderr",
     "output_type": "stream",
     "text": [
      "2021-03-21 20:27:44,700 useful_scit  DEBUG    file /scratch/project_2001273/diego/flexpart-alto-data/run_2021-03-14_20-15-10_LONG/2017-12-06/flxout_d02_20171202_110000.nc opened\n"
     ]
    },
    {
     "name": "stdout",
     "output_type": "stream",
     "text": [
      "2021-03-21 20:27:44,700 useful_scit  DEBUG    file /scratch/project_2001273/diego/flexpart-alto-data/run_2021-03-14_20-15-10_LONG/2017-12-06/flxout_d02_20171202_110000.nc opened\n"
     ]
    },
    {
     "name": "stderr",
     "output_type": "stream",
     "text": [
      "2021-03-21 20:27:44,745 useful_scit  DEBUG    file /scratch/project_2001273/diego/flexpart-alto-data/run_2021-03-14_20-15-10_LONG/2017-12-06/flxout_d02_20171202_120000.nc opened\n"
     ]
    },
    {
     "name": "stdout",
     "output_type": "stream",
     "text": [
      "2021-03-21 20:27:44,745 useful_scit  DEBUG    file /scratch/project_2001273/diego/flexpart-alto-data/run_2021-03-14_20-15-10_LONG/2017-12-06/flxout_d02_20171202_120000.nc opened\n"
     ]
    },
    {
     "name": "stderr",
     "output_type": "stream",
     "text": [
      "2021-03-21 20:27:44,792 useful_scit  DEBUG    file /scratch/project_2001273/diego/flexpart-alto-data/run_2021-03-14_20-15-10_LONG/2017-12-06/flxout_d02_20171202_130000.nc opened\n"
     ]
    },
    {
     "name": "stdout",
     "output_type": "stream",
     "text": [
      "2021-03-21 20:27:44,792 useful_scit  DEBUG    file /scratch/project_2001273/diego/flexpart-alto-data/run_2021-03-14_20-15-10_LONG/2017-12-06/flxout_d02_20171202_130000.nc opened\n"
     ]
    },
    {
     "name": "stderr",
     "output_type": "stream",
     "text": [
      "2021-03-21 20:27:44,836 useful_scit  DEBUG    file /scratch/project_2001273/diego/flexpart-alto-data/run_2021-03-14_20-15-10_LONG/2017-12-06/flxout_d02_20171202_140000.nc opened\n"
     ]
    },
    {
     "name": "stdout",
     "output_type": "stream",
     "text": [
      "2021-03-21 20:27:44,836 useful_scit  DEBUG    file /scratch/project_2001273/diego/flexpart-alto-data/run_2021-03-14_20-15-10_LONG/2017-12-06/flxout_d02_20171202_140000.nc opened\n"
     ]
    },
    {
     "name": "stderr",
     "output_type": "stream",
     "text": [
      "2021-03-21 20:27:44,908 useful_scit  DEBUG    file /scratch/project_2001273/diego/flexpart-alto-data/run_2021-03-14_20-15-10_LONG/2017-12-06/flxout_d02_20171202_150000.nc opened\n"
     ]
    },
    {
     "name": "stdout",
     "output_type": "stream",
     "text": [
      "2021-03-21 20:27:44,908 useful_scit  DEBUG    file /scratch/project_2001273/diego/flexpart-alto-data/run_2021-03-14_20-15-10_LONG/2017-12-06/flxout_d02_20171202_150000.nc opened\n"
     ]
    },
    {
     "name": "stderr",
     "output_type": "stream",
     "text": [
      "2021-03-21 20:27:44,974 useful_scit  DEBUG    file /scratch/project_2001273/diego/flexpart-alto-data/run_2021-03-14_20-15-10_LONG/2017-12-06/flxout_d02_20171202_160000.nc opened\n"
     ]
    },
    {
     "name": "stdout",
     "output_type": "stream",
     "text": [
      "2021-03-21 20:27:44,974 useful_scit  DEBUG    file /scratch/project_2001273/diego/flexpart-alto-data/run_2021-03-14_20-15-10_LONG/2017-12-06/flxout_d02_20171202_160000.nc opened\n"
     ]
    },
    {
     "name": "stderr",
     "output_type": "stream",
     "text": [
      "2021-03-21 20:27:45,025 useful_scit  DEBUG    file /scratch/project_2001273/diego/flexpart-alto-data/run_2021-03-14_20-15-10_LONG/2017-12-06/flxout_d02_20171202_170000.nc opened\n"
     ]
    },
    {
     "name": "stdout",
     "output_type": "stream",
     "text": [
      "2021-03-21 20:27:45,025 useful_scit  DEBUG    file /scratch/project_2001273/diego/flexpart-alto-data/run_2021-03-14_20-15-10_LONG/2017-12-06/flxout_d02_20171202_170000.nc opened\n"
     ]
    },
    {
     "name": "stderr",
     "output_type": "stream",
     "text": [
      "2021-03-21 20:27:45,116 useful_scit  DEBUG    file /scratch/project_2001273/diego/flexpart-alto-data/run_2021-03-14_20-15-10_LONG/2017-12-06/flxout_d02_20171202_180000.nc opened\n"
     ]
    },
    {
     "name": "stdout",
     "output_type": "stream",
     "text": [
      "2021-03-21 20:27:45,116 useful_scit  DEBUG    file /scratch/project_2001273/diego/flexpart-alto-data/run_2021-03-14_20-15-10_LONG/2017-12-06/flxout_d02_20171202_180000.nc opened\n"
     ]
    },
    {
     "name": "stderr",
     "output_type": "stream",
     "text": [
      "2021-03-21 20:27:45,188 useful_scit  DEBUG    file /scratch/project_2001273/diego/flexpart-alto-data/run_2021-03-14_20-15-10_LONG/2017-12-06/flxout_d02_20171202_190000.nc opened\n"
     ]
    },
    {
     "name": "stdout",
     "output_type": "stream",
     "text": [
      "2021-03-21 20:27:45,188 useful_scit  DEBUG    file /scratch/project_2001273/diego/flexpart-alto-data/run_2021-03-14_20-15-10_LONG/2017-12-06/flxout_d02_20171202_190000.nc opened\n"
     ]
    },
    {
     "name": "stderr",
     "output_type": "stream",
     "text": [
      "2021-03-21 20:27:45,250 useful_scit  DEBUG    file /scratch/project_2001273/diego/flexpart-alto-data/run_2021-03-14_20-15-10_LONG/2017-12-06/flxout_d02_20171202_200000.nc opened\n"
     ]
    },
    {
     "name": "stdout",
     "output_type": "stream",
     "text": [
      "2021-03-21 20:27:45,250 useful_scit  DEBUG    file /scratch/project_2001273/diego/flexpart-alto-data/run_2021-03-14_20-15-10_LONG/2017-12-06/flxout_d02_20171202_200000.nc opened\n"
     ]
    },
    {
     "name": "stderr",
     "output_type": "stream",
     "text": [
      "2021-03-21 20:27:45,304 useful_scit  DEBUG    file /scratch/project_2001273/diego/flexpart-alto-data/run_2021-03-14_20-15-10_LONG/2017-12-06/flxout_d02_20171202_210000.nc opened\n"
     ]
    },
    {
     "name": "stdout",
     "output_type": "stream",
     "text": [
      "2021-03-21 20:27:45,304 useful_scit  DEBUG    file /scratch/project_2001273/diego/flexpart-alto-data/run_2021-03-14_20-15-10_LONG/2017-12-06/flxout_d02_20171202_210000.nc opened\n"
     ]
    },
    {
     "name": "stderr",
     "output_type": "stream",
     "text": [
      "2021-03-21 20:27:45,358 useful_scit  DEBUG    file /scratch/project_2001273/diego/flexpart-alto-data/run_2021-03-14_20-15-10_LONG/2017-12-06/flxout_d02_20171202_220000.nc opened\n"
     ]
    },
    {
     "name": "stdout",
     "output_type": "stream",
     "text": [
      "2021-03-21 20:27:45,358 useful_scit  DEBUG    file /scratch/project_2001273/diego/flexpart-alto-data/run_2021-03-14_20-15-10_LONG/2017-12-06/flxout_d02_20171202_220000.nc opened\n"
     ]
    },
    {
     "name": "stderr",
     "output_type": "stream",
     "text": [
      "2021-03-21 20:27:45,415 useful_scit  DEBUG    file /scratch/project_2001273/diego/flexpart-alto-data/run_2021-03-14_20-15-10_LONG/2017-12-06/flxout_d02_20171202_230000.nc opened\n"
     ]
    },
    {
     "name": "stdout",
     "output_type": "stream",
     "text": [
      "2021-03-21 20:27:45,415 useful_scit  DEBUG    file /scratch/project_2001273/diego/flexpart-alto-data/run_2021-03-14_20-15-10_LONG/2017-12-06/flxout_d02_20171202_230000.nc opened\n"
     ]
    },
    {
     "name": "stderr",
     "output_type": "stream",
     "text": [
      "2021-03-21 20:27:45,500 useful_scit  DEBUG    file /scratch/project_2001273/diego/flexpart-alto-data/run_2021-03-14_20-15-10_LONG/2017-12-06/flxout_d02_20171203_000000.nc opened\n"
     ]
    },
    {
     "name": "stdout",
     "output_type": "stream",
     "text": [
      "2021-03-21 20:27:45,500 useful_scit  DEBUG    file /scratch/project_2001273/diego/flexpart-alto-data/run_2021-03-14_20-15-10_LONG/2017-12-06/flxout_d02_20171203_000000.nc opened\n"
     ]
    },
    {
     "name": "stderr",
     "output_type": "stream",
     "text": [
      "2021-03-21 20:27:45,563 useful_scit  DEBUG    file /scratch/project_2001273/diego/flexpart-alto-data/run_2021-03-14_20-15-10_LONG/2017-12-06/flxout_d02_20171203_010000.nc opened\n"
     ]
    },
    {
     "name": "stdout",
     "output_type": "stream",
     "text": [
      "2021-03-21 20:27:45,563 useful_scit  DEBUG    file /scratch/project_2001273/diego/flexpart-alto-data/run_2021-03-14_20-15-10_LONG/2017-12-06/flxout_d02_20171203_010000.nc opened\n"
     ]
    },
    {
     "name": "stderr",
     "output_type": "stream",
     "text": [
      "2021-03-21 20:27:45,742 useful_scit  DEBUG    file /scratch/project_2001273/diego/flexpart-alto-data/run_2021-03-14_20-15-10_LONG/2017-12-06/flxout_d02_20171203_020000.nc opened\n"
     ]
    },
    {
     "name": "stdout",
     "output_type": "stream",
     "text": [
      "2021-03-21 20:27:45,742 useful_scit  DEBUG    file /scratch/project_2001273/diego/flexpart-alto-data/run_2021-03-14_20-15-10_LONG/2017-12-06/flxout_d02_20171203_020000.nc opened\n"
     ]
    },
    {
     "name": "stderr",
     "output_type": "stream",
     "text": [
      "2021-03-21 20:27:45,800 useful_scit  DEBUG    file /scratch/project_2001273/diego/flexpart-alto-data/run_2021-03-14_20-15-10_LONG/2017-12-06/flxout_d02_20171203_030000.nc opened\n"
     ]
    },
    {
     "name": "stdout",
     "output_type": "stream",
     "text": [
      "2021-03-21 20:27:45,800 useful_scit  DEBUG    file /scratch/project_2001273/diego/flexpart-alto-data/run_2021-03-14_20-15-10_LONG/2017-12-06/flxout_d02_20171203_030000.nc opened\n"
     ]
    },
    {
     "name": "stderr",
     "output_type": "stream",
     "text": [
      "2021-03-21 20:27:45,862 useful_scit  DEBUG    file /scratch/project_2001273/diego/flexpart-alto-data/run_2021-03-14_20-15-10_LONG/2017-12-06/flxout_d02_20171203_040000.nc opened\n"
     ]
    },
    {
     "name": "stdout",
     "output_type": "stream",
     "text": [
      "2021-03-21 20:27:45,862 useful_scit  DEBUG    file /scratch/project_2001273/diego/flexpart-alto-data/run_2021-03-14_20-15-10_LONG/2017-12-06/flxout_d02_20171203_040000.nc opened\n"
     ]
    },
    {
     "name": "stderr",
     "output_type": "stream",
     "text": [
      "2021-03-21 20:27:45,922 useful_scit  DEBUG    file /scratch/project_2001273/diego/flexpart-alto-data/run_2021-03-14_20-15-10_LONG/2017-12-06/flxout_d02_20171203_050000.nc opened\n"
     ]
    },
    {
     "name": "stdout",
     "output_type": "stream",
     "text": [
      "2021-03-21 20:27:45,922 useful_scit  DEBUG    file /scratch/project_2001273/diego/flexpart-alto-data/run_2021-03-14_20-15-10_LONG/2017-12-06/flxout_d02_20171203_050000.nc opened\n"
     ]
    },
    {
     "name": "stderr",
     "output_type": "stream",
     "text": [
      "2021-03-21 20:27:45,982 useful_scit  DEBUG    file /scratch/project_2001273/diego/flexpart-alto-data/run_2021-03-14_20-15-10_LONG/2017-12-06/flxout_d02_20171203_060000.nc opened\n"
     ]
    },
    {
     "name": "stdout",
     "output_type": "stream",
     "text": [
      "2021-03-21 20:27:45,982 useful_scit  DEBUG    file /scratch/project_2001273/diego/flexpart-alto-data/run_2021-03-14_20-15-10_LONG/2017-12-06/flxout_d02_20171203_060000.nc opened\n"
     ]
    },
    {
     "name": "stderr",
     "output_type": "stream",
     "text": [
      "2021-03-21 20:27:46,036 useful_scit  DEBUG    file /scratch/project_2001273/diego/flexpart-alto-data/run_2021-03-14_20-15-10_LONG/2017-12-06/flxout_d02_20171203_070000.nc opened\n"
     ]
    },
    {
     "name": "stdout",
     "output_type": "stream",
     "text": [
      "2021-03-21 20:27:46,036 useful_scit  DEBUG    file /scratch/project_2001273/diego/flexpart-alto-data/run_2021-03-14_20-15-10_LONG/2017-12-06/flxout_d02_20171203_070000.nc opened\n"
     ]
    },
    {
     "name": "stderr",
     "output_type": "stream",
     "text": [
      "2021-03-21 20:27:46,091 useful_scit  DEBUG    file /scratch/project_2001273/diego/flexpart-alto-data/run_2021-03-14_20-15-10_LONG/2017-12-06/flxout_d02_20171203_080000.nc opened\n"
     ]
    },
    {
     "name": "stdout",
     "output_type": "stream",
     "text": [
      "2021-03-21 20:27:46,091 useful_scit  DEBUG    file /scratch/project_2001273/diego/flexpart-alto-data/run_2021-03-14_20-15-10_LONG/2017-12-06/flxout_d02_20171203_080000.nc opened\n"
     ]
    },
    {
     "name": "stderr",
     "output_type": "stream",
     "text": [
      "2021-03-21 20:27:46,159 useful_scit  DEBUG    file /scratch/project_2001273/diego/flexpart-alto-data/run_2021-03-14_20-15-10_LONG/2017-12-06/flxout_d02_20171203_090000.nc opened\n"
     ]
    },
    {
     "name": "stdout",
     "output_type": "stream",
     "text": [
      "2021-03-21 20:27:46,159 useful_scit  DEBUG    file /scratch/project_2001273/diego/flexpart-alto-data/run_2021-03-14_20-15-10_LONG/2017-12-06/flxout_d02_20171203_090000.nc opened\n"
     ]
    },
    {
     "name": "stderr",
     "output_type": "stream",
     "text": [
      "2021-03-21 20:27:46,203 useful_scit  DEBUG    file /scratch/project_2001273/diego/flexpart-alto-data/run_2021-03-14_20-15-10_LONG/2017-12-06/flxout_d02_20171203_100000.nc opened\n"
     ]
    },
    {
     "name": "stdout",
     "output_type": "stream",
     "text": [
      "2021-03-21 20:27:46,203 useful_scit  DEBUG    file /scratch/project_2001273/diego/flexpart-alto-data/run_2021-03-14_20-15-10_LONG/2017-12-06/flxout_d02_20171203_100000.nc opened\n"
     ]
    },
    {
     "name": "stderr",
     "output_type": "stream",
     "text": [
      "2021-03-21 20:27:46,268 useful_scit  DEBUG    file /scratch/project_2001273/diego/flexpart-alto-data/run_2021-03-14_20-15-10_LONG/2017-12-06/flxout_d02_20171203_110000.nc opened\n"
     ]
    },
    {
     "name": "stdout",
     "output_type": "stream",
     "text": [
      "2021-03-21 20:27:46,268 useful_scit  DEBUG    file /scratch/project_2001273/diego/flexpart-alto-data/run_2021-03-14_20-15-10_LONG/2017-12-06/flxout_d02_20171203_110000.nc opened\n"
     ]
    },
    {
     "name": "stderr",
     "output_type": "stream",
     "text": [
      "2021-03-21 20:27:46,316 useful_scit  DEBUG    file /scratch/project_2001273/diego/flexpart-alto-data/run_2021-03-14_20-15-10_LONG/2017-12-06/flxout_d02_20171203_120000.nc opened\n"
     ]
    },
    {
     "name": "stdout",
     "output_type": "stream",
     "text": [
      "2021-03-21 20:27:46,316 useful_scit  DEBUG    file /scratch/project_2001273/diego/flexpart-alto-data/run_2021-03-14_20-15-10_LONG/2017-12-06/flxout_d02_20171203_120000.nc opened\n"
     ]
    },
    {
     "name": "stderr",
     "output_type": "stream",
     "text": [
      "2021-03-21 20:27:46,363 useful_scit  DEBUG    file /scratch/project_2001273/diego/flexpart-alto-data/run_2021-03-14_20-15-10_LONG/2017-12-06/flxout_d02_20171203_130000.nc opened\n"
     ]
    },
    {
     "name": "stdout",
     "output_type": "stream",
     "text": [
      "2021-03-21 20:27:46,363 useful_scit  DEBUG    file /scratch/project_2001273/diego/flexpart-alto-data/run_2021-03-14_20-15-10_LONG/2017-12-06/flxout_d02_20171203_130000.nc opened\n"
     ]
    },
    {
     "name": "stderr",
     "output_type": "stream",
     "text": [
      "2021-03-21 20:27:46,488 useful_scit  DEBUG    file /scratch/project_2001273/diego/flexpart-alto-data/run_2021-03-14_20-15-10_LONG/2017-12-06/flxout_d02_20171203_140000.nc opened\n"
     ]
    },
    {
     "name": "stdout",
     "output_type": "stream",
     "text": [
      "2021-03-21 20:27:46,488 useful_scit  DEBUG    file /scratch/project_2001273/diego/flexpart-alto-data/run_2021-03-14_20-15-10_LONG/2017-12-06/flxout_d02_20171203_140000.nc opened\n"
     ]
    },
    {
     "name": "stderr",
     "output_type": "stream",
     "text": [
      "2021-03-21 20:27:46,546 useful_scit  DEBUG    file /scratch/project_2001273/diego/flexpart-alto-data/run_2021-03-14_20-15-10_LONG/2017-12-06/flxout_d02_20171203_150000.nc opened\n"
     ]
    },
    {
     "name": "stdout",
     "output_type": "stream",
     "text": [
      "2021-03-21 20:27:46,546 useful_scit  DEBUG    file /scratch/project_2001273/diego/flexpart-alto-data/run_2021-03-14_20-15-10_LONG/2017-12-06/flxout_d02_20171203_150000.nc opened\n"
     ]
    },
    {
     "name": "stderr",
     "output_type": "stream",
     "text": [
      "2021-03-21 20:27:46,596 useful_scit  DEBUG    file /scratch/project_2001273/diego/flexpart-alto-data/run_2021-03-14_20-15-10_LONG/2017-12-06/flxout_d02_20171203_160000.nc opened\n"
     ]
    },
    {
     "name": "stdout",
     "output_type": "stream",
     "text": [
      "2021-03-21 20:27:46,596 useful_scit  DEBUG    file /scratch/project_2001273/diego/flexpart-alto-data/run_2021-03-14_20-15-10_LONG/2017-12-06/flxout_d02_20171203_160000.nc opened\n"
     ]
    },
    {
     "name": "stderr",
     "output_type": "stream",
     "text": [
      "2021-03-21 20:27:46,602 useful_scit  DEBUG    file /scratch/project_2001273/diego/flexpart-alto-data/run_2021-03-14_20-15-10_LONG/2017-12-06/flxout_d02_20171203_170000.nc opened\n"
     ]
    },
    {
     "name": "stdout",
     "output_type": "stream",
     "text": [
      "2021-03-21 20:27:46,602 useful_scit  DEBUG    file /scratch/project_2001273/diego/flexpart-alto-data/run_2021-03-14_20-15-10_LONG/2017-12-06/flxout_d02_20171203_170000.nc opened\n"
     ]
    },
    {
     "name": "stderr",
     "output_type": "stream",
     "text": [
      "2021-03-21 20:27:46,608 useful_scit  DEBUG    file /scratch/project_2001273/diego/flexpart-alto-data/run_2021-03-14_20-15-10_LONG/2017-12-06/flxout_d02_20171203_180000.nc opened\n"
     ]
    },
    {
     "name": "stdout",
     "output_type": "stream",
     "text": [
      "2021-03-21 20:27:46,608 useful_scit  DEBUG    file /scratch/project_2001273/diego/flexpart-alto-data/run_2021-03-14_20-15-10_LONG/2017-12-06/flxout_d02_20171203_180000.nc opened\n"
     ]
    },
    {
     "name": "stderr",
     "output_type": "stream",
     "text": [
      "2021-03-21 20:27:46,667 useful_scit  DEBUG    file /scratch/project_2001273/diego/flexpart-alto-data/run_2021-03-14_20-15-10_LONG/2017-12-06/flxout_d02_20171203_190000.nc opened\n"
     ]
    },
    {
     "name": "stdout",
     "output_type": "stream",
     "text": [
      "2021-03-21 20:27:46,667 useful_scit  DEBUG    file /scratch/project_2001273/diego/flexpart-alto-data/run_2021-03-14_20-15-10_LONG/2017-12-06/flxout_d02_20171203_190000.nc opened\n"
     ]
    },
    {
     "name": "stderr",
     "output_type": "stream",
     "text": [
      "2021-03-21 20:27:46,711 useful_scit  DEBUG    file /scratch/project_2001273/diego/flexpart-alto-data/run_2021-03-14_20-15-10_LONG/2017-12-06/flxout_d02_20171203_200000.nc opened\n"
     ]
    },
    {
     "name": "stdout",
     "output_type": "stream",
     "text": [
      "2021-03-21 20:27:46,711 useful_scit  DEBUG    file /scratch/project_2001273/diego/flexpart-alto-data/run_2021-03-14_20-15-10_LONG/2017-12-06/flxout_d02_20171203_200000.nc opened\n"
     ]
    },
    {
     "name": "stderr",
     "output_type": "stream",
     "text": [
      "2021-03-21 20:27:46,774 useful_scit  DEBUG    file /scratch/project_2001273/diego/flexpart-alto-data/run_2021-03-14_20-15-10_LONG/2017-12-06/flxout_d02_20171203_210000.nc opened\n"
     ]
    },
    {
     "name": "stdout",
     "output_type": "stream",
     "text": [
      "2021-03-21 20:27:46,774 useful_scit  DEBUG    file /scratch/project_2001273/diego/flexpart-alto-data/run_2021-03-14_20-15-10_LONG/2017-12-06/flxout_d02_20171203_210000.nc opened\n"
     ]
    },
    {
     "name": "stderr",
     "output_type": "stream",
     "text": [
      "2021-03-21 20:27:46,830 useful_scit  DEBUG    file /scratch/project_2001273/diego/flexpart-alto-data/run_2021-03-14_20-15-10_LONG/2017-12-06/flxout_d02_20171203_220000.nc opened\n"
     ]
    },
    {
     "name": "stdout",
     "output_type": "stream",
     "text": [
      "2021-03-21 20:27:46,830 useful_scit  DEBUG    file /scratch/project_2001273/diego/flexpart-alto-data/run_2021-03-14_20-15-10_LONG/2017-12-06/flxout_d02_20171203_220000.nc opened\n"
     ]
    },
    {
     "name": "stderr",
     "output_type": "stream",
     "text": [
      "2021-03-21 20:27:46,874 useful_scit  DEBUG    file /scratch/project_2001273/diego/flexpart-alto-data/run_2021-03-14_20-15-10_LONG/2017-12-06/flxout_d02_20171203_230000.nc opened\n"
     ]
    },
    {
     "name": "stdout",
     "output_type": "stream",
     "text": [
      "2021-03-21 20:27:46,874 useful_scit  DEBUG    file /scratch/project_2001273/diego/flexpart-alto-data/run_2021-03-14_20-15-10_LONG/2017-12-06/flxout_d02_20171203_230000.nc opened\n"
     ]
    },
    {
     "name": "stderr",
     "output_type": "stream",
     "text": [
      "2021-03-21 20:27:46,954 useful_scit  DEBUG    file /scratch/project_2001273/diego/flexpart-alto-data/run_2021-03-14_20-15-10_LONG/2017-12-06/flxout_d02_20171204_000000.nc opened\n"
     ]
    },
    {
     "name": "stdout",
     "output_type": "stream",
     "text": [
      "2021-03-21 20:27:46,954 useful_scit  DEBUG    file /scratch/project_2001273/diego/flexpart-alto-data/run_2021-03-14_20-15-10_LONG/2017-12-06/flxout_d02_20171204_000000.nc opened\n"
     ]
    },
    {
     "name": "stderr",
     "output_type": "stream",
     "text": [
      "2021-03-21 20:27:47,004 useful_scit  DEBUG    file /scratch/project_2001273/diego/flexpart-alto-data/run_2021-03-14_20-15-10_LONG/2017-12-06/flxout_d02_20171204_010000.nc opened\n"
     ]
    },
    {
     "name": "stdout",
     "output_type": "stream",
     "text": [
      "2021-03-21 20:27:47,004 useful_scit  DEBUG    file /scratch/project_2001273/diego/flexpart-alto-data/run_2021-03-14_20-15-10_LONG/2017-12-06/flxout_d02_20171204_010000.nc opened\n"
     ]
    },
    {
     "name": "stderr",
     "output_type": "stream",
     "text": [
      "2021-03-21 20:27:47,054 useful_scit  DEBUG    file /scratch/project_2001273/diego/flexpart-alto-data/run_2021-03-14_20-15-10_LONG/2017-12-06/flxout_d02_20171204_020000.nc opened\n"
     ]
    },
    {
     "name": "stdout",
     "output_type": "stream",
     "text": [
      "2021-03-21 20:27:47,054 useful_scit  DEBUG    file /scratch/project_2001273/diego/flexpart-alto-data/run_2021-03-14_20-15-10_LONG/2017-12-06/flxout_d02_20171204_020000.nc opened\n"
     ]
    },
    {
     "name": "stderr",
     "output_type": "stream",
     "text": [
      "2021-03-21 20:27:47,101 useful_scit  DEBUG    file /scratch/project_2001273/diego/flexpart-alto-data/run_2021-03-14_20-15-10_LONG/2017-12-06/flxout_d02_20171204_030000.nc opened\n"
     ]
    },
    {
     "name": "stdout",
     "output_type": "stream",
     "text": [
      "2021-03-21 20:27:47,101 useful_scit  DEBUG    file /scratch/project_2001273/diego/flexpart-alto-data/run_2021-03-14_20-15-10_LONG/2017-12-06/flxout_d02_20171204_030000.nc opened\n"
     ]
    },
    {
     "name": "stderr",
     "output_type": "stream",
     "text": [
      "2021-03-21 20:27:47,151 useful_scit  DEBUG    file /scratch/project_2001273/diego/flexpart-alto-data/run_2021-03-14_20-15-10_LONG/2017-12-06/flxout_d02_20171204_040000.nc opened\n"
     ]
    },
    {
     "name": "stdout",
     "output_type": "stream",
     "text": [
      "2021-03-21 20:27:47,151 useful_scit  DEBUG    file /scratch/project_2001273/diego/flexpart-alto-data/run_2021-03-14_20-15-10_LONG/2017-12-06/flxout_d02_20171204_040000.nc opened\n"
     ]
    },
    {
     "name": "stderr",
     "output_type": "stream",
     "text": [
      "2021-03-21 20:27:47,230 useful_scit  DEBUG    file /scratch/project_2001273/diego/flexpart-alto-data/run_2021-03-14_20-15-10_LONG/2017-12-06/flxout_d02_20171204_050000.nc opened\n"
     ]
    },
    {
     "name": "stdout",
     "output_type": "stream",
     "text": [
      "2021-03-21 20:27:47,230 useful_scit  DEBUG    file /scratch/project_2001273/diego/flexpart-alto-data/run_2021-03-14_20-15-10_LONG/2017-12-06/flxout_d02_20171204_050000.nc opened\n"
     ]
    },
    {
     "name": "stderr",
     "output_type": "stream",
     "text": [
      "2021-03-21 20:27:47,271 useful_scit  DEBUG    file /scratch/project_2001273/diego/flexpart-alto-data/run_2021-03-14_20-15-10_LONG/2017-12-06/flxout_d02_20171204_060000.nc opened\n"
     ]
    },
    {
     "name": "stdout",
     "output_type": "stream",
     "text": [
      "2021-03-21 20:27:47,271 useful_scit  DEBUG    file /scratch/project_2001273/diego/flexpart-alto-data/run_2021-03-14_20-15-10_LONG/2017-12-06/flxout_d02_20171204_060000.nc opened\n"
     ]
    },
    {
     "name": "stderr",
     "output_type": "stream",
     "text": [
      "2021-03-21 20:27:47,333 useful_scit  DEBUG    file /scratch/project_2001273/diego/flexpart-alto-data/run_2021-03-14_20-15-10_LONG/2017-12-06/flxout_d02_20171204_070000.nc opened\n"
     ]
    },
    {
     "name": "stdout",
     "output_type": "stream",
     "text": [
      "2021-03-21 20:27:47,333 useful_scit  DEBUG    file /scratch/project_2001273/diego/flexpart-alto-data/run_2021-03-14_20-15-10_LONG/2017-12-06/flxout_d02_20171204_070000.nc opened\n"
     ]
    },
    {
     "name": "stderr",
     "output_type": "stream",
     "text": [
      "2021-03-21 20:27:47,384 useful_scit  DEBUG    file /scratch/project_2001273/diego/flexpart-alto-data/run_2021-03-14_20-15-10_LONG/2017-12-06/flxout_d02_20171204_080000.nc opened\n"
     ]
    },
    {
     "name": "stdout",
     "output_type": "stream",
     "text": [
      "2021-03-21 20:27:47,384 useful_scit  DEBUG    file /scratch/project_2001273/diego/flexpart-alto-data/run_2021-03-14_20-15-10_LONG/2017-12-06/flxout_d02_20171204_080000.nc opened\n"
     ]
    },
    {
     "name": "stderr",
     "output_type": "stream",
     "text": [
      "2021-03-21 20:27:47,427 useful_scit  DEBUG    file /scratch/project_2001273/diego/flexpart-alto-data/run_2021-03-14_20-15-10_LONG/2017-12-06/flxout_d02_20171204_090000.nc opened\n"
     ]
    },
    {
     "name": "stdout",
     "output_type": "stream",
     "text": [
      "2021-03-21 20:27:47,427 useful_scit  DEBUG    file /scratch/project_2001273/diego/flexpart-alto-data/run_2021-03-14_20-15-10_LONG/2017-12-06/flxout_d02_20171204_090000.nc opened\n"
     ]
    },
    {
     "name": "stderr",
     "output_type": "stream",
     "text": [
      "2021-03-21 20:27:47,469 useful_scit  DEBUG    file /scratch/project_2001273/diego/flexpart-alto-data/run_2021-03-14_20-15-10_LONG/2017-12-06/flxout_d02_20171204_100000.nc opened\n"
     ]
    },
    {
     "name": "stdout",
     "output_type": "stream",
     "text": [
      "2021-03-21 20:27:47,469 useful_scit  DEBUG    file /scratch/project_2001273/diego/flexpart-alto-data/run_2021-03-14_20-15-10_LONG/2017-12-06/flxout_d02_20171204_100000.nc opened\n"
     ]
    },
    {
     "name": "stderr",
     "output_type": "stream",
     "text": [
      "2021-03-21 20:27:47,522 useful_scit  DEBUG    file /scratch/project_2001273/diego/flexpart-alto-data/run_2021-03-14_20-15-10_LONG/2017-12-06/flxout_d02_20171204_110000.nc opened\n"
     ]
    },
    {
     "name": "stdout",
     "output_type": "stream",
     "text": [
      "2021-03-21 20:27:47,522 useful_scit  DEBUG    file /scratch/project_2001273/diego/flexpart-alto-data/run_2021-03-14_20-15-10_LONG/2017-12-06/flxout_d02_20171204_110000.nc opened\n"
     ]
    },
    {
     "name": "stderr",
     "output_type": "stream",
     "text": [
      "2021-03-21 20:27:47,586 useful_scit  DEBUG    file /scratch/project_2001273/diego/flexpart-alto-data/run_2021-03-14_20-15-10_LONG/2017-12-06/flxout_d02_20171204_120000.nc opened\n"
     ]
    },
    {
     "name": "stdout",
     "output_type": "stream",
     "text": [
      "2021-03-21 20:27:47,586 useful_scit  DEBUG    file /scratch/project_2001273/diego/flexpart-alto-data/run_2021-03-14_20-15-10_LONG/2017-12-06/flxout_d02_20171204_120000.nc opened\n"
     ]
    },
    {
     "name": "stderr",
     "output_type": "stream",
     "text": [
      "2021-03-21 20:27:47,606 useful_scit  DEBUG    file /scratch/project_2001273/diego/flexpart-alto-data/run_2021-03-14_20-15-10_LONG/2017-12-06/flxout_d02_20171204_130000.nc opened\n"
     ]
    },
    {
     "name": "stdout",
     "output_type": "stream",
     "text": [
      "2021-03-21 20:27:47,606 useful_scit  DEBUG    file /scratch/project_2001273/diego/flexpart-alto-data/run_2021-03-14_20-15-10_LONG/2017-12-06/flxout_d02_20171204_130000.nc opened\n"
     ]
    },
    {
     "name": "stderr",
     "output_type": "stream",
     "text": [
      "2021-03-21 20:27:47,666 useful_scit  DEBUG    file /scratch/project_2001273/diego/flexpart-alto-data/run_2021-03-14_20-15-10_LONG/2017-12-06/flxout_d02_20171204_140000.nc opened\n"
     ]
    },
    {
     "name": "stdout",
     "output_type": "stream",
     "text": [
      "2021-03-21 20:27:47,666 useful_scit  DEBUG    file /scratch/project_2001273/diego/flexpart-alto-data/run_2021-03-14_20-15-10_LONG/2017-12-06/flxout_d02_20171204_140000.nc opened\n"
     ]
    },
    {
     "name": "stderr",
     "output_type": "stream",
     "text": [
      "2021-03-21 20:27:47,766 useful_scit  DEBUG    file /scratch/project_2001273/diego/flexpart-alto-data/run_2021-03-14_20-15-10_LONG/2017-12-06/flxout_d02_20171204_150000.nc opened\n"
     ]
    },
    {
     "name": "stdout",
     "output_type": "stream",
     "text": [
      "2021-03-21 20:27:47,766 useful_scit  DEBUG    file /scratch/project_2001273/diego/flexpart-alto-data/run_2021-03-14_20-15-10_LONG/2017-12-06/flxout_d02_20171204_150000.nc opened\n"
     ]
    },
    {
     "name": "stderr",
     "output_type": "stream",
     "text": [
      "2021-03-21 20:27:47,835 useful_scit  DEBUG    file /scratch/project_2001273/diego/flexpart-alto-data/run_2021-03-14_20-15-10_LONG/2017-12-06/flxout_d02_20171204_160000.nc opened\n"
     ]
    },
    {
     "name": "stdout",
     "output_type": "stream",
     "text": [
      "2021-03-21 20:27:47,835 useful_scit  DEBUG    file /scratch/project_2001273/diego/flexpart-alto-data/run_2021-03-14_20-15-10_LONG/2017-12-06/flxout_d02_20171204_160000.nc opened\n"
     ]
    },
    {
     "name": "stderr",
     "output_type": "stream",
     "text": [
      "2021-03-21 20:27:47,908 useful_scit  DEBUG    file /scratch/project_2001273/diego/flexpart-alto-data/run_2021-03-14_20-15-10_LONG/2017-12-06/flxout_d02_20171204_170000.nc opened\n"
     ]
    },
    {
     "name": "stdout",
     "output_type": "stream",
     "text": [
      "2021-03-21 20:27:47,908 useful_scit  DEBUG    file /scratch/project_2001273/diego/flexpart-alto-data/run_2021-03-14_20-15-10_LONG/2017-12-06/flxout_d02_20171204_170000.nc opened\n"
     ]
    },
    {
     "name": "stderr",
     "output_type": "stream",
     "text": [
      "2021-03-21 20:27:47,982 useful_scit  DEBUG    file /scratch/project_2001273/diego/flexpart-alto-data/run_2021-03-14_20-15-10_LONG/2017-12-06/flxout_d02_20171204_180000.nc opened\n"
     ]
    },
    {
     "name": "stdout",
     "output_type": "stream",
     "text": [
      "2021-03-21 20:27:47,982 useful_scit  DEBUG    file /scratch/project_2001273/diego/flexpart-alto-data/run_2021-03-14_20-15-10_LONG/2017-12-06/flxout_d02_20171204_180000.nc opened\n"
     ]
    },
    {
     "name": "stderr",
     "output_type": "stream",
     "text": [
      "2021-03-21 20:27:48,051 useful_scit  DEBUG    file /scratch/project_2001273/diego/flexpart-alto-data/run_2021-03-14_20-15-10_LONG/2017-12-06/flxout_d02_20171204_190000.nc opened\n"
     ]
    },
    {
     "name": "stdout",
     "output_type": "stream",
     "text": [
      "2021-03-21 20:27:48,051 useful_scit  DEBUG    file /scratch/project_2001273/diego/flexpart-alto-data/run_2021-03-14_20-15-10_LONG/2017-12-06/flxout_d02_20171204_190000.nc opened\n"
     ]
    },
    {
     "name": "stderr",
     "output_type": "stream",
     "text": [
      "2021-03-21 20:27:48,057 useful_scit  DEBUG    file /scratch/project_2001273/diego/flexpart-alto-data/run_2021-03-14_20-15-10_LONG/2017-12-06/flxout_d02_20171204_200000.nc opened\n"
     ]
    },
    {
     "name": "stdout",
     "output_type": "stream",
     "text": [
      "2021-03-21 20:27:48,057 useful_scit  DEBUG    file /scratch/project_2001273/diego/flexpart-alto-data/run_2021-03-14_20-15-10_LONG/2017-12-06/flxout_d02_20171204_200000.nc opened\n"
     ]
    },
    {
     "name": "stderr",
     "output_type": "stream",
     "text": [
      "2021-03-21 20:27:48,151 useful_scit  DEBUG    file /scratch/project_2001273/diego/flexpart-alto-data/run_2021-03-14_20-15-10_LONG/2017-12-06/flxout_d02_20171204_210000.nc opened\n"
     ]
    },
    {
     "name": "stdout",
     "output_type": "stream",
     "text": [
      "2021-03-21 20:27:48,151 useful_scit  DEBUG    file /scratch/project_2001273/diego/flexpart-alto-data/run_2021-03-14_20-15-10_LONG/2017-12-06/flxout_d02_20171204_210000.nc opened\n"
     ]
    },
    {
     "name": "stderr",
     "output_type": "stream",
     "text": [
      "2021-03-21 20:27:48,221 useful_scit  DEBUG    file /scratch/project_2001273/diego/flexpart-alto-data/run_2021-03-14_20-15-10_LONG/2017-12-06/flxout_d02_20171204_220000.nc opened\n"
     ]
    },
    {
     "name": "stdout",
     "output_type": "stream",
     "text": [
      "2021-03-21 20:27:48,221 useful_scit  DEBUG    file /scratch/project_2001273/diego/flexpart-alto-data/run_2021-03-14_20-15-10_LONG/2017-12-06/flxout_d02_20171204_220000.nc opened\n"
     ]
    },
    {
     "name": "stderr",
     "output_type": "stream",
     "text": [
      "2021-03-21 20:27:48,292 useful_scit  DEBUG    file /scratch/project_2001273/diego/flexpart-alto-data/run_2021-03-14_20-15-10_LONG/2017-12-06/flxout_d02_20171204_230000.nc opened\n"
     ]
    },
    {
     "name": "stdout",
     "output_type": "stream",
     "text": [
      "2021-03-21 20:27:48,292 useful_scit  DEBUG    file /scratch/project_2001273/diego/flexpart-alto-data/run_2021-03-14_20-15-10_LONG/2017-12-06/flxout_d02_20171204_230000.nc opened\n"
     ]
    },
    {
     "name": "stderr",
     "output_type": "stream",
     "text": [
      "2021-03-21 20:27:48,361 useful_scit  DEBUG    file /scratch/project_2001273/diego/flexpart-alto-data/run_2021-03-14_20-15-10_LONG/2017-12-06/flxout_d02_20171205_000000.nc opened\n"
     ]
    },
    {
     "name": "stdout",
     "output_type": "stream",
     "text": [
      "2021-03-21 20:27:48,361 useful_scit  DEBUG    file /scratch/project_2001273/diego/flexpart-alto-data/run_2021-03-14_20-15-10_LONG/2017-12-06/flxout_d02_20171205_000000.nc opened\n"
     ]
    },
    {
     "name": "stderr",
     "output_type": "stream",
     "text": [
      "2021-03-21 20:27:48,445 useful_scit  DEBUG    file /scratch/project_2001273/diego/flexpart-alto-data/run_2021-03-14_20-15-10_LONG/2017-12-06/flxout_d02_20171205_010000.nc opened\n"
     ]
    },
    {
     "name": "stdout",
     "output_type": "stream",
     "text": [
      "2021-03-21 20:27:48,445 useful_scit  DEBUG    file /scratch/project_2001273/diego/flexpart-alto-data/run_2021-03-14_20-15-10_LONG/2017-12-06/flxout_d02_20171205_010000.nc opened\n"
     ]
    },
    {
     "name": "stderr",
     "output_type": "stream",
     "text": [
      "2021-03-21 20:27:48,495 useful_scit  DEBUG    file /scratch/project_2001273/diego/flexpart-alto-data/run_2021-03-14_20-15-10_LONG/2017-12-06/flxout_d02_20171205_020000.nc opened\n"
     ]
    },
    {
     "name": "stdout",
     "output_type": "stream",
     "text": [
      "2021-03-21 20:27:48,495 useful_scit  DEBUG    file /scratch/project_2001273/diego/flexpart-alto-data/run_2021-03-14_20-15-10_LONG/2017-12-06/flxout_d02_20171205_020000.nc opened\n"
     ]
    },
    {
     "name": "stderr",
     "output_type": "stream",
     "text": [
      "2021-03-21 20:27:48,586 useful_scit  DEBUG    file /scratch/project_2001273/diego/flexpart-alto-data/run_2021-03-14_20-15-10_LONG/2017-12-06/flxout_d02_20171205_030000.nc opened\n"
     ]
    },
    {
     "name": "stdout",
     "output_type": "stream",
     "text": [
      "2021-03-21 20:27:48,586 useful_scit  DEBUG    file /scratch/project_2001273/diego/flexpart-alto-data/run_2021-03-14_20-15-10_LONG/2017-12-06/flxout_d02_20171205_030000.nc opened\n"
     ]
    },
    {
     "name": "stderr",
     "output_type": "stream",
     "text": [
      "2021-03-21 20:27:48,764 useful_scit  DEBUG    file /scratch/project_2001273/diego/flexpart-alto-data/run_2021-03-14_20-15-10_LONG/2017-12-06/flxout_d02_20171205_040000.nc opened\n"
     ]
    },
    {
     "name": "stdout",
     "output_type": "stream",
     "text": [
      "2021-03-21 20:27:48,764 useful_scit  DEBUG    file /scratch/project_2001273/diego/flexpart-alto-data/run_2021-03-14_20-15-10_LONG/2017-12-06/flxout_d02_20171205_040000.nc opened\n"
     ]
    },
    {
     "name": "stderr",
     "output_type": "stream",
     "text": [
      "2021-03-21 20:27:48,831 useful_scit  DEBUG    file /scratch/project_2001273/diego/flexpart-alto-data/run_2021-03-14_20-15-10_LONG/2017-12-06/flxout_d02_20171205_050000.nc opened\n"
     ]
    },
    {
     "name": "stdout",
     "output_type": "stream",
     "text": [
      "2021-03-21 20:27:48,831 useful_scit  DEBUG    file /scratch/project_2001273/diego/flexpart-alto-data/run_2021-03-14_20-15-10_LONG/2017-12-06/flxout_d02_20171205_050000.nc opened\n"
     ]
    },
    {
     "name": "stderr",
     "output_type": "stream",
     "text": [
      "2021-03-21 20:27:48,893 useful_scit  DEBUG    file /scratch/project_2001273/diego/flexpart-alto-data/run_2021-03-14_20-15-10_LONG/2017-12-06/flxout_d02_20171205_060000.nc opened\n"
     ]
    },
    {
     "name": "stdout",
     "output_type": "stream",
     "text": [
      "2021-03-21 20:27:48,893 useful_scit  DEBUG    file /scratch/project_2001273/diego/flexpart-alto-data/run_2021-03-14_20-15-10_LONG/2017-12-06/flxout_d02_20171205_060000.nc opened\n"
     ]
    },
    {
     "name": "stderr",
     "output_type": "stream",
     "text": [
      "2021-03-21 20:27:48,970 useful_scit  DEBUG    file /scratch/project_2001273/diego/flexpart-alto-data/run_2021-03-14_20-15-10_LONG/2017-12-06/flxout_d02_20171205_070000.nc opened\n"
     ]
    },
    {
     "name": "stdout",
     "output_type": "stream",
     "text": [
      "2021-03-21 20:27:48,970 useful_scit  DEBUG    file /scratch/project_2001273/diego/flexpart-alto-data/run_2021-03-14_20-15-10_LONG/2017-12-06/flxout_d02_20171205_070000.nc opened\n"
     ]
    },
    {
     "name": "stderr",
     "output_type": "stream",
     "text": [
      "2021-03-21 20:27:49,038 useful_scit  DEBUG    file /scratch/project_2001273/diego/flexpart-alto-data/run_2021-03-14_20-15-10_LONG/2017-12-06/flxout_d02_20171205_080000.nc opened\n"
     ]
    },
    {
     "name": "stdout",
     "output_type": "stream",
     "text": [
      "2021-03-21 20:27:49,038 useful_scit  DEBUG    file /scratch/project_2001273/diego/flexpart-alto-data/run_2021-03-14_20-15-10_LONG/2017-12-06/flxout_d02_20171205_080000.nc opened\n"
     ]
    },
    {
     "name": "stderr",
     "output_type": "stream",
     "text": [
      "2021-03-21 20:27:49,108 useful_scit  DEBUG    file /scratch/project_2001273/diego/flexpart-alto-data/run_2021-03-14_20-15-10_LONG/2017-12-06/flxout_d02_20171205_090000.nc opened\n"
     ]
    },
    {
     "name": "stdout",
     "output_type": "stream",
     "text": [
      "2021-03-21 20:27:49,108 useful_scit  DEBUG    file /scratch/project_2001273/diego/flexpart-alto-data/run_2021-03-14_20-15-10_LONG/2017-12-06/flxout_d02_20171205_090000.nc opened\n"
     ]
    },
    {
     "name": "stderr",
     "output_type": "stream",
     "text": [
      "2021-03-21 20:27:49,183 useful_scit  DEBUG    file /scratch/project_2001273/diego/flexpart-alto-data/run_2021-03-14_20-15-10_LONG/2017-12-06/flxout_d02_20171205_100000.nc opened\n"
     ]
    },
    {
     "name": "stdout",
     "output_type": "stream",
     "text": [
      "2021-03-21 20:27:49,183 useful_scit  DEBUG    file /scratch/project_2001273/diego/flexpart-alto-data/run_2021-03-14_20-15-10_LONG/2017-12-06/flxout_d02_20171205_100000.nc opened\n"
     ]
    },
    {
     "name": "stderr",
     "output_type": "stream",
     "text": [
      "2021-03-21 20:27:49,265 useful_scit  DEBUG    file /scratch/project_2001273/diego/flexpart-alto-data/run_2021-03-14_20-15-10_LONG/2017-12-06/flxout_d02_20171205_110000.nc opened\n"
     ]
    },
    {
     "name": "stdout",
     "output_type": "stream",
     "text": [
      "2021-03-21 20:27:49,265 useful_scit  DEBUG    file /scratch/project_2001273/diego/flexpart-alto-data/run_2021-03-14_20-15-10_LONG/2017-12-06/flxout_d02_20171205_110000.nc opened\n"
     ]
    },
    {
     "name": "stderr",
     "output_type": "stream",
     "text": [
      "2021-03-21 20:27:49,355 useful_scit  DEBUG    file /scratch/project_2001273/diego/flexpart-alto-data/run_2021-03-14_20-15-10_LONG/2017-12-06/flxout_d02_20171205_120000.nc opened\n"
     ]
    },
    {
     "name": "stdout",
     "output_type": "stream",
     "text": [
      "2021-03-21 20:27:49,355 useful_scit  DEBUG    file /scratch/project_2001273/diego/flexpart-alto-data/run_2021-03-14_20-15-10_LONG/2017-12-06/flxout_d02_20171205_120000.nc opened\n"
     ]
    },
    {
     "name": "stderr",
     "output_type": "stream",
     "text": [
      "2021-03-21 20:27:49,408 useful_scit  DEBUG    file /scratch/project_2001273/diego/flexpart-alto-data/run_2021-03-14_20-15-10_LONG/2017-12-06/flxout_d02_20171205_130000.nc opened\n"
     ]
    },
    {
     "name": "stdout",
     "output_type": "stream",
     "text": [
      "2021-03-21 20:27:49,408 useful_scit  DEBUG    file /scratch/project_2001273/diego/flexpart-alto-data/run_2021-03-14_20-15-10_LONG/2017-12-06/flxout_d02_20171205_130000.nc opened\n"
     ]
    },
    {
     "name": "stderr",
     "output_type": "stream",
     "text": [
      "2021-03-21 20:27:49,488 useful_scit  DEBUG    file /scratch/project_2001273/diego/flexpart-alto-data/run_2021-03-14_20-15-10_LONG/2017-12-06/flxout_d02_20171205_140000.nc opened\n"
     ]
    },
    {
     "name": "stdout",
     "output_type": "stream",
     "text": [
      "2021-03-21 20:27:49,488 useful_scit  DEBUG    file /scratch/project_2001273/diego/flexpart-alto-data/run_2021-03-14_20-15-10_LONG/2017-12-06/flxout_d02_20171205_140000.nc opened\n"
     ]
    },
    {
     "name": "stderr",
     "output_type": "stream",
     "text": [
      "2021-03-21 20:27:49,581 useful_scit  DEBUG    file /scratch/project_2001273/diego/flexpart-alto-data/run_2021-03-14_20-15-10_LONG/2017-12-06/flxout_d02_20171205_150000.nc opened\n"
     ]
    },
    {
     "name": "stdout",
     "output_type": "stream",
     "text": [
      "2021-03-21 20:27:49,581 useful_scit  DEBUG    file /scratch/project_2001273/diego/flexpart-alto-data/run_2021-03-14_20-15-10_LONG/2017-12-06/flxout_d02_20171205_150000.nc opened\n"
     ]
    },
    {
     "name": "stderr",
     "output_type": "stream",
     "text": [
      "2021-03-21 20:27:49,681 useful_scit  DEBUG    file /scratch/project_2001273/diego/flexpart-alto-data/run_2021-03-14_20-15-10_LONG/2017-12-06/flxout_d02_20171205_160000.nc opened\n"
     ]
    },
    {
     "name": "stdout",
     "output_type": "stream",
     "text": [
      "2021-03-21 20:27:49,681 useful_scit  DEBUG    file /scratch/project_2001273/diego/flexpart-alto-data/run_2021-03-14_20-15-10_LONG/2017-12-06/flxout_d02_20171205_160000.nc opened\n"
     ]
    },
    {
     "name": "stderr",
     "output_type": "stream",
     "text": [
      "2021-03-21 20:27:49,812 useful_scit  DEBUG    file /scratch/project_2001273/diego/flexpart-alto-data/run_2021-03-14_20-15-10_LONG/2017-12-06/flxout_d02_20171205_170000.nc opened\n"
     ]
    },
    {
     "name": "stdout",
     "output_type": "stream",
     "text": [
      "2021-03-21 20:27:49,812 useful_scit  DEBUG    file /scratch/project_2001273/diego/flexpart-alto-data/run_2021-03-14_20-15-10_LONG/2017-12-06/flxout_d02_20171205_170000.nc opened\n"
     ]
    },
    {
     "name": "stderr",
     "output_type": "stream",
     "text": [
      "2021-03-21 20:27:49,899 useful_scit  DEBUG    file /scratch/project_2001273/diego/flexpart-alto-data/run_2021-03-14_20-15-10_LONG/2017-12-06/flxout_d02_20171205_180000.nc opened\n"
     ]
    },
    {
     "name": "stdout",
     "output_type": "stream",
     "text": [
      "2021-03-21 20:27:49,899 useful_scit  DEBUG    file /scratch/project_2001273/diego/flexpart-alto-data/run_2021-03-14_20-15-10_LONG/2017-12-06/flxout_d02_20171205_180000.nc opened\n"
     ]
    },
    {
     "name": "stderr",
     "output_type": "stream",
     "text": [
      "2021-03-21 20:27:49,965 useful_scit  DEBUG    file /scratch/project_2001273/diego/flexpart-alto-data/run_2021-03-14_20-15-10_LONG/2017-12-06/flxout_d02_20171205_190000.nc opened\n"
     ]
    },
    {
     "name": "stdout",
     "output_type": "stream",
     "text": [
      "2021-03-21 20:27:49,965 useful_scit  DEBUG    file /scratch/project_2001273/diego/flexpart-alto-data/run_2021-03-14_20-15-10_LONG/2017-12-06/flxout_d02_20171205_190000.nc opened\n"
     ]
    },
    {
     "name": "stderr",
     "output_type": "stream",
     "text": [
      "2021-03-21 20:27:50,084 useful_scit  DEBUG    file /scratch/project_2001273/diego/flexpart-alto-data/run_2021-03-14_20-15-10_LONG/2017-12-06/flxout_d02_20171205_200000.nc opened\n"
     ]
    },
    {
     "name": "stdout",
     "output_type": "stream",
     "text": [
      "2021-03-21 20:27:50,084 useful_scit  DEBUG    file /scratch/project_2001273/diego/flexpart-alto-data/run_2021-03-14_20-15-10_LONG/2017-12-06/flxout_d02_20171205_200000.nc opened\n"
     ]
    },
    {
     "name": "stderr",
     "output_type": "stream",
     "text": [
      "2021-03-21 20:27:50,289 useful_scit  DEBUG    file /scratch/project_2001273/diego/flexpart-alto-data/run_2021-03-14_20-15-10_LONG/2017-12-06/flxout_d02_20171205_210000.nc opened\n"
     ]
    },
    {
     "name": "stdout",
     "output_type": "stream",
     "text": [
      "2021-03-21 20:27:50,289 useful_scit  DEBUG    file /scratch/project_2001273/diego/flexpart-alto-data/run_2021-03-14_20-15-10_LONG/2017-12-06/flxout_d02_20171205_210000.nc opened\n"
     ]
    },
    {
     "name": "stderr",
     "output_type": "stream",
     "text": [
      "2021-03-21 20:27:50,369 useful_scit  DEBUG    file /scratch/project_2001273/diego/flexpart-alto-data/run_2021-03-14_20-15-10_LONG/2017-12-06/flxout_d02_20171205_220000.nc opened\n"
     ]
    },
    {
     "name": "stdout",
     "output_type": "stream",
     "text": [
      "2021-03-21 20:27:50,369 useful_scit  DEBUG    file /scratch/project_2001273/diego/flexpart-alto-data/run_2021-03-14_20-15-10_LONG/2017-12-06/flxout_d02_20171205_220000.nc opened\n"
     ]
    },
    {
     "name": "stderr",
     "output_type": "stream",
     "text": [
      "2021-03-21 20:27:50,442 useful_scit  DEBUG    file /scratch/project_2001273/diego/flexpart-alto-data/run_2021-03-14_20-15-10_LONG/2017-12-06/flxout_d02_20171205_230000.nc opened\n"
     ]
    },
    {
     "name": "stdout",
     "output_type": "stream",
     "text": [
      "2021-03-21 20:27:50,442 useful_scit  DEBUG    file /scratch/project_2001273/diego/flexpart-alto-data/run_2021-03-14_20-15-10_LONG/2017-12-06/flxout_d02_20171205_230000.nc opened\n"
     ]
    },
    {
     "name": "stderr",
     "output_type": "stream",
     "text": [
      "2021-03-21 20:27:50,511 useful_scit  DEBUG    file /scratch/project_2001273/diego/flexpart-alto-data/run_2021-03-14_20-15-10_LONG/2017-12-06/flxout_d02_20171206_000000.nc opened\n"
     ]
    },
    {
     "name": "stdout",
     "output_type": "stream",
     "text": [
      "2021-03-21 20:27:50,511 useful_scit  DEBUG    file /scratch/project_2001273/diego/flexpart-alto-data/run_2021-03-14_20-15-10_LONG/2017-12-06/flxout_d02_20171206_000000.nc opened\n"
     ]
    },
    {
     "name": "stderr",
     "output_type": "stream",
     "text": [
      "2021-03-21 20:27:50,574 useful_scit  DEBUG    file /scratch/project_2001273/diego/flexpart-alto-data/run_2021-03-14_20-15-10_LONG/2017-12-06/flxout_d02_20171206_010000.nc opened\n"
     ]
    },
    {
     "name": "stdout",
     "output_type": "stream",
     "text": [
      "2021-03-21 20:27:50,574 useful_scit  DEBUG    file /scratch/project_2001273/diego/flexpart-alto-data/run_2021-03-14_20-15-10_LONG/2017-12-06/flxout_d02_20171206_010000.nc opened\n"
     ]
    },
    {
     "name": "stderr",
     "output_type": "stream",
     "text": [
      "2021-03-21 20:27:50,633 useful_scit  DEBUG    file /scratch/project_2001273/diego/flexpart-alto-data/run_2021-03-14_20-15-10_LONG/2017-12-06/flxout_d02_20171206_020000.nc opened\n"
     ]
    },
    {
     "name": "stdout",
     "output_type": "stream",
     "text": [
      "2021-03-21 20:27:50,633 useful_scit  DEBUG    file /scratch/project_2001273/diego/flexpart-alto-data/run_2021-03-14_20-15-10_LONG/2017-12-06/flxout_d02_20171206_020000.nc opened\n"
     ]
    },
    {
     "name": "stderr",
     "output_type": "stream",
     "text": [
      "2021-03-21 20:27:50,686 useful_scit  DEBUG    file /scratch/project_2001273/diego/flexpart-alto-data/run_2021-03-14_20-15-10_LONG/2017-12-06/flxout_d02_20171206_030000.nc opened\n"
     ]
    },
    {
     "name": "stdout",
     "output_type": "stream",
     "text": [
      "2021-03-21 20:27:50,686 useful_scit  DEBUG    file /scratch/project_2001273/diego/flexpart-alto-data/run_2021-03-14_20-15-10_LONG/2017-12-06/flxout_d02_20171206_030000.nc opened\n"
     ]
    },
    {
     "name": "stderr",
     "output_type": "stream",
     "text": [
      "2021-03-21 20:27:50,739 useful_scit  DEBUG    file /scratch/project_2001273/diego/flexpart-alto-data/run_2021-03-14_20-15-10_LONG/2017-12-06/flxout_d02_20171206_040000.nc opened\n"
     ]
    },
    {
     "name": "stdout",
     "output_type": "stream",
     "text": [
      "2021-03-21 20:27:50,739 useful_scit  DEBUG    file /scratch/project_2001273/diego/flexpart-alto-data/run_2021-03-14_20-15-10_LONG/2017-12-06/flxout_d02_20171206_040000.nc opened\n"
     ]
    },
    {
     "name": "stderr",
     "output_type": "stream",
     "text": [
      "2021-03-21 20:27:50,791 useful_scit  DEBUG    file /scratch/project_2001273/diego/flexpart-alto-data/run_2021-03-14_20-15-10_LONG/2017-12-06/flxout_d02_20171206_050000.nc opened\n"
     ]
    },
    {
     "name": "stdout",
     "output_type": "stream",
     "text": [
      "2021-03-21 20:27:50,791 useful_scit  DEBUG    file /scratch/project_2001273/diego/flexpart-alto-data/run_2021-03-14_20-15-10_LONG/2017-12-06/flxout_d02_20171206_050000.nc opened\n"
     ]
    },
    {
     "name": "stderr",
     "output_type": "stream",
     "text": [
      "2021-03-21 20:27:50,896 useful_scit  DEBUG    file /scratch/project_2001273/diego/flexpart-alto-data/run_2021-03-14_20-15-10_LONG/2017-12-06/flxout_d02_20171206_060000.nc opened\n"
     ]
    },
    {
     "name": "stdout",
     "output_type": "stream",
     "text": [
      "2021-03-21 20:27:50,896 useful_scit  DEBUG    file /scratch/project_2001273/diego/flexpart-alto-data/run_2021-03-14_20-15-10_LONG/2017-12-06/flxout_d02_20171206_060000.nc opened\n"
     ]
    },
    {
     "name": "stderr",
     "output_type": "stream",
     "text": [
      "2021-03-21 20:27:50,951 useful_scit  DEBUG    file /scratch/project_2001273/diego/flexpart-alto-data/run_2021-03-14_20-15-10_LONG/2017-12-06/flxout_d02_20171206_070000.nc opened\n"
     ]
    },
    {
     "name": "stdout",
     "output_type": "stream",
     "text": [
      "2021-03-21 20:27:50,951 useful_scit  DEBUG    file /scratch/project_2001273/diego/flexpart-alto-data/run_2021-03-14_20-15-10_LONG/2017-12-06/flxout_d02_20171206_070000.nc opened\n"
     ]
    },
    {
     "name": "stderr",
     "output_type": "stream",
     "text": [
      "2021-03-21 20:27:51,006 useful_scit  DEBUG    file /scratch/project_2001273/diego/flexpart-alto-data/run_2021-03-14_20-15-10_LONG/2017-12-06/flxout_d02_20171206_080000.nc opened\n"
     ]
    },
    {
     "name": "stdout",
     "output_type": "stream",
     "text": [
      "2021-03-21 20:27:51,006 useful_scit  DEBUG    file /scratch/project_2001273/diego/flexpart-alto-data/run_2021-03-14_20-15-10_LONG/2017-12-06/flxout_d02_20171206_080000.nc opened\n"
     ]
    },
    {
     "name": "stderr",
     "output_type": "stream",
     "text": [
      "2021-03-21 20:27:51,050 useful_scit  DEBUG    file /scratch/project_2001273/diego/flexpart-alto-data/run_2021-03-14_20-15-10_LONG/2017-12-06/flxout_d02_20171206_090000.nc opened\n"
     ]
    },
    {
     "name": "stdout",
     "output_type": "stream",
     "text": [
      "2021-03-21 20:27:51,050 useful_scit  DEBUG    file /scratch/project_2001273/diego/flexpart-alto-data/run_2021-03-14_20-15-10_LONG/2017-12-06/flxout_d02_20171206_090000.nc opened\n"
     ]
    },
    {
     "name": "stderr",
     "output_type": "stream",
     "text": [
      "2021-03-21 20:27:51,104 useful_scit  DEBUG    file /scratch/project_2001273/diego/flexpart-alto-data/run_2021-03-14_20-15-10_LONG/2017-12-06/flxout_d02_20171206_100000.nc opened\n"
     ]
    },
    {
     "name": "stdout",
     "output_type": "stream",
     "text": [
      "2021-03-21 20:27:51,104 useful_scit  DEBUG    file /scratch/project_2001273/diego/flexpart-alto-data/run_2021-03-14_20-15-10_LONG/2017-12-06/flxout_d02_20171206_100000.nc opened\n"
     ]
    },
    {
     "name": "stderr",
     "output_type": "stream",
     "text": [
      "2021-03-21 20:27:51,155 useful_scit  DEBUG    file /scratch/project_2001273/diego/flexpart-alto-data/run_2021-03-14_20-15-10_LONG/2017-12-06/flxout_d02_20171206_110000.nc opened\n"
     ]
    },
    {
     "name": "stdout",
     "output_type": "stream",
     "text": [
      "2021-03-21 20:27:51,155 useful_scit  DEBUG    file /scratch/project_2001273/diego/flexpart-alto-data/run_2021-03-14_20-15-10_LONG/2017-12-06/flxout_d02_20171206_110000.nc opened\n"
     ]
    },
    {
     "name": "stderr",
     "output_type": "stream",
     "text": [
      "2021-03-21 20:27:51,195 useful_scit  DEBUG    file /scratch/project_2001273/diego/flexpart-alto-data/run_2021-03-14_20-15-10_LONG/2017-12-06/flxout_d02_20171206_120000.nc opened\n"
     ]
    },
    {
     "name": "stdout",
     "output_type": "stream",
     "text": [
      "2021-03-21 20:27:51,195 useful_scit  DEBUG    file /scratch/project_2001273/diego/flexpart-alto-data/run_2021-03-14_20-15-10_LONG/2017-12-06/flxout_d02_20171206_120000.nc opened\n"
     ]
    },
    {
     "name": "stderr",
     "output_type": "stream",
     "text": [
      "2021-03-21 20:27:51,246 useful_scit  DEBUG    file /scratch/project_2001273/diego/flexpart-alto-data/run_2021-03-14_20-15-10_LONG/2017-12-06/flxout_d02_20171206_130000.nc opened\n"
     ]
    },
    {
     "name": "stdout",
     "output_type": "stream",
     "text": [
      "2021-03-21 20:27:51,246 useful_scit  DEBUG    file /scratch/project_2001273/diego/flexpart-alto-data/run_2021-03-14_20-15-10_LONG/2017-12-06/flxout_d02_20171206_130000.nc opened\n"
     ]
    },
    {
     "name": "stderr",
     "output_type": "stream",
     "text": [
      "2021-03-21 20:27:51,320 useful_scit  DEBUG    file /scratch/project_2001273/diego/flexpart-alto-data/run_2021-03-14_20-15-10_LONG/2017-12-06/flxout_d02_20171206_140000.nc opened\n"
     ]
    },
    {
     "name": "stdout",
     "output_type": "stream",
     "text": [
      "2021-03-21 20:27:51,320 useful_scit  DEBUG    file /scratch/project_2001273/diego/flexpart-alto-data/run_2021-03-14_20-15-10_LONG/2017-12-06/flxout_d02_20171206_140000.nc opened\n"
     ]
    },
    {
     "name": "stderr",
     "output_type": "stream",
     "text": [
      "2021-03-21 20:27:51,386 useful_scit  DEBUG    file /scratch/project_2001273/diego/flexpart-alto-data/run_2021-03-14_20-15-10_LONG/2017-12-06/flxout_d02_20171206_150000.nc opened\n"
     ]
    },
    {
     "name": "stdout",
     "output_type": "stream",
     "text": [
      "2021-03-21 20:27:51,386 useful_scit  DEBUG    file /scratch/project_2001273/diego/flexpart-alto-data/run_2021-03-14_20-15-10_LONG/2017-12-06/flxout_d02_20171206_150000.nc opened\n"
     ]
    },
    {
     "name": "stderr",
     "output_type": "stream",
     "text": [
      "2021-03-21 20:27:51,392 useful_scit  DEBUG    file /scratch/project_2001273/diego/flexpart-alto-data/run_2021-03-14_20-15-10_LONG/2017-12-06/flxout_d02_20171206_160000.nc opened\n"
     ]
    },
    {
     "name": "stdout",
     "output_type": "stream",
     "text": [
      "2021-03-21 20:27:51,392 useful_scit  DEBUG    file /scratch/project_2001273/diego/flexpart-alto-data/run_2021-03-14_20-15-10_LONG/2017-12-06/flxout_d02_20171206_160000.nc opened\n"
     ]
    },
    {
     "name": "stderr",
     "output_type": "stream",
     "text": [
      "2021-03-21 20:27:51,521 useful_scit  DEBUG    file /scratch/project_2001273/diego/flexpart-alto-data/run_2021-03-14_20-15-10_LONG/2017-12-06/flxout_d02_20171206_170000.nc opened\n"
     ]
    },
    {
     "name": "stdout",
     "output_type": "stream",
     "text": [
      "2021-03-21 20:27:51,521 useful_scit  DEBUG    file /scratch/project_2001273/diego/flexpart-alto-data/run_2021-03-14_20-15-10_LONG/2017-12-06/flxout_d02_20171206_170000.nc opened\n"
     ]
    },
    {
     "name": "stderr",
     "output_type": "stream",
     "text": [
      "2021-03-21 20:27:51,576 useful_scit  DEBUG    file /scratch/project_2001273/diego/flexpart-alto-data/run_2021-03-14_20-15-10_LONG/2017-12-06/flxout_d02_20171206_180000.nc opened\n"
     ]
    },
    {
     "name": "stdout",
     "output_type": "stream",
     "text": [
      "2021-03-21 20:27:51,576 useful_scit  DEBUG    file /scratch/project_2001273/diego/flexpart-alto-data/run_2021-03-14_20-15-10_LONG/2017-12-06/flxout_d02_20171206_180000.nc opened\n"
     ]
    },
    {
     "name": "stderr",
     "output_type": "stream",
     "text": [
      "2021-03-21 20:27:51,646 useful_scit  DEBUG    file /scratch/project_2001273/diego/flexpart-alto-data/run_2021-03-14_20-15-10_LONG/2017-12-06/flxout_d02_20171206_190000.nc opened\n"
     ]
    },
    {
     "name": "stdout",
     "output_type": "stream",
     "text": [
      "2021-03-21 20:27:51,646 useful_scit  DEBUG    file /scratch/project_2001273/diego/flexpart-alto-data/run_2021-03-14_20-15-10_LONG/2017-12-06/flxout_d02_20171206_190000.nc opened\n"
     ]
    },
    {
     "name": "stderr",
     "output_type": "stream",
     "text": [
      "2021-03-21 20:27:51,688 useful_scit  DEBUG    file /scratch/project_2001273/diego/flexpart-alto-data/run_2021-03-14_20-15-10_LONG/2017-12-06/flxout_d02_20171206_200000.nc opened\n"
     ]
    },
    {
     "name": "stdout",
     "output_type": "stream",
     "text": [
      "2021-03-21 20:27:51,688 useful_scit  DEBUG    file /scratch/project_2001273/diego/flexpart-alto-data/run_2021-03-14_20-15-10_LONG/2017-12-06/flxout_d02_20171206_200000.nc opened\n"
     ]
    },
    {
     "name": "stderr",
     "output_type": "stream",
     "text": [
      "2021-03-21 20:27:51,736 useful_scit  DEBUG    file /scratch/project_2001273/diego/flexpart-alto-data/run_2021-03-14_20-15-10_LONG/2017-12-06/flxout_d02_20171206_210000.nc opened\n"
     ]
    },
    {
     "name": "stdout",
     "output_type": "stream",
     "text": [
      "2021-03-21 20:27:51,736 useful_scit  DEBUG    file /scratch/project_2001273/diego/flexpart-alto-data/run_2021-03-14_20-15-10_LONG/2017-12-06/flxout_d02_20171206_210000.nc opened\n"
     ]
    },
    {
     "name": "stderr",
     "output_type": "stream",
     "text": [
      "2021-03-21 20:27:51,794 useful_scit  DEBUG    file /scratch/project_2001273/diego/flexpart-alto-data/run_2021-03-14_20-15-10_LONG/2017-12-06/flxout_d02_20171206_220000.nc opened\n"
     ]
    },
    {
     "name": "stdout",
     "output_type": "stream",
     "text": [
      "2021-03-21 20:27:51,794 useful_scit  DEBUG    file /scratch/project_2001273/diego/flexpart-alto-data/run_2021-03-14_20-15-10_LONG/2017-12-06/flxout_d02_20171206_220000.nc opened\n"
     ]
    },
    {
     "name": "stderr",
     "output_type": "stream",
     "text": [
      "2021-03-21 20:27:51,842 useful_scit  DEBUG    file /scratch/project_2001273/diego/flexpart-alto-data/run_2021-03-14_20-15-10_LONG/2017-12-06/flxout_d02_20171206_230000.nc opened\n"
     ]
    },
    {
     "name": "stdout",
     "output_type": "stream",
     "text": [
      "2021-03-21 20:27:51,842 useful_scit  DEBUG    file /scratch/project_2001273/diego/flexpart-alto-data/run_2021-03-14_20-15-10_LONG/2017-12-06/flxout_d02_20171206_230000.nc opened\n"
     ]
    },
    {
     "name": "stderr",
     "output_type": "stream",
     "text": [
      "2021-03-21 20:27:53,890 useful_scit  DEBUG    log_pol_file exists\n"
     ]
    },
    {
     "name": "stdout",
     "output_type": "stream",
     "text": [
      "2021-03-21 20:27:53,890 useful_scit  DEBUG    log_pol_file exists\n",
      "done d02 /scratch/project_2001273/diego/flexpart-alto-data/run_2021-03-14_20-15-10_LONG/2017-12-06\n"
     ]
    }
   ],
   "source": [
    "for p in paths[:1]:\n",
    "    for d in doms:\n",
    "        print('starting',d,p)\n",
    "        new_dic = dict(dom=d,folder_path=p)\n",
    "        fo_dic = {**fo_base_dic,**new_dic}\n",
    "\n",
    "        try:\n",
    "            fo = FO.FLEXOUT(**fo_dic)\n",
    "            fo.export_log_polar_coords()\n",
    "            print('done',d,p)\n",
    "        except AssertionError as error:\n",
    "            log.ger.error(error)\n",
    "            print('failed when',d,p)"
   ]
  },
  {
   "cell_type": "code",
   "execution_count": 11,
   "metadata": {},
   "outputs": [
    {
     "data": {
      "text/plain": [
       "2"
      ]
     },
     "execution_count": 11,
     "metadata": {},
     "output_type": "execute_result"
    }
   ],
   "source": [
    "2"
   ]
  },
  {
   "cell_type": "code",
   "execution_count": null,
   "metadata": {},
   "outputs": [],
   "source": []
  }
 ],
 "metadata": {
  "jupytext": {
   "formats": "ipynb,py:percent"
  },
  "kernelspec": {
   "display_name": "Python 3",
   "language": "python",
   "name": "python3"
  },
  "language_info": {
   "codemirror_mode": {
    "name": "ipython",
    "version": 3
   },
   "file_extension": ".py",
   "mimetype": "text/x-python",
   "name": "python",
   "nbconvert_exporter": "python",
   "pygments_lexer": "ipython3",
   "version": "3.8.6"
  }
 },
 "nbformat": 4,
 "nbformat_minor": 4
}
