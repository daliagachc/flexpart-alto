{
 "cells": [
  {
   "cell_type": "code",
   "execution_count": null,
   "metadata": {},
   "outputs": [],
   "source": []
  },
  {
   "cell_type": "code",
   "execution_count": 1,
   "metadata": {
    "lines_to_next_cell": 2
   },
   "outputs": [],
   "source": [
    "# this notebook was created to convert rectanfular coo"
   ]
  },
  {
   "cell_type": "code",
   "execution_count": 3,
   "metadata": {},
   "outputs": [
    {
     "name": "stdout",
     "output_type": "stream",
     "text": [
      "The autoreload extension is already loaded. To reload it, use:\n",
      "  %reload_ext autoreload\n"
     ]
    }
   ],
   "source": [
    "import flexpart_alto.modules.FLEXOUT as FO\n",
    "import flexpart_alto.modules.flx_array as fa\n",
    "from useful_scit.imps2.defs import *"
   ]
  },
  {
   "cell_type": "code",
   "execution_count": 7,
   "metadata": {},
   "outputs": [],
   "source": [
    "log.ger.setLevel(log.log.DEBUG)"
   ]
  },
  {
   "cell_type": "code",
   "execution_count": 8,
   "metadata": {},
   "outputs": [],
   "source": [
    "#os.environ['HDF5_USE_FILE_LOCKING'] = 'FALSE'\n",
    "doms = ['d01','d02']\n",
    "\n",
    "run_root_path = Path('/scratch/project_2001273/diego/flexpart-alto-data/run_2021-03-14_20-15-10_LONG')\n",
    "\n",
    "root_path = run_root_path / '*-*-*'\n",
    "# root_path = '/homeappl/home/aliagadi/wrk/DONOTREMOVE/flexpart_management_data/runs/run_2019-06-05_18-42-11_/*-*-*'\n",
    "path_out = run_root_path/ 'log_pol'\n",
    "\n",
    "run_name = 'run_2021-03-14_20-15-10_LONG'\n",
    "paths = glob.glob(str(root_path))\n",
    "paths.sort()"
   ]
  },
  {
   "cell_type": "code",
   "execution_count": 9,
   "metadata": {},
   "outputs": [],
   "source": [
    "fo_base_dic  = dict(\n",
    "# dom = 'd01',\n",
    "# folder_path = '/Volumes/mbProD/Downloads/flex_out/run_2019-06-02_20-42-05_/2017-12-10',\n",
    "folder_path_out = path_out,\n",
    "run_name= run_name,\n",
    ")"
   ]
  },
  {
   "cell_type": "code",
   "execution_count": 13,
   "metadata": {
    "lines_to_next_cell": 2
   },
   "outputs": [
    {
     "name": "stderr",
     "output_type": "stream",
     "text": [
      "2021-03-21 21:11:35,569 useful_scit  DEBUG    head file is /scratch/project_2001273/diego/flexpart-alto-data/run_2021-03-14_20-15-10_LONG/2017-12-06/*header_*d01*\n"
     ]
    },
    {
     "name": "stdout",
     "output_type": "stream",
     "text": [
      "starting d01 /scratch/project_2001273/diego/flexpart-alto-data/run_2021-03-14_20-15-10_LONG/2017-12-06\n",
      "2021-03-21 21:11:35,569 useful_scit  DEBUG    head file is /scratch/project_2001273/diego/flexpart-alto-data/run_2021-03-14_20-15-10_LONG/2017-12-06/*header_*d01*\n"
     ]
    },
    {
     "name": "stderr",
     "output_type": "stream",
     "text": [
      "2021-03-21 21:11:35,572 useful_scit  DEBUG    head file again is /scratch/project_2001273/diego/flexpart-alto-data/run_2021-03-14_20-15-10_LONG/2017-12-06/header_d01.nc\n"
     ]
    },
    {
     "name": "stdout",
     "output_type": "stream",
     "text": [
      "2021-03-21 21:11:35,572 useful_scit  DEBUG    head file again is /scratch/project_2001273/diego/flexpart-alto-data/run_2021-03-14_20-15-10_LONG/2017-12-06/header_d01.nc\n"
     ]
    },
    {
     "name": "stderr",
     "output_type": "stream",
     "text": [
      "2021-03-21 21:11:35,575 useful_scit  DEBUG    out path is /scratch/project_2001273/diego/flexpart-alto-data/run_2021-03-14_20-15-10_LONG/2017-12-06/*flxout_*d01*\n"
     ]
    },
    {
     "name": "stdout",
     "output_type": "stream",
     "text": [
      "2021-03-21 21:11:35,575 useful_scit  DEBUG    out path is /scratch/project_2001273/diego/flexpart-alto-data/run_2021-03-14_20-15-10_LONG/2017-12-06/*flxout_*d01*\n"
     ]
    },
    {
     "name": "stderr",
     "output_type": "stream",
     "text": [
      "2021-03-21 21:11:35,579 useful_scit  DEBUG    out path list 1st elemnt is ['/scratch/project_2001273/diego/flexpart-alto-data/run_2021-03-14_20-15-10_LONG/2017-12-06/flxout_d01_20171202_000000.nc']\n"
     ]
    },
    {
     "name": "stdout",
     "output_type": "stream",
     "text": [
      "2021-03-21 21:11:35,579 useful_scit  DEBUG    out path list 1st elemnt is ['/scratch/project_2001273/diego/flexpart-alto-data/run_2021-03-14_20-15-10_LONG/2017-12-06/flxout_d01_20171202_000000.nc']\n"
     ]
    },
    {
     "name": "stderr",
     "output_type": "stream",
     "text": [
      "2021-03-21 21:11:35,586 useful_scit  DEBUG    file /scratch/project_2001273/diego/flexpart-alto-data/run_2021-03-14_20-15-10_LONG/2017-12-06/flxout_d01_20171202_000000.nc opened\n"
     ]
    },
    {
     "name": "stdout",
     "output_type": "stream",
     "text": [
      "2021-03-21 21:11:35,586 useful_scit  DEBUG    file /scratch/project_2001273/diego/flexpart-alto-data/run_2021-03-14_20-15-10_LONG/2017-12-06/flxout_d01_20171202_000000.nc opened\n"
     ]
    },
    {
     "name": "stderr",
     "output_type": "stream",
     "text": [
      "2021-03-21 21:11:35,631 useful_scit  DEBUG    file /scratch/project_2001273/diego/flexpart-alto-data/run_2021-03-14_20-15-10_LONG/2017-12-06/flxout_d01_20171202_010000.nc opened\n"
     ]
    },
    {
     "name": "stdout",
     "output_type": "stream",
     "text": [
      "2021-03-21 21:11:35,631 useful_scit  DEBUG    file /scratch/project_2001273/diego/flexpart-alto-data/run_2021-03-14_20-15-10_LONG/2017-12-06/flxout_d01_20171202_010000.nc opened\n"
     ]
    },
    {
     "name": "stderr",
     "output_type": "stream",
     "text": [
      "2021-03-21 21:11:35,637 useful_scit  DEBUG    file /scratch/project_2001273/diego/flexpart-alto-data/run_2021-03-14_20-15-10_LONG/2017-12-06/flxout_d01_20171202_020000.nc opened\n"
     ]
    },
    {
     "name": "stdout",
     "output_type": "stream",
     "text": [
      "2021-03-21 21:11:35,637 useful_scit  DEBUG    file /scratch/project_2001273/diego/flexpart-alto-data/run_2021-03-14_20-15-10_LONG/2017-12-06/flxout_d01_20171202_020000.nc opened\n"
     ]
    },
    {
     "name": "stderr",
     "output_type": "stream",
     "text": [
      "2021-03-21 21:11:35,644 useful_scit  DEBUG    file /scratch/project_2001273/diego/flexpart-alto-data/run_2021-03-14_20-15-10_LONG/2017-12-06/flxout_d01_20171202_030000.nc opened\n"
     ]
    },
    {
     "name": "stdout",
     "output_type": "stream",
     "text": [
      "2021-03-21 21:11:35,644 useful_scit  DEBUG    file /scratch/project_2001273/diego/flexpart-alto-data/run_2021-03-14_20-15-10_LONG/2017-12-06/flxout_d01_20171202_030000.nc opened\n"
     ]
    },
    {
     "name": "stderr",
     "output_type": "stream",
     "text": [
      "2021-03-21 21:11:35,650 useful_scit  DEBUG    file /scratch/project_2001273/diego/flexpart-alto-data/run_2021-03-14_20-15-10_LONG/2017-12-06/flxout_d01_20171202_040000.nc opened\n"
     ]
    },
    {
     "name": "stdout",
     "output_type": "stream",
     "text": [
      "2021-03-21 21:11:35,650 useful_scit  DEBUG    file /scratch/project_2001273/diego/flexpart-alto-data/run_2021-03-14_20-15-10_LONG/2017-12-06/flxout_d01_20171202_040000.nc opened\n"
     ]
    },
    {
     "name": "stderr",
     "output_type": "stream",
     "text": [
      "2021-03-21 21:11:35,656 useful_scit  DEBUG    file /scratch/project_2001273/diego/flexpart-alto-data/run_2021-03-14_20-15-10_LONG/2017-12-06/flxout_d01_20171202_050000.nc opened\n"
     ]
    },
    {
     "name": "stdout",
     "output_type": "stream",
     "text": [
      "2021-03-21 21:11:35,656 useful_scit  DEBUG    file /scratch/project_2001273/diego/flexpart-alto-data/run_2021-03-14_20-15-10_LONG/2017-12-06/flxout_d01_20171202_050000.nc opened\n"
     ]
    },
    {
     "name": "stderr",
     "output_type": "stream",
     "text": [
      "2021-03-21 21:11:35,662 useful_scit  DEBUG    file /scratch/project_2001273/diego/flexpart-alto-data/run_2021-03-14_20-15-10_LONG/2017-12-06/flxout_d01_20171202_060000.nc opened\n"
     ]
    },
    {
     "name": "stdout",
     "output_type": "stream",
     "text": [
      "2021-03-21 21:11:35,662 useful_scit  DEBUG    file /scratch/project_2001273/diego/flexpart-alto-data/run_2021-03-14_20-15-10_LONG/2017-12-06/flxout_d01_20171202_060000.nc opened\n"
     ]
    },
    {
     "name": "stderr",
     "output_type": "stream",
     "text": [
      "2021-03-21 21:11:35,718 useful_scit  DEBUG    file /scratch/project_2001273/diego/flexpart-alto-data/run_2021-03-14_20-15-10_LONG/2017-12-06/flxout_d01_20171202_070000.nc opened\n"
     ]
    },
    {
     "name": "stdout",
     "output_type": "stream",
     "text": [
      "2021-03-21 21:11:35,718 useful_scit  DEBUG    file /scratch/project_2001273/diego/flexpart-alto-data/run_2021-03-14_20-15-10_LONG/2017-12-06/flxout_d01_20171202_070000.nc opened\n"
     ]
    },
    {
     "name": "stderr",
     "output_type": "stream",
     "text": [
      "2021-03-21 21:11:35,725 useful_scit  DEBUG    file /scratch/project_2001273/diego/flexpart-alto-data/run_2021-03-14_20-15-10_LONG/2017-12-06/flxout_d01_20171202_080000.nc opened\n"
     ]
    },
    {
     "name": "stdout",
     "output_type": "stream",
     "text": [
      "2021-03-21 21:11:35,725 useful_scit  DEBUG    file /scratch/project_2001273/diego/flexpart-alto-data/run_2021-03-14_20-15-10_LONG/2017-12-06/flxout_d01_20171202_080000.nc opened\n"
     ]
    },
    {
     "name": "stderr",
     "output_type": "stream",
     "text": [
      "2021-03-21 21:11:35,732 useful_scit  DEBUG    file /scratch/project_2001273/diego/flexpart-alto-data/run_2021-03-14_20-15-10_LONG/2017-12-06/flxout_d01_20171202_090000.nc opened\n"
     ]
    },
    {
     "name": "stdout",
     "output_type": "stream",
     "text": [
      "2021-03-21 21:11:35,732 useful_scit  DEBUG    file /scratch/project_2001273/diego/flexpart-alto-data/run_2021-03-14_20-15-10_LONG/2017-12-06/flxout_d01_20171202_090000.nc opened\n"
     ]
    },
    {
     "name": "stderr",
     "output_type": "stream",
     "text": [
      "2021-03-21 21:11:35,738 useful_scit  DEBUG    file /scratch/project_2001273/diego/flexpart-alto-data/run_2021-03-14_20-15-10_LONG/2017-12-06/flxout_d01_20171202_100000.nc opened\n"
     ]
    },
    {
     "name": "stdout",
     "output_type": "stream",
     "text": [
      "2021-03-21 21:11:35,738 useful_scit  DEBUG    file /scratch/project_2001273/diego/flexpart-alto-data/run_2021-03-14_20-15-10_LONG/2017-12-06/flxout_d01_20171202_100000.nc opened\n"
     ]
    },
    {
     "name": "stderr",
     "output_type": "stream",
     "text": [
      "2021-03-21 21:11:35,744 useful_scit  DEBUG    file /scratch/project_2001273/diego/flexpart-alto-data/run_2021-03-14_20-15-10_LONG/2017-12-06/flxout_d01_20171202_110000.nc opened\n"
     ]
    },
    {
     "name": "stdout",
     "output_type": "stream",
     "text": [
      "2021-03-21 21:11:35,744 useful_scit  DEBUG    file /scratch/project_2001273/diego/flexpart-alto-data/run_2021-03-14_20-15-10_LONG/2017-12-06/flxout_d01_20171202_110000.nc opened\n"
     ]
    },
    {
     "name": "stderr",
     "output_type": "stream",
     "text": [
      "2021-03-21 21:11:35,751 useful_scit  DEBUG    file /scratch/project_2001273/diego/flexpart-alto-data/run_2021-03-14_20-15-10_LONG/2017-12-06/flxout_d01_20171202_120000.nc opened\n"
     ]
    },
    {
     "name": "stdout",
     "output_type": "stream",
     "text": [
      "2021-03-21 21:11:35,751 useful_scit  DEBUG    file /scratch/project_2001273/diego/flexpart-alto-data/run_2021-03-14_20-15-10_LONG/2017-12-06/flxout_d01_20171202_120000.nc opened\n"
     ]
    },
    {
     "name": "stderr",
     "output_type": "stream",
     "text": [
      "2021-03-21 21:11:35,757 useful_scit  DEBUG    file /scratch/project_2001273/diego/flexpart-alto-data/run_2021-03-14_20-15-10_LONG/2017-12-06/flxout_d01_20171202_130000.nc opened\n"
     ]
    },
    {
     "name": "stdout",
     "output_type": "stream",
     "text": [
      "2021-03-21 21:11:35,757 useful_scit  DEBUG    file /scratch/project_2001273/diego/flexpart-alto-data/run_2021-03-14_20-15-10_LONG/2017-12-06/flxout_d01_20171202_130000.nc opened\n"
     ]
    },
    {
     "name": "stderr",
     "output_type": "stream",
     "text": [
      "2021-03-21 21:11:35,763 useful_scit  DEBUG    file /scratch/project_2001273/diego/flexpart-alto-data/run_2021-03-14_20-15-10_LONG/2017-12-06/flxout_d01_20171202_140000.nc opened\n"
     ]
    },
    {
     "name": "stdout",
     "output_type": "stream",
     "text": [
      "2021-03-21 21:11:35,763 useful_scit  DEBUG    file /scratch/project_2001273/diego/flexpart-alto-data/run_2021-03-14_20-15-10_LONG/2017-12-06/flxout_d01_20171202_140000.nc opened\n"
     ]
    },
    {
     "name": "stderr",
     "output_type": "stream",
     "text": [
      "2021-03-21 21:11:35,769 useful_scit  DEBUG    file /scratch/project_2001273/diego/flexpart-alto-data/run_2021-03-14_20-15-10_LONG/2017-12-06/flxout_d01_20171202_150000.nc opened\n"
     ]
    },
    {
     "name": "stdout",
     "output_type": "stream",
     "text": [
      "2021-03-21 21:11:35,769 useful_scit  DEBUG    file /scratch/project_2001273/diego/flexpart-alto-data/run_2021-03-14_20-15-10_LONG/2017-12-06/flxout_d01_20171202_150000.nc opened\n"
     ]
    },
    {
     "name": "stderr",
     "output_type": "stream",
     "text": [
      "2021-03-21 21:11:35,775 useful_scit  DEBUG    file /scratch/project_2001273/diego/flexpart-alto-data/run_2021-03-14_20-15-10_LONG/2017-12-06/flxout_d01_20171202_160000.nc opened\n"
     ]
    },
    {
     "name": "stdout",
     "output_type": "stream",
     "text": [
      "2021-03-21 21:11:35,775 useful_scit  DEBUG    file /scratch/project_2001273/diego/flexpart-alto-data/run_2021-03-14_20-15-10_LONG/2017-12-06/flxout_d01_20171202_160000.nc opened\n"
     ]
    },
    {
     "name": "stderr",
     "output_type": "stream",
     "text": [
      "2021-03-21 21:11:35,781 useful_scit  DEBUG    file /scratch/project_2001273/diego/flexpart-alto-data/run_2021-03-14_20-15-10_LONG/2017-12-06/flxout_d01_20171202_170000.nc opened\n"
     ]
    },
    {
     "name": "stdout",
     "output_type": "stream",
     "text": [
      "2021-03-21 21:11:35,781 useful_scit  DEBUG    file /scratch/project_2001273/diego/flexpart-alto-data/run_2021-03-14_20-15-10_LONG/2017-12-06/flxout_d01_20171202_170000.nc opened\n"
     ]
    },
    {
     "name": "stderr",
     "output_type": "stream",
     "text": [
      "2021-03-21 21:11:35,787 useful_scit  DEBUG    file /scratch/project_2001273/diego/flexpart-alto-data/run_2021-03-14_20-15-10_LONG/2017-12-06/flxout_d01_20171202_180000.nc opened\n"
     ]
    },
    {
     "name": "stdout",
     "output_type": "stream",
     "text": [
      "2021-03-21 21:11:35,787 useful_scit  DEBUG    file /scratch/project_2001273/diego/flexpart-alto-data/run_2021-03-14_20-15-10_LONG/2017-12-06/flxout_d01_20171202_180000.nc opened\n"
     ]
    },
    {
     "name": "stderr",
     "output_type": "stream",
     "text": [
      "2021-03-21 21:11:35,793 useful_scit  DEBUG    file /scratch/project_2001273/diego/flexpart-alto-data/run_2021-03-14_20-15-10_LONG/2017-12-06/flxout_d01_20171202_190000.nc opened\n"
     ]
    },
    {
     "name": "stdout",
     "output_type": "stream",
     "text": [
      "2021-03-21 21:11:35,793 useful_scit  DEBUG    file /scratch/project_2001273/diego/flexpart-alto-data/run_2021-03-14_20-15-10_LONG/2017-12-06/flxout_d01_20171202_190000.nc opened\n"
     ]
    },
    {
     "name": "stderr",
     "output_type": "stream",
     "text": [
      "2021-03-21 21:11:35,799 useful_scit  DEBUG    file /scratch/project_2001273/diego/flexpart-alto-data/run_2021-03-14_20-15-10_LONG/2017-12-06/flxout_d01_20171202_200000.nc opened\n"
     ]
    },
    {
     "name": "stdout",
     "output_type": "stream",
     "text": [
      "2021-03-21 21:11:35,799 useful_scit  DEBUG    file /scratch/project_2001273/diego/flexpart-alto-data/run_2021-03-14_20-15-10_LONG/2017-12-06/flxout_d01_20171202_200000.nc opened\n"
     ]
    },
    {
     "name": "stderr",
     "output_type": "stream",
     "text": [
      "2021-03-21 21:11:35,805 useful_scit  DEBUG    file /scratch/project_2001273/diego/flexpart-alto-data/run_2021-03-14_20-15-10_LONG/2017-12-06/flxout_d01_20171202_210000.nc opened\n"
     ]
    },
    {
     "name": "stdout",
     "output_type": "stream",
     "text": [
      "2021-03-21 21:11:35,805 useful_scit  DEBUG    file /scratch/project_2001273/diego/flexpart-alto-data/run_2021-03-14_20-15-10_LONG/2017-12-06/flxout_d01_20171202_210000.nc opened\n"
     ]
    },
    {
     "name": "stderr",
     "output_type": "stream",
     "text": [
      "2021-03-21 21:11:35,811 useful_scit  DEBUG    file /scratch/project_2001273/diego/flexpart-alto-data/run_2021-03-14_20-15-10_LONG/2017-12-06/flxout_d01_20171202_220000.nc opened\n"
     ]
    },
    {
     "name": "stdout",
     "output_type": "stream",
     "text": [
      "2021-03-21 21:11:35,811 useful_scit  DEBUG    file /scratch/project_2001273/diego/flexpart-alto-data/run_2021-03-14_20-15-10_LONG/2017-12-06/flxout_d01_20171202_220000.nc opened\n"
     ]
    },
    {
     "name": "stderr",
     "output_type": "stream",
     "text": [
      "2021-03-21 21:11:35,817 useful_scit  DEBUG    file /scratch/project_2001273/diego/flexpart-alto-data/run_2021-03-14_20-15-10_LONG/2017-12-06/flxout_d01_20171202_230000.nc opened\n"
     ]
    },
    {
     "name": "stdout",
     "output_type": "stream",
     "text": [
      "2021-03-21 21:11:35,817 useful_scit  DEBUG    file /scratch/project_2001273/diego/flexpart-alto-data/run_2021-03-14_20-15-10_LONG/2017-12-06/flxout_d01_20171202_230000.nc opened\n"
     ]
    },
    {
     "name": "stderr",
     "output_type": "stream",
     "text": [
      "2021-03-21 21:11:35,823 useful_scit  DEBUG    file /scratch/project_2001273/diego/flexpart-alto-data/run_2021-03-14_20-15-10_LONG/2017-12-06/flxout_d01_20171203_000000.nc opened\n"
     ]
    },
    {
     "name": "stdout",
     "output_type": "stream",
     "text": [
      "2021-03-21 21:11:35,823 useful_scit  DEBUG    file /scratch/project_2001273/diego/flexpart-alto-data/run_2021-03-14_20-15-10_LONG/2017-12-06/flxout_d01_20171203_000000.nc opened\n"
     ]
    },
    {
     "name": "stderr",
     "output_type": "stream",
     "text": [
      "2021-03-21 21:11:35,829 useful_scit  DEBUG    file /scratch/project_2001273/diego/flexpart-alto-data/run_2021-03-14_20-15-10_LONG/2017-12-06/flxout_d01_20171203_010000.nc opened\n"
     ]
    },
    {
     "name": "stdout",
     "output_type": "stream",
     "text": [
      "2021-03-21 21:11:35,829 useful_scit  DEBUG    file /scratch/project_2001273/diego/flexpart-alto-data/run_2021-03-14_20-15-10_LONG/2017-12-06/flxout_d01_20171203_010000.nc opened\n"
     ]
    },
    {
     "name": "stderr",
     "output_type": "stream",
     "text": [
      "2021-03-21 21:11:35,835 useful_scit  DEBUG    file /scratch/project_2001273/diego/flexpart-alto-data/run_2021-03-14_20-15-10_LONG/2017-12-06/flxout_d01_20171203_020000.nc opened\n"
     ]
    },
    {
     "name": "stdout",
     "output_type": "stream",
     "text": [
      "2021-03-21 21:11:35,835 useful_scit  DEBUG    file /scratch/project_2001273/diego/flexpart-alto-data/run_2021-03-14_20-15-10_LONG/2017-12-06/flxout_d01_20171203_020000.nc opened\n"
     ]
    },
    {
     "name": "stderr",
     "output_type": "stream",
     "text": [
      "2021-03-21 21:11:35,842 useful_scit  DEBUG    file /scratch/project_2001273/diego/flexpart-alto-data/run_2021-03-14_20-15-10_LONG/2017-12-06/flxout_d01_20171203_030000.nc opened\n"
     ]
    },
    {
     "name": "stdout",
     "output_type": "stream",
     "text": [
      "2021-03-21 21:11:35,842 useful_scit  DEBUG    file /scratch/project_2001273/diego/flexpart-alto-data/run_2021-03-14_20-15-10_LONG/2017-12-06/flxout_d01_20171203_030000.nc opened\n"
     ]
    },
    {
     "name": "stderr",
     "output_type": "stream",
     "text": [
      "2021-03-21 21:11:35,848 useful_scit  DEBUG    file /scratch/project_2001273/diego/flexpart-alto-data/run_2021-03-14_20-15-10_LONG/2017-12-06/flxout_d01_20171203_040000.nc opened\n"
     ]
    },
    {
     "name": "stdout",
     "output_type": "stream",
     "text": [
      "2021-03-21 21:11:35,848 useful_scit  DEBUG    file /scratch/project_2001273/diego/flexpart-alto-data/run_2021-03-14_20-15-10_LONG/2017-12-06/flxout_d01_20171203_040000.nc opened\n"
     ]
    },
    {
     "name": "stderr",
     "output_type": "stream",
     "text": [
      "2021-03-21 21:11:35,854 useful_scit  DEBUG    file /scratch/project_2001273/diego/flexpart-alto-data/run_2021-03-14_20-15-10_LONG/2017-12-06/flxout_d01_20171203_050000.nc opened\n"
     ]
    },
    {
     "name": "stdout",
     "output_type": "stream",
     "text": [
      "2021-03-21 21:11:35,854 useful_scit  DEBUG    file /scratch/project_2001273/diego/flexpart-alto-data/run_2021-03-14_20-15-10_LONG/2017-12-06/flxout_d01_20171203_050000.nc opened\n"
     ]
    },
    {
     "name": "stderr",
     "output_type": "stream",
     "text": [
      "2021-03-21 21:11:35,860 useful_scit  DEBUG    file /scratch/project_2001273/diego/flexpart-alto-data/run_2021-03-14_20-15-10_LONG/2017-12-06/flxout_d01_20171203_060000.nc opened\n"
     ]
    },
    {
     "name": "stdout",
     "output_type": "stream",
     "text": [
      "2021-03-21 21:11:35,860 useful_scit  DEBUG    file /scratch/project_2001273/diego/flexpart-alto-data/run_2021-03-14_20-15-10_LONG/2017-12-06/flxout_d01_20171203_060000.nc opened\n"
     ]
    },
    {
     "name": "stderr",
     "output_type": "stream",
     "text": [
      "2021-03-21 21:11:35,866 useful_scit  DEBUG    file /scratch/project_2001273/diego/flexpart-alto-data/run_2021-03-14_20-15-10_LONG/2017-12-06/flxout_d01_20171203_070000.nc opened\n"
     ]
    },
    {
     "name": "stdout",
     "output_type": "stream",
     "text": [
      "2021-03-21 21:11:35,866 useful_scit  DEBUG    file /scratch/project_2001273/diego/flexpart-alto-data/run_2021-03-14_20-15-10_LONG/2017-12-06/flxout_d01_20171203_070000.nc opened\n"
     ]
    },
    {
     "name": "stderr",
     "output_type": "stream",
     "text": [
      "2021-03-21 21:11:35,878 useful_scit  DEBUG    file /scratch/project_2001273/diego/flexpart-alto-data/run_2021-03-14_20-15-10_LONG/2017-12-06/flxout_d01_20171203_080000.nc opened\n"
     ]
    },
    {
     "name": "stdout",
     "output_type": "stream",
     "text": [
      "2021-03-21 21:11:35,878 useful_scit  DEBUG    file /scratch/project_2001273/diego/flexpart-alto-data/run_2021-03-14_20-15-10_LONG/2017-12-06/flxout_d01_20171203_080000.nc opened\n"
     ]
    },
    {
     "name": "stderr",
     "output_type": "stream",
     "text": [
      "2021-03-21 21:11:35,884 useful_scit  DEBUG    file /scratch/project_2001273/diego/flexpart-alto-data/run_2021-03-14_20-15-10_LONG/2017-12-06/flxout_d01_20171203_090000.nc opened\n"
     ]
    },
    {
     "name": "stdout",
     "output_type": "stream",
     "text": [
      "2021-03-21 21:11:35,884 useful_scit  DEBUG    file /scratch/project_2001273/diego/flexpart-alto-data/run_2021-03-14_20-15-10_LONG/2017-12-06/flxout_d01_20171203_090000.nc opened\n"
     ]
    },
    {
     "name": "stderr",
     "output_type": "stream",
     "text": [
      "2021-03-21 21:11:35,891 useful_scit  DEBUG    file /scratch/project_2001273/diego/flexpart-alto-data/run_2021-03-14_20-15-10_LONG/2017-12-06/flxout_d01_20171203_100000.nc opened\n"
     ]
    },
    {
     "name": "stdout",
     "output_type": "stream",
     "text": [
      "2021-03-21 21:11:35,891 useful_scit  DEBUG    file /scratch/project_2001273/diego/flexpart-alto-data/run_2021-03-14_20-15-10_LONG/2017-12-06/flxout_d01_20171203_100000.nc opened\n"
     ]
    },
    {
     "name": "stderr",
     "output_type": "stream",
     "text": [
      "2021-03-21 21:11:35,897 useful_scit  DEBUG    file /scratch/project_2001273/diego/flexpart-alto-data/run_2021-03-14_20-15-10_LONG/2017-12-06/flxout_d01_20171203_110000.nc opened\n"
     ]
    },
    {
     "name": "stdout",
     "output_type": "stream",
     "text": [
      "2021-03-21 21:11:35,897 useful_scit  DEBUG    file /scratch/project_2001273/diego/flexpart-alto-data/run_2021-03-14_20-15-10_LONG/2017-12-06/flxout_d01_20171203_110000.nc opened\n"
     ]
    },
    {
     "name": "stderr",
     "output_type": "stream",
     "text": [
      "2021-03-21 21:11:35,903 useful_scit  DEBUG    file /scratch/project_2001273/diego/flexpart-alto-data/run_2021-03-14_20-15-10_LONG/2017-12-06/flxout_d01_20171203_120000.nc opened\n"
     ]
    },
    {
     "name": "stdout",
     "output_type": "stream",
     "text": [
      "2021-03-21 21:11:35,903 useful_scit  DEBUG    file /scratch/project_2001273/diego/flexpart-alto-data/run_2021-03-14_20-15-10_LONG/2017-12-06/flxout_d01_20171203_120000.nc opened\n"
     ]
    },
    {
     "name": "stderr",
     "output_type": "stream",
     "text": [
      "2021-03-21 21:11:35,909 useful_scit  DEBUG    file /scratch/project_2001273/diego/flexpart-alto-data/run_2021-03-14_20-15-10_LONG/2017-12-06/flxout_d01_20171203_130000.nc opened\n"
     ]
    },
    {
     "name": "stdout",
     "output_type": "stream",
     "text": [
      "2021-03-21 21:11:35,909 useful_scit  DEBUG    file /scratch/project_2001273/diego/flexpart-alto-data/run_2021-03-14_20-15-10_LONG/2017-12-06/flxout_d01_20171203_130000.nc opened\n"
     ]
    },
    {
     "name": "stderr",
     "output_type": "stream",
     "text": [
      "2021-03-21 21:11:35,915 useful_scit  DEBUG    file /scratch/project_2001273/diego/flexpart-alto-data/run_2021-03-14_20-15-10_LONG/2017-12-06/flxout_d01_20171203_140000.nc opened\n"
     ]
    },
    {
     "name": "stdout",
     "output_type": "stream",
     "text": [
      "2021-03-21 21:11:35,915 useful_scit  DEBUG    file /scratch/project_2001273/diego/flexpart-alto-data/run_2021-03-14_20-15-10_LONG/2017-12-06/flxout_d01_20171203_140000.nc opened\n"
     ]
    },
    {
     "name": "stderr",
     "output_type": "stream",
     "text": [
      "2021-03-21 21:11:35,921 useful_scit  DEBUG    file /scratch/project_2001273/diego/flexpart-alto-data/run_2021-03-14_20-15-10_LONG/2017-12-06/flxout_d01_20171203_150000.nc opened\n"
     ]
    },
    {
     "name": "stdout",
     "output_type": "stream",
     "text": [
      "2021-03-21 21:11:35,921 useful_scit  DEBUG    file /scratch/project_2001273/diego/flexpart-alto-data/run_2021-03-14_20-15-10_LONG/2017-12-06/flxout_d01_20171203_150000.nc opened\n"
     ]
    },
    {
     "name": "stderr",
     "output_type": "stream",
     "text": [
      "2021-03-21 21:11:35,927 useful_scit  DEBUG    file /scratch/project_2001273/diego/flexpart-alto-data/run_2021-03-14_20-15-10_LONG/2017-12-06/flxout_d01_20171203_160000.nc opened\n"
     ]
    },
    {
     "name": "stdout",
     "output_type": "stream",
     "text": [
      "2021-03-21 21:11:35,927 useful_scit  DEBUG    file /scratch/project_2001273/diego/flexpart-alto-data/run_2021-03-14_20-15-10_LONG/2017-12-06/flxout_d01_20171203_160000.nc opened\n"
     ]
    },
    {
     "name": "stderr",
     "output_type": "stream",
     "text": [
      "2021-03-21 21:11:35,933 useful_scit  DEBUG    file /scratch/project_2001273/diego/flexpart-alto-data/run_2021-03-14_20-15-10_LONG/2017-12-06/flxout_d01_20171203_170000.nc opened\n"
     ]
    },
    {
     "name": "stdout",
     "output_type": "stream",
     "text": [
      "2021-03-21 21:11:35,933 useful_scit  DEBUG    file /scratch/project_2001273/diego/flexpart-alto-data/run_2021-03-14_20-15-10_LONG/2017-12-06/flxout_d01_20171203_170000.nc opened\n"
     ]
    },
    {
     "name": "stderr",
     "output_type": "stream",
     "text": [
      "2021-03-21 21:11:35,939 useful_scit  DEBUG    file /scratch/project_2001273/diego/flexpart-alto-data/run_2021-03-14_20-15-10_LONG/2017-12-06/flxout_d01_20171203_180000.nc opened\n"
     ]
    },
    {
     "name": "stdout",
     "output_type": "stream",
     "text": [
      "2021-03-21 21:11:35,939 useful_scit  DEBUG    file /scratch/project_2001273/diego/flexpart-alto-data/run_2021-03-14_20-15-10_LONG/2017-12-06/flxout_d01_20171203_180000.nc opened\n"
     ]
    },
    {
     "name": "stderr",
     "output_type": "stream",
     "text": [
      "2021-03-21 21:11:35,945 useful_scit  DEBUG    file /scratch/project_2001273/diego/flexpart-alto-data/run_2021-03-14_20-15-10_LONG/2017-12-06/flxout_d01_20171203_190000.nc opened\n"
     ]
    },
    {
     "name": "stdout",
     "output_type": "stream",
     "text": [
      "2021-03-21 21:11:35,945 useful_scit  DEBUG    file /scratch/project_2001273/diego/flexpart-alto-data/run_2021-03-14_20-15-10_LONG/2017-12-06/flxout_d01_20171203_190000.nc opened\n"
     ]
    },
    {
     "name": "stderr",
     "output_type": "stream",
     "text": [
      "2021-03-21 21:11:35,951 useful_scit  DEBUG    file /scratch/project_2001273/diego/flexpart-alto-data/run_2021-03-14_20-15-10_LONG/2017-12-06/flxout_d01_20171203_200000.nc opened\n"
     ]
    },
    {
     "name": "stdout",
     "output_type": "stream",
     "text": [
      "2021-03-21 21:11:35,951 useful_scit  DEBUG    file /scratch/project_2001273/diego/flexpart-alto-data/run_2021-03-14_20-15-10_LONG/2017-12-06/flxout_d01_20171203_200000.nc opened\n"
     ]
    },
    {
     "name": "stderr",
     "output_type": "stream",
     "text": [
      "2021-03-21 21:11:35,957 useful_scit  DEBUG    file /scratch/project_2001273/diego/flexpart-alto-data/run_2021-03-14_20-15-10_LONG/2017-12-06/flxout_d01_20171203_210000.nc opened\n"
     ]
    },
    {
     "name": "stdout",
     "output_type": "stream",
     "text": [
      "2021-03-21 21:11:35,957 useful_scit  DEBUG    file /scratch/project_2001273/diego/flexpart-alto-data/run_2021-03-14_20-15-10_LONG/2017-12-06/flxout_d01_20171203_210000.nc opened\n"
     ]
    },
    {
     "name": "stderr",
     "output_type": "stream",
     "text": [
      "2021-03-21 21:11:35,963 useful_scit  DEBUG    file /scratch/project_2001273/diego/flexpart-alto-data/run_2021-03-14_20-15-10_LONG/2017-12-06/flxout_d01_20171203_220000.nc opened\n"
     ]
    },
    {
     "name": "stdout",
     "output_type": "stream",
     "text": [
      "2021-03-21 21:11:35,963 useful_scit  DEBUG    file /scratch/project_2001273/diego/flexpart-alto-data/run_2021-03-14_20-15-10_LONG/2017-12-06/flxout_d01_20171203_220000.nc opened\n"
     ]
    },
    {
     "name": "stderr",
     "output_type": "stream",
     "text": [
      "2021-03-21 21:11:36,046 useful_scit  DEBUG    file /scratch/project_2001273/diego/flexpart-alto-data/run_2021-03-14_20-15-10_LONG/2017-12-06/flxout_d01_20171203_230000.nc opened\n"
     ]
    },
    {
     "name": "stdout",
     "output_type": "stream",
     "text": [
      "2021-03-21 21:11:36,046 useful_scit  DEBUG    file /scratch/project_2001273/diego/flexpart-alto-data/run_2021-03-14_20-15-10_LONG/2017-12-06/flxout_d01_20171203_230000.nc opened\n"
     ]
    },
    {
     "name": "stderr",
     "output_type": "stream",
     "text": [
      "2021-03-21 21:11:36,053 useful_scit  DEBUG    file /scratch/project_2001273/diego/flexpart-alto-data/run_2021-03-14_20-15-10_LONG/2017-12-06/flxout_d01_20171204_000000.nc opened\n"
     ]
    },
    {
     "name": "stdout",
     "output_type": "stream",
     "text": [
      "2021-03-21 21:11:36,053 useful_scit  DEBUG    file /scratch/project_2001273/diego/flexpart-alto-data/run_2021-03-14_20-15-10_LONG/2017-12-06/flxout_d01_20171204_000000.nc opened\n"
     ]
    },
    {
     "name": "stderr",
     "output_type": "stream",
     "text": [
      "2021-03-21 21:11:36,059 useful_scit  DEBUG    file /scratch/project_2001273/diego/flexpart-alto-data/run_2021-03-14_20-15-10_LONG/2017-12-06/flxout_d01_20171204_010000.nc opened\n"
     ]
    },
    {
     "name": "stdout",
     "output_type": "stream",
     "text": [
      "2021-03-21 21:11:36,059 useful_scit  DEBUG    file /scratch/project_2001273/diego/flexpart-alto-data/run_2021-03-14_20-15-10_LONG/2017-12-06/flxout_d01_20171204_010000.nc opened\n"
     ]
    },
    {
     "name": "stderr",
     "output_type": "stream",
     "text": [
      "2021-03-21 21:11:36,065 useful_scit  DEBUG    file /scratch/project_2001273/diego/flexpart-alto-data/run_2021-03-14_20-15-10_LONG/2017-12-06/flxout_d01_20171204_020000.nc opened\n"
     ]
    },
    {
     "name": "stdout",
     "output_type": "stream",
     "text": [
      "2021-03-21 21:11:36,065 useful_scit  DEBUG    file /scratch/project_2001273/diego/flexpart-alto-data/run_2021-03-14_20-15-10_LONG/2017-12-06/flxout_d01_20171204_020000.nc opened\n"
     ]
    },
    {
     "name": "stderr",
     "output_type": "stream",
     "text": [
      "2021-03-21 21:11:36,071 useful_scit  DEBUG    file /scratch/project_2001273/diego/flexpart-alto-data/run_2021-03-14_20-15-10_LONG/2017-12-06/flxout_d01_20171204_030000.nc opened\n"
     ]
    },
    {
     "name": "stdout",
     "output_type": "stream",
     "text": [
      "2021-03-21 21:11:36,071 useful_scit  DEBUG    file /scratch/project_2001273/diego/flexpart-alto-data/run_2021-03-14_20-15-10_LONG/2017-12-06/flxout_d01_20171204_030000.nc opened\n"
     ]
    },
    {
     "name": "stderr",
     "output_type": "stream",
     "text": [
      "2021-03-21 21:11:36,077 useful_scit  DEBUG    file /scratch/project_2001273/diego/flexpart-alto-data/run_2021-03-14_20-15-10_LONG/2017-12-06/flxout_d01_20171204_040000.nc opened\n"
     ]
    },
    {
     "name": "stdout",
     "output_type": "stream",
     "text": [
      "2021-03-21 21:11:36,077 useful_scit  DEBUG    file /scratch/project_2001273/diego/flexpart-alto-data/run_2021-03-14_20-15-10_LONG/2017-12-06/flxout_d01_20171204_040000.nc opened\n"
     ]
    },
    {
     "name": "stderr",
     "output_type": "stream",
     "text": [
      "2021-03-21 21:11:36,083 useful_scit  DEBUG    file /scratch/project_2001273/diego/flexpart-alto-data/run_2021-03-14_20-15-10_LONG/2017-12-06/flxout_d01_20171204_050000.nc opened\n"
     ]
    },
    {
     "name": "stdout",
     "output_type": "stream",
     "text": [
      "2021-03-21 21:11:36,083 useful_scit  DEBUG    file /scratch/project_2001273/diego/flexpart-alto-data/run_2021-03-14_20-15-10_LONG/2017-12-06/flxout_d01_20171204_050000.nc opened\n"
     ]
    },
    {
     "name": "stderr",
     "output_type": "stream",
     "text": [
      "2021-03-21 21:11:36,090 useful_scit  DEBUG    file /scratch/project_2001273/diego/flexpart-alto-data/run_2021-03-14_20-15-10_LONG/2017-12-06/flxout_d01_20171204_060000.nc opened\n"
     ]
    },
    {
     "name": "stdout",
     "output_type": "stream",
     "text": [
      "2021-03-21 21:11:36,090 useful_scit  DEBUG    file /scratch/project_2001273/diego/flexpart-alto-data/run_2021-03-14_20-15-10_LONG/2017-12-06/flxout_d01_20171204_060000.nc opened\n"
     ]
    },
    {
     "name": "stderr",
     "output_type": "stream",
     "text": [
      "2021-03-21 21:11:36,096 useful_scit  DEBUG    file /scratch/project_2001273/diego/flexpart-alto-data/run_2021-03-14_20-15-10_LONG/2017-12-06/flxout_d01_20171204_070000.nc opened\n"
     ]
    },
    {
     "name": "stdout",
     "output_type": "stream",
     "text": [
      "2021-03-21 21:11:36,096 useful_scit  DEBUG    file /scratch/project_2001273/diego/flexpart-alto-data/run_2021-03-14_20-15-10_LONG/2017-12-06/flxout_d01_20171204_070000.nc opened\n"
     ]
    },
    {
     "name": "stderr",
     "output_type": "stream",
     "text": [
      "2021-03-21 21:11:36,102 useful_scit  DEBUG    file /scratch/project_2001273/diego/flexpart-alto-data/run_2021-03-14_20-15-10_LONG/2017-12-06/flxout_d01_20171204_080000.nc opened\n"
     ]
    },
    {
     "name": "stdout",
     "output_type": "stream",
     "text": [
      "2021-03-21 21:11:36,102 useful_scit  DEBUG    file /scratch/project_2001273/diego/flexpart-alto-data/run_2021-03-14_20-15-10_LONG/2017-12-06/flxout_d01_20171204_080000.nc opened\n"
     ]
    },
    {
     "name": "stderr",
     "output_type": "stream",
     "text": [
      "2021-03-21 21:11:36,108 useful_scit  DEBUG    file /scratch/project_2001273/diego/flexpart-alto-data/run_2021-03-14_20-15-10_LONG/2017-12-06/flxout_d01_20171204_090000.nc opened\n"
     ]
    },
    {
     "name": "stdout",
     "output_type": "stream",
     "text": [
      "2021-03-21 21:11:36,108 useful_scit  DEBUG    file /scratch/project_2001273/diego/flexpart-alto-data/run_2021-03-14_20-15-10_LONG/2017-12-06/flxout_d01_20171204_090000.nc opened\n"
     ]
    },
    {
     "name": "stderr",
     "output_type": "stream",
     "text": [
      "2021-03-21 21:11:36,115 useful_scit  DEBUG    file /scratch/project_2001273/diego/flexpart-alto-data/run_2021-03-14_20-15-10_LONG/2017-12-06/flxout_d01_20171204_100000.nc opened\n"
     ]
    },
    {
     "name": "stdout",
     "output_type": "stream",
     "text": [
      "2021-03-21 21:11:36,115 useful_scit  DEBUG    file /scratch/project_2001273/diego/flexpart-alto-data/run_2021-03-14_20-15-10_LONG/2017-12-06/flxout_d01_20171204_100000.nc opened\n"
     ]
    },
    {
     "name": "stderr",
     "output_type": "stream",
     "text": [
      "2021-03-21 21:11:36,121 useful_scit  DEBUG    file /scratch/project_2001273/diego/flexpart-alto-data/run_2021-03-14_20-15-10_LONG/2017-12-06/flxout_d01_20171204_110000.nc opened\n"
     ]
    },
    {
     "name": "stdout",
     "output_type": "stream",
     "text": [
      "2021-03-21 21:11:36,121 useful_scit  DEBUG    file /scratch/project_2001273/diego/flexpart-alto-data/run_2021-03-14_20-15-10_LONG/2017-12-06/flxout_d01_20171204_110000.nc opened\n"
     ]
    },
    {
     "name": "stderr",
     "output_type": "stream",
     "text": [
      "2021-03-21 21:11:36,127 useful_scit  DEBUG    file /scratch/project_2001273/diego/flexpart-alto-data/run_2021-03-14_20-15-10_LONG/2017-12-06/flxout_d01_20171204_120000.nc opened\n"
     ]
    },
    {
     "name": "stdout",
     "output_type": "stream",
     "text": [
      "2021-03-21 21:11:36,127 useful_scit  DEBUG    file /scratch/project_2001273/diego/flexpart-alto-data/run_2021-03-14_20-15-10_LONG/2017-12-06/flxout_d01_20171204_120000.nc opened\n"
     ]
    },
    {
     "name": "stderr",
     "output_type": "stream",
     "text": [
      "2021-03-21 21:11:36,133 useful_scit  DEBUG    file /scratch/project_2001273/diego/flexpart-alto-data/run_2021-03-14_20-15-10_LONG/2017-12-06/flxout_d01_20171204_130000.nc opened\n"
     ]
    },
    {
     "name": "stdout",
     "output_type": "stream",
     "text": [
      "2021-03-21 21:11:36,133 useful_scit  DEBUG    file /scratch/project_2001273/diego/flexpart-alto-data/run_2021-03-14_20-15-10_LONG/2017-12-06/flxout_d01_20171204_130000.nc opened\n"
     ]
    },
    {
     "name": "stderr",
     "output_type": "stream",
     "text": [
      "2021-03-21 21:11:36,148 useful_scit  DEBUG    file /scratch/project_2001273/diego/flexpart-alto-data/run_2021-03-14_20-15-10_LONG/2017-12-06/flxout_d01_20171204_140000.nc opened\n"
     ]
    },
    {
     "name": "stdout",
     "output_type": "stream",
     "text": [
      "2021-03-21 21:11:36,148 useful_scit  DEBUG    file /scratch/project_2001273/diego/flexpart-alto-data/run_2021-03-14_20-15-10_LONG/2017-12-06/flxout_d01_20171204_140000.nc opened\n"
     ]
    },
    {
     "name": "stderr",
     "output_type": "stream",
     "text": [
      "2021-03-21 21:11:36,154 useful_scit  DEBUG    file /scratch/project_2001273/diego/flexpart-alto-data/run_2021-03-14_20-15-10_LONG/2017-12-06/flxout_d01_20171204_150000.nc opened\n"
     ]
    },
    {
     "name": "stdout",
     "output_type": "stream",
     "text": [
      "2021-03-21 21:11:36,154 useful_scit  DEBUG    file /scratch/project_2001273/diego/flexpart-alto-data/run_2021-03-14_20-15-10_LONG/2017-12-06/flxout_d01_20171204_150000.nc opened\n"
     ]
    },
    {
     "name": "stderr",
     "output_type": "stream",
     "text": [
      "2021-03-21 21:11:36,160 useful_scit  DEBUG    file /scratch/project_2001273/diego/flexpart-alto-data/run_2021-03-14_20-15-10_LONG/2017-12-06/flxout_d01_20171204_160000.nc opened\n"
     ]
    },
    {
     "name": "stdout",
     "output_type": "stream",
     "text": [
      "2021-03-21 21:11:36,160 useful_scit  DEBUG    file /scratch/project_2001273/diego/flexpart-alto-data/run_2021-03-14_20-15-10_LONG/2017-12-06/flxout_d01_20171204_160000.nc opened\n"
     ]
    },
    {
     "name": "stderr",
     "output_type": "stream",
     "text": [
      "2021-03-21 21:11:36,166 useful_scit  DEBUG    file /scratch/project_2001273/diego/flexpart-alto-data/run_2021-03-14_20-15-10_LONG/2017-12-06/flxout_d01_20171204_170000.nc opened\n"
     ]
    },
    {
     "name": "stdout",
     "output_type": "stream",
     "text": [
      "2021-03-21 21:11:36,166 useful_scit  DEBUG    file /scratch/project_2001273/diego/flexpart-alto-data/run_2021-03-14_20-15-10_LONG/2017-12-06/flxout_d01_20171204_170000.nc opened\n"
     ]
    },
    {
     "name": "stderr",
     "output_type": "stream",
     "text": [
      "2021-03-21 21:11:36,172 useful_scit  DEBUG    file /scratch/project_2001273/diego/flexpart-alto-data/run_2021-03-14_20-15-10_LONG/2017-12-06/flxout_d01_20171204_180000.nc opened\n"
     ]
    },
    {
     "name": "stdout",
     "output_type": "stream",
     "text": [
      "2021-03-21 21:11:36,172 useful_scit  DEBUG    file /scratch/project_2001273/diego/flexpart-alto-data/run_2021-03-14_20-15-10_LONG/2017-12-06/flxout_d01_20171204_180000.nc opened\n"
     ]
    },
    {
     "name": "stderr",
     "output_type": "stream",
     "text": [
      "2021-03-21 21:11:36,178 useful_scit  DEBUG    file /scratch/project_2001273/diego/flexpart-alto-data/run_2021-03-14_20-15-10_LONG/2017-12-06/flxout_d01_20171204_190000.nc opened\n"
     ]
    },
    {
     "name": "stdout",
     "output_type": "stream",
     "text": [
      "2021-03-21 21:11:36,178 useful_scit  DEBUG    file /scratch/project_2001273/diego/flexpart-alto-data/run_2021-03-14_20-15-10_LONG/2017-12-06/flxout_d01_20171204_190000.nc opened\n"
     ]
    },
    {
     "name": "stderr",
     "output_type": "stream",
     "text": [
      "2021-03-21 21:11:36,184 useful_scit  DEBUG    file /scratch/project_2001273/diego/flexpart-alto-data/run_2021-03-14_20-15-10_LONG/2017-12-06/flxout_d01_20171204_200000.nc opened\n"
     ]
    },
    {
     "name": "stdout",
     "output_type": "stream",
     "text": [
      "2021-03-21 21:11:36,184 useful_scit  DEBUG    file /scratch/project_2001273/diego/flexpart-alto-data/run_2021-03-14_20-15-10_LONG/2017-12-06/flxout_d01_20171204_200000.nc opened\n"
     ]
    },
    {
     "name": "stderr",
     "output_type": "stream",
     "text": [
      "2021-03-21 21:11:36,190 useful_scit  DEBUG    file /scratch/project_2001273/diego/flexpart-alto-data/run_2021-03-14_20-15-10_LONG/2017-12-06/flxout_d01_20171204_210000.nc opened\n"
     ]
    },
    {
     "name": "stdout",
     "output_type": "stream",
     "text": [
      "2021-03-21 21:11:36,190 useful_scit  DEBUG    file /scratch/project_2001273/diego/flexpart-alto-data/run_2021-03-14_20-15-10_LONG/2017-12-06/flxout_d01_20171204_210000.nc opened\n"
     ]
    },
    {
     "name": "stderr",
     "output_type": "stream",
     "text": [
      "2021-03-21 21:11:36,196 useful_scit  DEBUG    file /scratch/project_2001273/diego/flexpart-alto-data/run_2021-03-14_20-15-10_LONG/2017-12-06/flxout_d01_20171204_220000.nc opened\n"
     ]
    },
    {
     "name": "stdout",
     "output_type": "stream",
     "text": [
      "2021-03-21 21:11:36,196 useful_scit  DEBUG    file /scratch/project_2001273/diego/flexpart-alto-data/run_2021-03-14_20-15-10_LONG/2017-12-06/flxout_d01_20171204_220000.nc opened\n"
     ]
    },
    {
     "name": "stderr",
     "output_type": "stream",
     "text": [
      "2021-03-21 21:11:36,203 useful_scit  DEBUG    file /scratch/project_2001273/diego/flexpart-alto-data/run_2021-03-14_20-15-10_LONG/2017-12-06/flxout_d01_20171204_230000.nc opened\n"
     ]
    },
    {
     "name": "stdout",
     "output_type": "stream",
     "text": [
      "2021-03-21 21:11:36,203 useful_scit  DEBUG    file /scratch/project_2001273/diego/flexpart-alto-data/run_2021-03-14_20-15-10_LONG/2017-12-06/flxout_d01_20171204_230000.nc opened\n"
     ]
    },
    {
     "name": "stderr",
     "output_type": "stream",
     "text": [
      "2021-03-21 21:11:36,209 useful_scit  DEBUG    file /scratch/project_2001273/diego/flexpart-alto-data/run_2021-03-14_20-15-10_LONG/2017-12-06/flxout_d01_20171205_000000.nc opened\n"
     ]
    },
    {
     "name": "stdout",
     "output_type": "stream",
     "text": [
      "2021-03-21 21:11:36,209 useful_scit  DEBUG    file /scratch/project_2001273/diego/flexpart-alto-data/run_2021-03-14_20-15-10_LONG/2017-12-06/flxout_d01_20171205_000000.nc opened\n"
     ]
    },
    {
     "name": "stderr",
     "output_type": "stream",
     "text": [
      "2021-03-21 21:11:36,215 useful_scit  DEBUG    file /scratch/project_2001273/diego/flexpart-alto-data/run_2021-03-14_20-15-10_LONG/2017-12-06/flxout_d01_20171205_010000.nc opened\n"
     ]
    },
    {
     "name": "stdout",
     "output_type": "stream",
     "text": [
      "2021-03-21 21:11:36,215 useful_scit  DEBUG    file /scratch/project_2001273/diego/flexpart-alto-data/run_2021-03-14_20-15-10_LONG/2017-12-06/flxout_d01_20171205_010000.nc opened\n"
     ]
    },
    {
     "name": "stderr",
     "output_type": "stream",
     "text": [
      "2021-03-21 21:11:36,268 useful_scit  DEBUG    file /scratch/project_2001273/diego/flexpart-alto-data/run_2021-03-14_20-15-10_LONG/2017-12-06/flxout_d01_20171205_020000.nc opened\n"
     ]
    },
    {
     "name": "stdout",
     "output_type": "stream",
     "text": [
      "2021-03-21 21:11:36,268 useful_scit  DEBUG    file /scratch/project_2001273/diego/flexpart-alto-data/run_2021-03-14_20-15-10_LONG/2017-12-06/flxout_d01_20171205_020000.nc opened\n"
     ]
    },
    {
     "name": "stderr",
     "output_type": "stream",
     "text": [
      "2021-03-21 21:11:36,274 useful_scit  DEBUG    file /scratch/project_2001273/diego/flexpart-alto-data/run_2021-03-14_20-15-10_LONG/2017-12-06/flxout_d01_20171205_030000.nc opened\n"
     ]
    },
    {
     "name": "stdout",
     "output_type": "stream",
     "text": [
      "2021-03-21 21:11:36,274 useful_scit  DEBUG    file /scratch/project_2001273/diego/flexpart-alto-data/run_2021-03-14_20-15-10_LONG/2017-12-06/flxout_d01_20171205_030000.nc opened\n"
     ]
    },
    {
     "name": "stderr",
     "output_type": "stream",
     "text": [
      "2021-03-21 21:11:36,280 useful_scit  DEBUG    file /scratch/project_2001273/diego/flexpart-alto-data/run_2021-03-14_20-15-10_LONG/2017-12-06/flxout_d01_20171205_040000.nc opened\n"
     ]
    },
    {
     "name": "stdout",
     "output_type": "stream",
     "text": [
      "2021-03-21 21:11:36,280 useful_scit  DEBUG    file /scratch/project_2001273/diego/flexpart-alto-data/run_2021-03-14_20-15-10_LONG/2017-12-06/flxout_d01_20171205_040000.nc opened\n"
     ]
    },
    {
     "name": "stderr",
     "output_type": "stream",
     "text": [
      "2021-03-21 21:11:36,286 useful_scit  DEBUG    file /scratch/project_2001273/diego/flexpart-alto-data/run_2021-03-14_20-15-10_LONG/2017-12-06/flxout_d01_20171205_050000.nc opened\n"
     ]
    },
    {
     "name": "stdout",
     "output_type": "stream",
     "text": [
      "2021-03-21 21:11:36,286 useful_scit  DEBUG    file /scratch/project_2001273/diego/flexpart-alto-data/run_2021-03-14_20-15-10_LONG/2017-12-06/flxout_d01_20171205_050000.nc opened\n"
     ]
    },
    {
     "name": "stderr",
     "output_type": "stream",
     "text": [
      "2021-03-21 21:11:36,311 useful_scit  DEBUG    file /scratch/project_2001273/diego/flexpart-alto-data/run_2021-03-14_20-15-10_LONG/2017-12-06/flxout_d01_20171205_060000.nc opened\n"
     ]
    },
    {
     "name": "stdout",
     "output_type": "stream",
     "text": [
      "2021-03-21 21:11:36,311 useful_scit  DEBUG    file /scratch/project_2001273/diego/flexpart-alto-data/run_2021-03-14_20-15-10_LONG/2017-12-06/flxout_d01_20171205_060000.nc opened\n"
     ]
    },
    {
     "name": "stderr",
     "output_type": "stream",
     "text": [
      "2021-03-21 21:11:36,317 useful_scit  DEBUG    file /scratch/project_2001273/diego/flexpart-alto-data/run_2021-03-14_20-15-10_LONG/2017-12-06/flxout_d01_20171205_070000.nc opened\n"
     ]
    },
    {
     "name": "stdout",
     "output_type": "stream",
     "text": [
      "2021-03-21 21:11:36,317 useful_scit  DEBUG    file /scratch/project_2001273/diego/flexpart-alto-data/run_2021-03-14_20-15-10_LONG/2017-12-06/flxout_d01_20171205_070000.nc opened\n"
     ]
    },
    {
     "name": "stderr",
     "output_type": "stream",
     "text": [
      "2021-03-21 21:11:36,323 useful_scit  DEBUG    file /scratch/project_2001273/diego/flexpart-alto-data/run_2021-03-14_20-15-10_LONG/2017-12-06/flxout_d01_20171205_080000.nc opened\n"
     ]
    },
    {
     "name": "stdout",
     "output_type": "stream",
     "text": [
      "2021-03-21 21:11:36,323 useful_scit  DEBUG    file /scratch/project_2001273/diego/flexpart-alto-data/run_2021-03-14_20-15-10_LONG/2017-12-06/flxout_d01_20171205_080000.nc opened\n"
     ]
    },
    {
     "name": "stderr",
     "output_type": "stream",
     "text": [
      "2021-03-21 21:11:36,329 useful_scit  DEBUG    file /scratch/project_2001273/diego/flexpart-alto-data/run_2021-03-14_20-15-10_LONG/2017-12-06/flxout_d01_20171205_090000.nc opened\n"
     ]
    },
    {
     "name": "stdout",
     "output_type": "stream",
     "text": [
      "2021-03-21 21:11:36,329 useful_scit  DEBUG    file /scratch/project_2001273/diego/flexpart-alto-data/run_2021-03-14_20-15-10_LONG/2017-12-06/flxout_d01_20171205_090000.nc opened\n"
     ]
    },
    {
     "name": "stderr",
     "output_type": "stream",
     "text": [
      "2021-03-21 21:11:36,335 useful_scit  DEBUG    file /scratch/project_2001273/diego/flexpart-alto-data/run_2021-03-14_20-15-10_LONG/2017-12-06/flxout_d01_20171205_100000.nc opened\n"
     ]
    },
    {
     "name": "stdout",
     "output_type": "stream",
     "text": [
      "2021-03-21 21:11:36,335 useful_scit  DEBUG    file /scratch/project_2001273/diego/flexpart-alto-data/run_2021-03-14_20-15-10_LONG/2017-12-06/flxout_d01_20171205_100000.nc opened\n"
     ]
    },
    {
     "name": "stderr",
     "output_type": "stream",
     "text": [
      "2021-03-21 21:11:36,341 useful_scit  DEBUG    file /scratch/project_2001273/diego/flexpart-alto-data/run_2021-03-14_20-15-10_LONG/2017-12-06/flxout_d01_20171205_110000.nc opened\n"
     ]
    },
    {
     "name": "stdout",
     "output_type": "stream",
     "text": [
      "2021-03-21 21:11:36,341 useful_scit  DEBUG    file /scratch/project_2001273/diego/flexpart-alto-data/run_2021-03-14_20-15-10_LONG/2017-12-06/flxout_d01_20171205_110000.nc opened\n"
     ]
    },
    {
     "name": "stderr",
     "output_type": "stream",
     "text": [
      "2021-03-21 21:11:36,347 useful_scit  DEBUG    file /scratch/project_2001273/diego/flexpart-alto-data/run_2021-03-14_20-15-10_LONG/2017-12-06/flxout_d01_20171205_120000.nc opened\n"
     ]
    },
    {
     "name": "stdout",
     "output_type": "stream",
     "text": [
      "2021-03-21 21:11:36,347 useful_scit  DEBUG    file /scratch/project_2001273/diego/flexpart-alto-data/run_2021-03-14_20-15-10_LONG/2017-12-06/flxout_d01_20171205_120000.nc opened\n"
     ]
    },
    {
     "name": "stderr",
     "output_type": "stream",
     "text": [
      "2021-03-21 21:11:36,354 useful_scit  DEBUG    file /scratch/project_2001273/diego/flexpart-alto-data/run_2021-03-14_20-15-10_LONG/2017-12-06/flxout_d01_20171205_130000.nc opened\n"
     ]
    },
    {
     "name": "stdout",
     "output_type": "stream",
     "text": [
      "2021-03-21 21:11:36,354 useful_scit  DEBUG    file /scratch/project_2001273/diego/flexpart-alto-data/run_2021-03-14_20-15-10_LONG/2017-12-06/flxout_d01_20171205_130000.nc opened\n"
     ]
    },
    {
     "name": "stderr",
     "output_type": "stream",
     "text": [
      "2021-03-21 21:11:36,360 useful_scit  DEBUG    file /scratch/project_2001273/diego/flexpart-alto-data/run_2021-03-14_20-15-10_LONG/2017-12-06/flxout_d01_20171205_140000.nc opened\n"
     ]
    },
    {
     "name": "stdout",
     "output_type": "stream",
     "text": [
      "2021-03-21 21:11:36,360 useful_scit  DEBUG    file /scratch/project_2001273/diego/flexpart-alto-data/run_2021-03-14_20-15-10_LONG/2017-12-06/flxout_d01_20171205_140000.nc opened\n"
     ]
    },
    {
     "name": "stderr",
     "output_type": "stream",
     "text": [
      "2021-03-21 21:11:36,366 useful_scit  DEBUG    file /scratch/project_2001273/diego/flexpart-alto-data/run_2021-03-14_20-15-10_LONG/2017-12-06/flxout_d01_20171205_150000.nc opened\n"
     ]
    },
    {
     "name": "stdout",
     "output_type": "stream",
     "text": [
      "2021-03-21 21:11:36,366 useful_scit  DEBUG    file /scratch/project_2001273/diego/flexpart-alto-data/run_2021-03-14_20-15-10_LONG/2017-12-06/flxout_d01_20171205_150000.nc opened\n"
     ]
    },
    {
     "name": "stderr",
     "output_type": "stream",
     "text": [
      "2021-03-21 21:11:36,372 useful_scit  DEBUG    file /scratch/project_2001273/diego/flexpart-alto-data/run_2021-03-14_20-15-10_LONG/2017-12-06/flxout_d01_20171205_160000.nc opened\n"
     ]
    },
    {
     "name": "stdout",
     "output_type": "stream",
     "text": [
      "2021-03-21 21:11:36,372 useful_scit  DEBUG    file /scratch/project_2001273/diego/flexpart-alto-data/run_2021-03-14_20-15-10_LONG/2017-12-06/flxout_d01_20171205_160000.nc opened\n"
     ]
    },
    {
     "name": "stderr",
     "output_type": "stream",
     "text": [
      "2021-03-21 21:11:36,378 useful_scit  DEBUG    file /scratch/project_2001273/diego/flexpart-alto-data/run_2021-03-14_20-15-10_LONG/2017-12-06/flxout_d01_20171205_170000.nc opened\n"
     ]
    },
    {
     "name": "stdout",
     "output_type": "stream",
     "text": [
      "2021-03-21 21:11:36,378 useful_scit  DEBUG    file /scratch/project_2001273/diego/flexpart-alto-data/run_2021-03-14_20-15-10_LONG/2017-12-06/flxout_d01_20171205_170000.nc opened\n"
     ]
    },
    {
     "name": "stderr",
     "output_type": "stream",
     "text": [
      "2021-03-21 21:11:36,384 useful_scit  DEBUG    file /scratch/project_2001273/diego/flexpart-alto-data/run_2021-03-14_20-15-10_LONG/2017-12-06/flxout_d01_20171205_180000.nc opened\n"
     ]
    },
    {
     "name": "stdout",
     "output_type": "stream",
     "text": [
      "2021-03-21 21:11:36,384 useful_scit  DEBUG    file /scratch/project_2001273/diego/flexpart-alto-data/run_2021-03-14_20-15-10_LONG/2017-12-06/flxout_d01_20171205_180000.nc opened\n"
     ]
    },
    {
     "name": "stderr",
     "output_type": "stream",
     "text": [
      "2021-03-21 21:11:36,390 useful_scit  DEBUG    file /scratch/project_2001273/diego/flexpart-alto-data/run_2021-03-14_20-15-10_LONG/2017-12-06/flxout_d01_20171205_190000.nc opened\n"
     ]
    },
    {
     "name": "stdout",
     "output_type": "stream",
     "text": [
      "2021-03-21 21:11:36,390 useful_scit  DEBUG    file /scratch/project_2001273/diego/flexpart-alto-data/run_2021-03-14_20-15-10_LONG/2017-12-06/flxout_d01_20171205_190000.nc opened\n"
     ]
    },
    {
     "name": "stderr",
     "output_type": "stream",
     "text": [
      "2021-03-21 21:11:36,396 useful_scit  DEBUG    file /scratch/project_2001273/diego/flexpart-alto-data/run_2021-03-14_20-15-10_LONG/2017-12-06/flxout_d01_20171205_200000.nc opened\n"
     ]
    },
    {
     "name": "stdout",
     "output_type": "stream",
     "text": [
      "2021-03-21 21:11:36,396 useful_scit  DEBUG    file /scratch/project_2001273/diego/flexpart-alto-data/run_2021-03-14_20-15-10_LONG/2017-12-06/flxout_d01_20171205_200000.nc opened\n"
     ]
    },
    {
     "name": "stderr",
     "output_type": "stream",
     "text": [
      "2021-03-21 21:11:36,402 useful_scit  DEBUG    file /scratch/project_2001273/diego/flexpart-alto-data/run_2021-03-14_20-15-10_LONG/2017-12-06/flxout_d01_20171205_210000.nc opened\n"
     ]
    },
    {
     "name": "stdout",
     "output_type": "stream",
     "text": [
      "2021-03-21 21:11:36,402 useful_scit  DEBUG    file /scratch/project_2001273/diego/flexpart-alto-data/run_2021-03-14_20-15-10_LONG/2017-12-06/flxout_d01_20171205_210000.nc opened\n"
     ]
    },
    {
     "name": "stderr",
     "output_type": "stream",
     "text": [
      "2021-03-21 21:11:36,408 useful_scit  DEBUG    file /scratch/project_2001273/diego/flexpart-alto-data/run_2021-03-14_20-15-10_LONG/2017-12-06/flxout_d01_20171205_220000.nc opened\n"
     ]
    },
    {
     "name": "stdout",
     "output_type": "stream",
     "text": [
      "2021-03-21 21:11:36,408 useful_scit  DEBUG    file /scratch/project_2001273/diego/flexpart-alto-data/run_2021-03-14_20-15-10_LONG/2017-12-06/flxout_d01_20171205_220000.nc opened\n"
     ]
    },
    {
     "name": "stderr",
     "output_type": "stream",
     "text": [
      "2021-03-21 21:11:36,415 useful_scit  DEBUG    file /scratch/project_2001273/diego/flexpart-alto-data/run_2021-03-14_20-15-10_LONG/2017-12-06/flxout_d01_20171205_230000.nc opened\n"
     ]
    },
    {
     "name": "stdout",
     "output_type": "stream",
     "text": [
      "2021-03-21 21:11:36,415 useful_scit  DEBUG    file /scratch/project_2001273/diego/flexpart-alto-data/run_2021-03-14_20-15-10_LONG/2017-12-06/flxout_d01_20171205_230000.nc opened\n"
     ]
    },
    {
     "name": "stderr",
     "output_type": "stream",
     "text": [
      "2021-03-21 21:11:36,421 useful_scit  DEBUG    file /scratch/project_2001273/diego/flexpart-alto-data/run_2021-03-14_20-15-10_LONG/2017-12-06/flxout_d01_20171206_000000.nc opened\n"
     ]
    },
    {
     "name": "stdout",
     "output_type": "stream",
     "text": [
      "2021-03-21 21:11:36,421 useful_scit  DEBUG    file /scratch/project_2001273/diego/flexpart-alto-data/run_2021-03-14_20-15-10_LONG/2017-12-06/flxout_d01_20171206_000000.nc opened\n"
     ]
    },
    {
     "name": "stderr",
     "output_type": "stream",
     "text": [
      "2021-03-21 21:11:36,427 useful_scit  DEBUG    file /scratch/project_2001273/diego/flexpart-alto-data/run_2021-03-14_20-15-10_LONG/2017-12-06/flxout_d01_20171206_010000.nc opened\n"
     ]
    },
    {
     "name": "stdout",
     "output_type": "stream",
     "text": [
      "2021-03-21 21:11:36,427 useful_scit  DEBUG    file /scratch/project_2001273/diego/flexpart-alto-data/run_2021-03-14_20-15-10_LONG/2017-12-06/flxout_d01_20171206_010000.nc opened\n"
     ]
    },
    {
     "name": "stderr",
     "output_type": "stream",
     "text": [
      "2021-03-21 21:11:36,433 useful_scit  DEBUG    file /scratch/project_2001273/diego/flexpart-alto-data/run_2021-03-14_20-15-10_LONG/2017-12-06/flxout_d01_20171206_020000.nc opened\n"
     ]
    },
    {
     "name": "stdout",
     "output_type": "stream",
     "text": [
      "2021-03-21 21:11:36,433 useful_scit  DEBUG    file /scratch/project_2001273/diego/flexpart-alto-data/run_2021-03-14_20-15-10_LONG/2017-12-06/flxout_d01_20171206_020000.nc opened\n"
     ]
    },
    {
     "name": "stderr",
     "output_type": "stream",
     "text": [
      "2021-03-21 21:11:36,439 useful_scit  DEBUG    file /scratch/project_2001273/diego/flexpart-alto-data/run_2021-03-14_20-15-10_LONG/2017-12-06/flxout_d01_20171206_030000.nc opened\n"
     ]
    },
    {
     "name": "stdout",
     "output_type": "stream",
     "text": [
      "2021-03-21 21:11:36,439 useful_scit  DEBUG    file /scratch/project_2001273/diego/flexpart-alto-data/run_2021-03-14_20-15-10_LONG/2017-12-06/flxout_d01_20171206_030000.nc opened\n"
     ]
    },
    {
     "name": "stderr",
     "output_type": "stream",
     "text": [
      "2021-03-21 21:11:36,445 useful_scit  DEBUG    file /scratch/project_2001273/diego/flexpart-alto-data/run_2021-03-14_20-15-10_LONG/2017-12-06/flxout_d01_20171206_040000.nc opened\n"
     ]
    },
    {
     "name": "stdout",
     "output_type": "stream",
     "text": [
      "2021-03-21 21:11:36,445 useful_scit  DEBUG    file /scratch/project_2001273/diego/flexpart-alto-data/run_2021-03-14_20-15-10_LONG/2017-12-06/flxout_d01_20171206_040000.nc opened\n"
     ]
    },
    {
     "name": "stderr",
     "output_type": "stream",
     "text": [
      "2021-03-21 21:11:36,451 useful_scit  DEBUG    file /scratch/project_2001273/diego/flexpart-alto-data/run_2021-03-14_20-15-10_LONG/2017-12-06/flxout_d01_20171206_050000.nc opened\n"
     ]
    },
    {
     "name": "stdout",
     "output_type": "stream",
     "text": [
      "2021-03-21 21:11:36,451 useful_scit  DEBUG    file /scratch/project_2001273/diego/flexpart-alto-data/run_2021-03-14_20-15-10_LONG/2017-12-06/flxout_d01_20171206_050000.nc opened\n"
     ]
    },
    {
     "name": "stderr",
     "output_type": "stream",
     "text": [
      "2021-03-21 21:11:36,457 useful_scit  DEBUG    file /scratch/project_2001273/diego/flexpart-alto-data/run_2021-03-14_20-15-10_LONG/2017-12-06/flxout_d01_20171206_060000.nc opened\n"
     ]
    },
    {
     "name": "stdout",
     "output_type": "stream",
     "text": [
      "2021-03-21 21:11:36,457 useful_scit  DEBUG    file /scratch/project_2001273/diego/flexpart-alto-data/run_2021-03-14_20-15-10_LONG/2017-12-06/flxout_d01_20171206_060000.nc opened\n"
     ]
    },
    {
     "name": "stderr",
     "output_type": "stream",
     "text": [
      "2021-03-21 21:11:36,464 useful_scit  DEBUG    file /scratch/project_2001273/diego/flexpart-alto-data/run_2021-03-14_20-15-10_LONG/2017-12-06/flxout_d01_20171206_070000.nc opened\n"
     ]
    },
    {
     "name": "stdout",
     "output_type": "stream",
     "text": [
      "2021-03-21 21:11:36,464 useful_scit  DEBUG    file /scratch/project_2001273/diego/flexpart-alto-data/run_2021-03-14_20-15-10_LONG/2017-12-06/flxout_d01_20171206_070000.nc opened\n"
     ]
    },
    {
     "name": "stderr",
     "output_type": "stream",
     "text": [
      "2021-03-21 21:11:36,470 useful_scit  DEBUG    file /scratch/project_2001273/diego/flexpart-alto-data/run_2021-03-14_20-15-10_LONG/2017-12-06/flxout_d01_20171206_080000.nc opened\n"
     ]
    },
    {
     "name": "stdout",
     "output_type": "stream",
     "text": [
      "2021-03-21 21:11:36,470 useful_scit  DEBUG    file /scratch/project_2001273/diego/flexpart-alto-data/run_2021-03-14_20-15-10_LONG/2017-12-06/flxout_d01_20171206_080000.nc opened\n"
     ]
    },
    {
     "name": "stderr",
     "output_type": "stream",
     "text": [
      "2021-03-21 21:11:36,476 useful_scit  DEBUG    file /scratch/project_2001273/diego/flexpart-alto-data/run_2021-03-14_20-15-10_LONG/2017-12-06/flxout_d01_20171206_090000.nc opened\n"
     ]
    },
    {
     "name": "stdout",
     "output_type": "stream",
     "text": [
      "2021-03-21 21:11:36,476 useful_scit  DEBUG    file /scratch/project_2001273/diego/flexpart-alto-data/run_2021-03-14_20-15-10_LONG/2017-12-06/flxout_d01_20171206_090000.nc opened\n"
     ]
    },
    {
     "name": "stderr",
     "output_type": "stream",
     "text": [
      "2021-03-21 21:11:36,482 useful_scit  DEBUG    file /scratch/project_2001273/diego/flexpart-alto-data/run_2021-03-14_20-15-10_LONG/2017-12-06/flxout_d01_20171206_100000.nc opened\n"
     ]
    },
    {
     "name": "stdout",
     "output_type": "stream",
     "text": [
      "2021-03-21 21:11:36,482 useful_scit  DEBUG    file /scratch/project_2001273/diego/flexpart-alto-data/run_2021-03-14_20-15-10_LONG/2017-12-06/flxout_d01_20171206_100000.nc opened\n"
     ]
    },
    {
     "name": "stderr",
     "output_type": "stream",
     "text": [
      "2021-03-21 21:11:36,488 useful_scit  DEBUG    file /scratch/project_2001273/diego/flexpart-alto-data/run_2021-03-14_20-15-10_LONG/2017-12-06/flxout_d01_20171206_110000.nc opened\n"
     ]
    },
    {
     "name": "stdout",
     "output_type": "stream",
     "text": [
      "2021-03-21 21:11:36,488 useful_scit  DEBUG    file /scratch/project_2001273/diego/flexpart-alto-data/run_2021-03-14_20-15-10_LONG/2017-12-06/flxout_d01_20171206_110000.nc opened\n"
     ]
    },
    {
     "name": "stderr",
     "output_type": "stream",
     "text": [
      "2021-03-21 21:11:36,494 useful_scit  DEBUG    file /scratch/project_2001273/diego/flexpart-alto-data/run_2021-03-14_20-15-10_LONG/2017-12-06/flxout_d01_20171206_120000.nc opened\n"
     ]
    },
    {
     "name": "stdout",
     "output_type": "stream",
     "text": [
      "2021-03-21 21:11:36,494 useful_scit  DEBUG    file /scratch/project_2001273/diego/flexpart-alto-data/run_2021-03-14_20-15-10_LONG/2017-12-06/flxout_d01_20171206_120000.nc opened\n"
     ]
    },
    {
     "name": "stderr",
     "output_type": "stream",
     "text": [
      "2021-03-21 21:11:36,500 useful_scit  DEBUG    file /scratch/project_2001273/diego/flexpart-alto-data/run_2021-03-14_20-15-10_LONG/2017-12-06/flxout_d01_20171206_130000.nc opened\n"
     ]
    },
    {
     "name": "stdout",
     "output_type": "stream",
     "text": [
      "2021-03-21 21:11:36,500 useful_scit  DEBUG    file /scratch/project_2001273/diego/flexpart-alto-data/run_2021-03-14_20-15-10_LONG/2017-12-06/flxout_d01_20171206_130000.nc opened\n"
     ]
    },
    {
     "name": "stderr",
     "output_type": "stream",
     "text": [
      "2021-03-21 21:11:36,506 useful_scit  DEBUG    file /scratch/project_2001273/diego/flexpart-alto-data/run_2021-03-14_20-15-10_LONG/2017-12-06/flxout_d01_20171206_140000.nc opened\n"
     ]
    },
    {
     "name": "stdout",
     "output_type": "stream",
     "text": [
      "2021-03-21 21:11:36,506 useful_scit  DEBUG    file /scratch/project_2001273/diego/flexpart-alto-data/run_2021-03-14_20-15-10_LONG/2017-12-06/flxout_d01_20171206_140000.nc opened\n"
     ]
    },
    {
     "name": "stderr",
     "output_type": "stream",
     "text": [
      "2021-03-21 21:11:36,568 useful_scit  DEBUG    file /scratch/project_2001273/diego/flexpart-alto-data/run_2021-03-14_20-15-10_LONG/2017-12-06/flxout_d01_20171206_150000.nc opened\n"
     ]
    },
    {
     "name": "stdout",
     "output_type": "stream",
     "text": [
      "2021-03-21 21:11:36,568 useful_scit  DEBUG    file /scratch/project_2001273/diego/flexpart-alto-data/run_2021-03-14_20-15-10_LONG/2017-12-06/flxout_d01_20171206_150000.nc opened\n"
     ]
    },
    {
     "name": "stderr",
     "output_type": "stream",
     "text": [
      "2021-03-21 21:11:36,574 useful_scit  DEBUG    file /scratch/project_2001273/diego/flexpart-alto-data/run_2021-03-14_20-15-10_LONG/2017-12-06/flxout_d01_20171206_160000.nc opened\n"
     ]
    },
    {
     "name": "stdout",
     "output_type": "stream",
     "text": [
      "2021-03-21 21:11:36,574 useful_scit  DEBUG    file /scratch/project_2001273/diego/flexpart-alto-data/run_2021-03-14_20-15-10_LONG/2017-12-06/flxout_d01_20171206_160000.nc opened\n"
     ]
    },
    {
     "name": "stderr",
     "output_type": "stream",
     "text": [
      "2021-03-21 21:11:36,580 useful_scit  DEBUG    file /scratch/project_2001273/diego/flexpart-alto-data/run_2021-03-14_20-15-10_LONG/2017-12-06/flxout_d01_20171206_170000.nc opened\n"
     ]
    },
    {
     "name": "stdout",
     "output_type": "stream",
     "text": [
      "2021-03-21 21:11:36,580 useful_scit  DEBUG    file /scratch/project_2001273/diego/flexpart-alto-data/run_2021-03-14_20-15-10_LONG/2017-12-06/flxout_d01_20171206_170000.nc opened\n"
     ]
    },
    {
     "name": "stderr",
     "output_type": "stream",
     "text": [
      "2021-03-21 21:11:36,587 useful_scit  DEBUG    file /scratch/project_2001273/diego/flexpart-alto-data/run_2021-03-14_20-15-10_LONG/2017-12-06/flxout_d01_20171206_180000.nc opened\n"
     ]
    },
    {
     "name": "stdout",
     "output_type": "stream",
     "text": [
      "2021-03-21 21:11:36,587 useful_scit  DEBUG    file /scratch/project_2001273/diego/flexpart-alto-data/run_2021-03-14_20-15-10_LONG/2017-12-06/flxout_d01_20171206_180000.nc opened\n"
     ]
    },
    {
     "name": "stderr",
     "output_type": "stream",
     "text": [
      "2021-03-21 21:11:36,593 useful_scit  DEBUG    file /scratch/project_2001273/diego/flexpart-alto-data/run_2021-03-14_20-15-10_LONG/2017-12-06/flxout_d01_20171206_190000.nc opened\n"
     ]
    },
    {
     "name": "stdout",
     "output_type": "stream",
     "text": [
      "2021-03-21 21:11:36,593 useful_scit  DEBUG    file /scratch/project_2001273/diego/flexpart-alto-data/run_2021-03-14_20-15-10_LONG/2017-12-06/flxout_d01_20171206_190000.nc opened\n"
     ]
    },
    {
     "name": "stderr",
     "output_type": "stream",
     "text": [
      "2021-03-21 21:11:36,600 useful_scit  DEBUG    file /scratch/project_2001273/diego/flexpart-alto-data/run_2021-03-14_20-15-10_LONG/2017-12-06/flxout_d01_20171206_200000.nc opened\n"
     ]
    },
    {
     "name": "stdout",
     "output_type": "stream",
     "text": [
      "2021-03-21 21:11:36,600 useful_scit  DEBUG    file /scratch/project_2001273/diego/flexpart-alto-data/run_2021-03-14_20-15-10_LONG/2017-12-06/flxout_d01_20171206_200000.nc opened\n"
     ]
    },
    {
     "name": "stderr",
     "output_type": "stream",
     "text": [
      "2021-03-21 21:11:36,606 useful_scit  DEBUG    file /scratch/project_2001273/diego/flexpart-alto-data/run_2021-03-14_20-15-10_LONG/2017-12-06/flxout_d01_20171206_210000.nc opened\n"
     ]
    },
    {
     "name": "stdout",
     "output_type": "stream",
     "text": [
      "2021-03-21 21:11:36,606 useful_scit  DEBUG    file /scratch/project_2001273/diego/flexpart-alto-data/run_2021-03-14_20-15-10_LONG/2017-12-06/flxout_d01_20171206_210000.nc opened\n"
     ]
    },
    {
     "name": "stderr",
     "output_type": "stream",
     "text": [
      "2021-03-21 21:11:36,612 useful_scit  DEBUG    file /scratch/project_2001273/diego/flexpart-alto-data/run_2021-03-14_20-15-10_LONG/2017-12-06/flxout_d01_20171206_220000.nc opened\n"
     ]
    },
    {
     "name": "stdout",
     "output_type": "stream",
     "text": [
      "2021-03-21 21:11:36,612 useful_scit  DEBUG    file /scratch/project_2001273/diego/flexpart-alto-data/run_2021-03-14_20-15-10_LONG/2017-12-06/flxout_d01_20171206_220000.nc opened\n"
     ]
    },
    {
     "name": "stderr",
     "output_type": "stream",
     "text": [
      "2021-03-21 21:11:36,618 useful_scit  DEBUG    file /scratch/project_2001273/diego/flexpart-alto-data/run_2021-03-14_20-15-10_LONG/2017-12-06/flxout_d01_20171206_230000.nc opened\n"
     ]
    },
    {
     "name": "stdout",
     "output_type": "stream",
     "text": [
      "2021-03-21 21:11:36,618 useful_scit  DEBUG    file /scratch/project_2001273/diego/flexpart-alto-data/run_2021-03-14_20-15-10_LONG/2017-12-06/flxout_d01_20171206_230000.nc opened\n"
     ]
    },
    {
     "name": "stderr",
     "output_type": "stream",
     "text": [
      "2021-03-21 21:11:37,413 useful_scit  DEBUG    loading file. this is mem consuming\n"
     ]
    },
    {
     "name": "stdout",
     "output_type": "stream",
     "text": [
      "2021-03-21 21:11:37,413 useful_scit  DEBUG    loading file. this is mem consuming\n"
     ]
    },
    {
     "name": "stderr",
     "output_type": "stream",
     "text": [
      "ERROR:root:Internal Python error in the inspect module.\n",
      "Below is the traceback from this internal error.\n",
      "\n"
     ]
    },
    {
     "ename": "KeyboardInterrupt",
     "evalue": "",
     "output_type": "error",
     "traceback": [
      "\u001b[0;31m---------------------------------------------------------------------------\u001b[0m",
      "\u001b[0;31mKeyboardInterrupt\u001b[0m                         Traceback (most recent call last)",
      "\u001b[0;32m/scratch/project_2001273/diego/miniconda3/envs/b3/lib/python3.8/threading.py\u001b[0m in \u001b[0;36mwait\u001b[0;34m(self, timeout)\u001b[0m\n\u001b[1;32m    301\u001b[0m             \u001b[0;32mif\u001b[0m \u001b[0mtimeout\u001b[0m \u001b[0;32mis\u001b[0m \u001b[0;32mNone\u001b[0m\u001b[0;34m:\u001b[0m\u001b[0;34m\u001b[0m\u001b[0;34m\u001b[0m\u001b[0m\n\u001b[0;32m--> 302\u001b[0;31m                 \u001b[0mwaiter\u001b[0m\u001b[0;34m.\u001b[0m\u001b[0macquire\u001b[0m\u001b[0;34m(\u001b[0m\u001b[0;34m)\u001b[0m\u001b[0;34m\u001b[0m\u001b[0;34m\u001b[0m\u001b[0m\n\u001b[0m\u001b[1;32m    303\u001b[0m                 \u001b[0mgotit\u001b[0m \u001b[0;34m=\u001b[0m \u001b[0;32mTrue\u001b[0m\u001b[0;34m\u001b[0m\u001b[0;34m\u001b[0m\u001b[0m\n",
      "\u001b[0;31mKeyboardInterrupt\u001b[0m: ",
      "\nDuring handling of the above exception, another exception occurred:\n",
      "\u001b[0;31mKeyboardInterrupt\u001b[0m                         Traceback (most recent call last)",
      "\u001b[0;32m/scratch/project_2001273/diego/miniconda3/envs/b3/lib/python3.8/queue.py\u001b[0m in \u001b[0;36mget\u001b[0;34m(self, block, timeout)\u001b[0m\n\u001b[1;32m    169\u001b[0m                 \u001b[0;32mwhile\u001b[0m \u001b[0;32mnot\u001b[0m \u001b[0mself\u001b[0m\u001b[0;34m.\u001b[0m\u001b[0m_qsize\u001b[0m\u001b[0;34m(\u001b[0m\u001b[0;34m)\u001b[0m\u001b[0;34m:\u001b[0m\u001b[0;34m\u001b[0m\u001b[0;34m\u001b[0m\u001b[0m\n\u001b[0;32m--> 170\u001b[0;31m                     \u001b[0mself\u001b[0m\u001b[0;34m.\u001b[0m\u001b[0mnot_empty\u001b[0m\u001b[0;34m.\u001b[0m\u001b[0mwait\u001b[0m\u001b[0;34m(\u001b[0m\u001b[0;34m)\u001b[0m\u001b[0;34m\u001b[0m\u001b[0;34m\u001b[0m\u001b[0m\n\u001b[0m\u001b[1;32m    171\u001b[0m             \u001b[0;32melif\u001b[0m \u001b[0mtimeout\u001b[0m \u001b[0;34m<\u001b[0m \u001b[0;36m0\u001b[0m\u001b[0;34m:\u001b[0m\u001b[0;34m\u001b[0m\u001b[0;34m\u001b[0m\u001b[0m\n",
      "\u001b[0;32m/scratch/project_2001273/diego/miniconda3/envs/b3/lib/python3.8/threading.py\u001b[0m in \u001b[0;36mwait\u001b[0;34m(self, timeout)\u001b[0m\n\u001b[1;32m    301\u001b[0m             \u001b[0;32mif\u001b[0m \u001b[0mtimeout\u001b[0m \u001b[0;32mis\u001b[0m \u001b[0;32mNone\u001b[0m\u001b[0;34m:\u001b[0m\u001b[0;34m\u001b[0m\u001b[0;34m\u001b[0m\u001b[0m\n\u001b[0;32m--> 302\u001b[0;31m                 \u001b[0mwaiter\u001b[0m\u001b[0;34m.\u001b[0m\u001b[0macquire\u001b[0m\u001b[0;34m(\u001b[0m\u001b[0;34m)\u001b[0m\u001b[0;34m\u001b[0m\u001b[0;34m\u001b[0m\u001b[0m\n\u001b[0m\u001b[1;32m    303\u001b[0m                 \u001b[0mgotit\u001b[0m \u001b[0;34m=\u001b[0m \u001b[0;32mTrue\u001b[0m\u001b[0;34m\u001b[0m\u001b[0;34m\u001b[0m\u001b[0m\n",
      "\u001b[0;31mKeyboardInterrupt\u001b[0m: ",
      "\nDuring handling of the above exception, another exception occurred:\n",
      "\u001b[0;31mRuntimeError\u001b[0m                              Traceback (most recent call last)",
      "    \u001b[0;31m[... skipping hidden 1 frame]\u001b[0m\n",
      "\u001b[0;32m<ipython-input-13-26ee9fc98042>\u001b[0m in \u001b[0;36m<module>\u001b[0;34m\u001b[0m\n\u001b[1;32m      7\u001b[0m         \u001b[0;32mtry\u001b[0m\u001b[0;34m:\u001b[0m\u001b[0;34m\u001b[0m\u001b[0;34m\u001b[0m\u001b[0m\n\u001b[0;32m----> 8\u001b[0;31m             \u001b[0mfo\u001b[0m \u001b[0;34m=\u001b[0m \u001b[0mFO\u001b[0m\u001b[0;34m.\u001b[0m\u001b[0mFLEXOUT\u001b[0m\u001b[0;34m(\u001b[0m\u001b[0;34m**\u001b[0m\u001b[0mfo_dic\u001b[0m\u001b[0;34m)\u001b[0m\u001b[0;34m\u001b[0m\u001b[0;34m\u001b[0m\u001b[0m\n\u001b[0m\u001b[1;32m      9\u001b[0m             \u001b[0mfo\u001b[0m\u001b[0;34m.\u001b[0m\u001b[0mexport_log_polar_coords\u001b[0m\u001b[0;34m(\u001b[0m\u001b[0;34m)\u001b[0m\u001b[0;34m\u001b[0m\u001b[0;34m\u001b[0m\u001b[0m\n",
      "\u001b[0;32m~/flexpart-alto/flexpart_alto/modules/FLEXOUT.py\u001b[0m in \u001b[0;36m__init__\u001b[0;34m(self, dom, folder_path, folder_path_out, run_name, process, export_log_pol)\u001b[0m\n\u001b[1;32m     82\u001b[0m         \u001b[0;32mif\u001b[0m \u001b[0mprocess\u001b[0m\u001b[0;34m:\u001b[0m\u001b[0;34m\u001b[0m\u001b[0;34m\u001b[0m\u001b[0m\n\u001b[0;32m---> 83\u001b[0;31m             \u001b[0mself\u001b[0m\u001b[0;34m.\u001b[0m\u001b[0mflexout_hour_ds\u001b[0m \u001b[0;34m=\u001b[0m \u001b[0mself\u001b[0m\u001b[0;34m.\u001b[0m\u001b[0mprocess_log_coords\u001b[0m\u001b[0;34m(\u001b[0m\u001b[0;34m)\u001b[0m\u001b[0;34m\u001b[0m\u001b[0;34m\u001b[0m\u001b[0m\n\u001b[0m\u001b[1;32m     84\u001b[0m \u001b[0;34m\u001b[0m\u001b[0m\n",
      "\u001b[0;32m~/flexpart-alto/flexpart_alto/modules/FLEXOUT.py\u001b[0m in \u001b[0;36mprocess_log_coords\u001b[0;34m(self)\u001b[0m\n\u001b[1;32m    107\u001b[0m         \u001b[0mlog\u001b[0m\u001b[0;34m.\u001b[0m\u001b[0mger\u001b[0m\u001b[0;34m.\u001b[0m\u001b[0mdebug\u001b[0m\u001b[0;34m(\u001b[0m\u001b[0;34m'loading file. this is mem consuming'\u001b[0m\u001b[0;34m)\u001b[0m\u001b[0;34m\u001b[0m\u001b[0;34m\u001b[0m\u001b[0m\n\u001b[0;32m--> 108\u001b[0;31m         \u001b[0mself\u001b[0m\u001b[0;34m.\u001b[0m\u001b[0mflexout_ds\u001b[0m\u001b[0;34m.\u001b[0m\u001b[0mload\u001b[0m\u001b[0;34m(\u001b[0m\u001b[0;34m)\u001b[0m\u001b[0;34m\u001b[0m\u001b[0;34m\u001b[0m\u001b[0m\n\u001b[0m\u001b[1;32m    109\u001b[0m         \u001b[0mlog\u001b[0m\u001b[0;34m.\u001b[0m\u001b[0mger\u001b[0m\u001b[0;34m.\u001b[0m\u001b[0mdebug\u001b[0m\u001b[0;34m(\u001b[0m\u001b[0;34m'loading file done'\u001b[0m\u001b[0;34m)\u001b[0m\u001b[0;34m\u001b[0m\u001b[0;34m\u001b[0m\u001b[0m\n",
      "\u001b[0;32m/scratch/project_2001273/diego/miniconda3/envs/b3/lib/python3.8/site-packages/xarray/core/dataset.py\u001b[0m in \u001b[0;36mload\u001b[0;34m(self, **kwargs)\u001b[0m\n\u001b[1;32m    653\u001b[0m             \u001b[0;31m# evaluate all the dask arrays simultaneously\u001b[0m\u001b[0;34m\u001b[0m\u001b[0;34m\u001b[0m\u001b[0;34m\u001b[0m\u001b[0m\n\u001b[0;32m--> 654\u001b[0;31m             \u001b[0mevaluated_data\u001b[0m \u001b[0;34m=\u001b[0m \u001b[0mda\u001b[0m\u001b[0;34m.\u001b[0m\u001b[0mcompute\u001b[0m\u001b[0;34m(\u001b[0m\u001b[0;34m*\u001b[0m\u001b[0mlazy_data\u001b[0m\u001b[0;34m.\u001b[0m\u001b[0mvalues\u001b[0m\u001b[0;34m(\u001b[0m\u001b[0;34m)\u001b[0m\u001b[0;34m,\u001b[0m \u001b[0;34m**\u001b[0m\u001b[0mkwargs\u001b[0m\u001b[0;34m)\u001b[0m\u001b[0;34m\u001b[0m\u001b[0;34m\u001b[0m\u001b[0m\n\u001b[0m\u001b[1;32m    655\u001b[0m \u001b[0;34m\u001b[0m\u001b[0m\n",
      "\u001b[0;32m/scratch/project_2001273/diego/miniconda3/envs/b3/lib/python3.8/site-packages/dask/base.py\u001b[0m in \u001b[0;36mcompute\u001b[0;34m(*args, **kwargs)\u001b[0m\n\u001b[1;32m    451\u001b[0m \u001b[0;34m\u001b[0m\u001b[0m\n\u001b[0;32m--> 452\u001b[0;31m     \u001b[0mresults\u001b[0m \u001b[0;34m=\u001b[0m \u001b[0mschedule\u001b[0m\u001b[0;34m(\u001b[0m\u001b[0mdsk\u001b[0m\u001b[0;34m,\u001b[0m \u001b[0mkeys\u001b[0m\u001b[0;34m,\u001b[0m \u001b[0;34m**\u001b[0m\u001b[0mkwargs\u001b[0m\u001b[0;34m)\u001b[0m\u001b[0;34m\u001b[0m\u001b[0;34m\u001b[0m\u001b[0m\n\u001b[0m\u001b[1;32m    453\u001b[0m     \u001b[0;32mreturn\u001b[0m \u001b[0mrepack\u001b[0m\u001b[0;34m(\u001b[0m\u001b[0;34m[\u001b[0m\u001b[0mf\u001b[0m\u001b[0;34m(\u001b[0m\u001b[0mr\u001b[0m\u001b[0;34m,\u001b[0m \u001b[0;34m*\u001b[0m\u001b[0ma\u001b[0m\u001b[0;34m)\u001b[0m \u001b[0;32mfor\u001b[0m \u001b[0mr\u001b[0m\u001b[0;34m,\u001b[0m \u001b[0;34m(\u001b[0m\u001b[0mf\u001b[0m\u001b[0;34m,\u001b[0m \u001b[0ma\u001b[0m\u001b[0;34m)\u001b[0m \u001b[0;32min\u001b[0m \u001b[0mzip\u001b[0m\u001b[0;34m(\u001b[0m\u001b[0mresults\u001b[0m\u001b[0;34m,\u001b[0m \u001b[0mpostcomputes\u001b[0m\u001b[0;34m)\u001b[0m\u001b[0;34m]\u001b[0m\u001b[0;34m)\u001b[0m\u001b[0;34m\u001b[0m\u001b[0;34m\u001b[0m\u001b[0m\n",
      "\u001b[0;32m/scratch/project_2001273/diego/miniconda3/envs/b3/lib/python3.8/site-packages/dask/threaded.py\u001b[0m in \u001b[0;36mget\u001b[0;34m(dsk, result, cache, num_workers, pool, **kwargs)\u001b[0m\n\u001b[1;32m     75\u001b[0m \u001b[0;34m\u001b[0m\u001b[0m\n\u001b[0;32m---> 76\u001b[0;31m     results = get_async(\n\u001b[0m\u001b[1;32m     77\u001b[0m         \u001b[0mpool\u001b[0m\u001b[0;34m.\u001b[0m\u001b[0mapply_async\u001b[0m\u001b[0;34m,\u001b[0m\u001b[0;34m\u001b[0m\u001b[0;34m\u001b[0m\u001b[0m\n",
      "\u001b[0;32m/scratch/project_2001273/diego/miniconda3/envs/b3/lib/python3.8/site-packages/dask/local.py\u001b[0m in \u001b[0;36mget_async\u001b[0;34m(apply_async, num_workers, dsk, result, cache, get_id, rerun_exceptions_locally, pack_exception, raise_exception, callbacks, dumps, loads, **kwargs)\u001b[0m\n\u001b[1;32m    474\u001b[0m             \u001b[0;32mwhile\u001b[0m \u001b[0mstate\u001b[0m\u001b[0;34m[\u001b[0m\u001b[0;34m\"waiting\"\u001b[0m\u001b[0;34m]\u001b[0m \u001b[0;32mor\u001b[0m \u001b[0mstate\u001b[0m\u001b[0;34m[\u001b[0m\u001b[0;34m\"ready\"\u001b[0m\u001b[0;34m]\u001b[0m \u001b[0;32mor\u001b[0m \u001b[0mstate\u001b[0m\u001b[0;34m[\u001b[0m\u001b[0;34m\"running\"\u001b[0m\u001b[0;34m]\u001b[0m\u001b[0;34m:\u001b[0m\u001b[0;34m\u001b[0m\u001b[0;34m\u001b[0m\u001b[0m\n\u001b[0;32m--> 475\u001b[0;31m                 \u001b[0mkey\u001b[0m\u001b[0;34m,\u001b[0m \u001b[0mres_info\u001b[0m\u001b[0;34m,\u001b[0m \u001b[0mfailed\u001b[0m \u001b[0;34m=\u001b[0m \u001b[0mqueue_get\u001b[0m\u001b[0;34m(\u001b[0m\u001b[0mqueue\u001b[0m\u001b[0;34m)\u001b[0m\u001b[0;34m\u001b[0m\u001b[0;34m\u001b[0m\u001b[0m\n\u001b[0m\u001b[1;32m    476\u001b[0m                 \u001b[0;32mif\u001b[0m \u001b[0mfailed\u001b[0m\u001b[0;34m:\u001b[0m\u001b[0;34m\u001b[0m\u001b[0;34m\u001b[0m\u001b[0m\n",
      "\u001b[0;32m/scratch/project_2001273/diego/miniconda3/envs/b3/lib/python3.8/site-packages/dask/local.py\u001b[0m in \u001b[0;36mqueue_get\u001b[0;34m(q)\u001b[0m\n\u001b[1;32m    132\u001b[0m     \u001b[0;32mdef\u001b[0m \u001b[0mqueue_get\u001b[0m\u001b[0;34m(\u001b[0m\u001b[0mq\u001b[0m\u001b[0;34m)\u001b[0m\u001b[0;34m:\u001b[0m\u001b[0;34m\u001b[0m\u001b[0;34m\u001b[0m\u001b[0m\n\u001b[0;32m--> 133\u001b[0;31m         \u001b[0;32mreturn\u001b[0m \u001b[0mq\u001b[0m\u001b[0;34m.\u001b[0m\u001b[0mget\u001b[0m\u001b[0;34m(\u001b[0m\u001b[0;34m)\u001b[0m\u001b[0;34m\u001b[0m\u001b[0;34m\u001b[0m\u001b[0m\n\u001b[0m\u001b[1;32m    134\u001b[0m \u001b[0;34m\u001b[0m\u001b[0m\n",
      "\u001b[0;32m/scratch/project_2001273/diego/miniconda3/envs/b3/lib/python3.8/queue.py\u001b[0m in \u001b[0;36mget\u001b[0;34m(self, block, timeout)\u001b[0m\n\u001b[1;32m    181\u001b[0m             \u001b[0mself\u001b[0m\u001b[0;34m.\u001b[0m\u001b[0mnot_full\u001b[0m\u001b[0;34m.\u001b[0m\u001b[0mnotify\u001b[0m\u001b[0;34m(\u001b[0m\u001b[0;34m)\u001b[0m\u001b[0;34m\u001b[0m\u001b[0;34m\u001b[0m\u001b[0m\n\u001b[0;32m--> 182\u001b[0;31m             \u001b[0;32mreturn\u001b[0m \u001b[0mitem\u001b[0m\u001b[0;34m\u001b[0m\u001b[0;34m\u001b[0m\u001b[0m\n\u001b[0m\u001b[1;32m    183\u001b[0m \u001b[0;34m\u001b[0m\u001b[0m\n",
      "\u001b[0;32m/scratch/project_2001273/diego/miniconda3/envs/b3/lib/python3.8/threading.py\u001b[0m in \u001b[0;36m__exit__\u001b[0;34m(self, *args)\u001b[0m\n\u001b[1;32m    249\u001b[0m     \u001b[0;32mdef\u001b[0m \u001b[0m__exit__\u001b[0m\u001b[0;34m(\u001b[0m\u001b[0mself\u001b[0m\u001b[0;34m,\u001b[0m \u001b[0;34m*\u001b[0m\u001b[0margs\u001b[0m\u001b[0;34m)\u001b[0m\u001b[0;34m:\u001b[0m\u001b[0;34m\u001b[0m\u001b[0;34m\u001b[0m\u001b[0m\n\u001b[0;32m--> 250\u001b[0;31m         \u001b[0;32mreturn\u001b[0m \u001b[0mself\u001b[0m\u001b[0;34m.\u001b[0m\u001b[0m_lock\u001b[0m\u001b[0;34m.\u001b[0m\u001b[0m__exit__\u001b[0m\u001b[0;34m(\u001b[0m\u001b[0;34m*\u001b[0m\u001b[0margs\u001b[0m\u001b[0;34m)\u001b[0m\u001b[0;34m\u001b[0m\u001b[0;34m\u001b[0m\u001b[0m\n\u001b[0m\u001b[1;32m    251\u001b[0m \u001b[0;34m\u001b[0m\u001b[0m\n",
      "\u001b[0;31mRuntimeError\u001b[0m: release unlocked lock",
      "\nDuring handling of the above exception, another exception occurred:\n",
      "\u001b[0;31mAttributeError\u001b[0m                            Traceback (most recent call last)",
      "\u001b[0;32m/scratch/project_2001273/diego/miniconda3/envs/b3/lib/python3.8/site-packages/IPython/core/interactiveshell.py\u001b[0m in \u001b[0;36mshowtraceback\u001b[0;34m(self, exc_tuple, filename, tb_offset, exception_only, running_compiled_code)\u001b[0m\n\u001b[1;32m   2043\u001b[0m                         \u001b[0;31m# in the engines. This should return a list of strings.\u001b[0m\u001b[0;34m\u001b[0m\u001b[0;34m\u001b[0m\u001b[0;34m\u001b[0m\u001b[0m\n\u001b[0;32m-> 2044\u001b[0;31m                         \u001b[0mstb\u001b[0m \u001b[0;34m=\u001b[0m \u001b[0mvalue\u001b[0m\u001b[0;34m.\u001b[0m\u001b[0m_render_traceback_\u001b[0m\u001b[0;34m(\u001b[0m\u001b[0;34m)\u001b[0m\u001b[0;34m\u001b[0m\u001b[0;34m\u001b[0m\u001b[0m\n\u001b[0m\u001b[1;32m   2045\u001b[0m                     \u001b[0;32mexcept\u001b[0m \u001b[0mException\u001b[0m\u001b[0;34m:\u001b[0m\u001b[0;34m\u001b[0m\u001b[0;34m\u001b[0m\u001b[0m\n",
      "\u001b[0;31mAttributeError\u001b[0m: 'RuntimeError' object has no attribute '_render_traceback_'",
      "\nDuring handling of the above exception, another exception occurred:\n",
      "\u001b[0;31mKeyboardInterrupt\u001b[0m                         Traceback (most recent call last)",
      "\u001b[0;32m/scratch/project_2001273/diego/miniconda3/envs/b3/lib/python3.8/site-packages/IPython/core/ultratb.py\u001b[0m in \u001b[0;36mget_records\u001b[0;34m(self, etb, number_of_lines_of_context, tb_offset)\u001b[0m\n\u001b[1;32m   1168\u001b[0m             \u001b[0;31m# (5 blanks lines) where none should be returned.\u001b[0m\u001b[0;34m\u001b[0m\u001b[0;34m\u001b[0m\u001b[0;34m\u001b[0m\u001b[0m\n\u001b[0;32m-> 1169\u001b[0;31m             \u001b[0;32mreturn\u001b[0m \u001b[0m_fixed_getinnerframes\u001b[0m\u001b[0;34m(\u001b[0m\u001b[0metb\u001b[0m\u001b[0;34m,\u001b[0m \u001b[0mnumber_of_lines_of_context\u001b[0m\u001b[0;34m,\u001b[0m \u001b[0mtb_offset\u001b[0m\u001b[0;34m)\u001b[0m\u001b[0;34m\u001b[0m\u001b[0;34m\u001b[0m\u001b[0m\n\u001b[0m\u001b[1;32m   1170\u001b[0m         \u001b[0;32mexcept\u001b[0m \u001b[0mUnicodeDecodeError\u001b[0m\u001b[0;34m:\u001b[0m\u001b[0;34m\u001b[0m\u001b[0;34m\u001b[0m\u001b[0m\n",
      "\u001b[0;32m/scratch/project_2001273/diego/miniconda3/envs/b3/lib/python3.8/site-packages/IPython/core/ultratb.py\u001b[0m in \u001b[0;36mwrapped\u001b[0;34m(*args, **kwargs)\u001b[0m\n\u001b[1;32m    315\u001b[0m         \u001b[0;32mtry\u001b[0m\u001b[0;34m:\u001b[0m\u001b[0;34m\u001b[0m\u001b[0;34m\u001b[0m\u001b[0m\n\u001b[0;32m--> 316\u001b[0;31m             \u001b[0;32mreturn\u001b[0m \u001b[0mf\u001b[0m\u001b[0;34m(\u001b[0m\u001b[0;34m*\u001b[0m\u001b[0margs\u001b[0m\u001b[0;34m,\u001b[0m \u001b[0;34m**\u001b[0m\u001b[0mkwargs\u001b[0m\u001b[0;34m)\u001b[0m\u001b[0;34m\u001b[0m\u001b[0;34m\u001b[0m\u001b[0m\n\u001b[0m\u001b[1;32m    317\u001b[0m         \u001b[0;32mfinally\u001b[0m\u001b[0;34m:\u001b[0m\u001b[0;34m\u001b[0m\u001b[0;34m\u001b[0m\u001b[0m\n",
      "\u001b[0;32m/scratch/project_2001273/diego/miniconda3/envs/b3/lib/python3.8/site-packages/IPython/core/ultratb.py\u001b[0m in \u001b[0;36m_fixed_getinnerframes\u001b[0;34m(etb, context, tb_offset)\u001b[0m\n\u001b[1;32m    349\u001b[0m \u001b[0;34m\u001b[0m\u001b[0m\n\u001b[0;32m--> 350\u001b[0;31m     \u001b[0mrecords\u001b[0m \u001b[0;34m=\u001b[0m \u001b[0mfix_frame_records_filenames\u001b[0m\u001b[0;34m(\u001b[0m\u001b[0minspect\u001b[0m\u001b[0;34m.\u001b[0m\u001b[0mgetinnerframes\u001b[0m\u001b[0;34m(\u001b[0m\u001b[0metb\u001b[0m\u001b[0;34m,\u001b[0m \u001b[0mcontext\u001b[0m\u001b[0;34m)\u001b[0m\u001b[0;34m)\u001b[0m\u001b[0;34m\u001b[0m\u001b[0;34m\u001b[0m\u001b[0m\n\u001b[0m\u001b[1;32m    351\u001b[0m     \u001b[0;31m# If the error is at the console, don't build any context, since it would\u001b[0m\u001b[0;34m\u001b[0m\u001b[0;34m\u001b[0m\u001b[0;34m\u001b[0m\u001b[0m\n",
      "\u001b[0;32m/scratch/project_2001273/diego/miniconda3/envs/b3/lib/python3.8/inspect.py\u001b[0m in \u001b[0;36mgetinnerframes\u001b[0;34m(tb, context)\u001b[0m\n\u001b[1;32m   1502\u001b[0m     \u001b[0;32mwhile\u001b[0m \u001b[0mtb\u001b[0m\u001b[0;34m:\u001b[0m\u001b[0;34m\u001b[0m\u001b[0;34m\u001b[0m\u001b[0m\n\u001b[0;32m-> 1503\u001b[0;31m         \u001b[0mframeinfo\u001b[0m \u001b[0;34m=\u001b[0m \u001b[0;34m(\u001b[0m\u001b[0mtb\u001b[0m\u001b[0;34m.\u001b[0m\u001b[0mtb_frame\u001b[0m\u001b[0;34m,\u001b[0m\u001b[0;34m)\u001b[0m \u001b[0;34m+\u001b[0m \u001b[0mgetframeinfo\u001b[0m\u001b[0;34m(\u001b[0m\u001b[0mtb\u001b[0m\u001b[0;34m,\u001b[0m \u001b[0mcontext\u001b[0m\u001b[0;34m)\u001b[0m\u001b[0;34m\u001b[0m\u001b[0;34m\u001b[0m\u001b[0m\n\u001b[0m\u001b[1;32m   1504\u001b[0m         \u001b[0mframelist\u001b[0m\u001b[0;34m.\u001b[0m\u001b[0mappend\u001b[0m\u001b[0;34m(\u001b[0m\u001b[0mFrameInfo\u001b[0m\u001b[0;34m(\u001b[0m\u001b[0;34m*\u001b[0m\u001b[0mframeinfo\u001b[0m\u001b[0;34m)\u001b[0m\u001b[0;34m)\u001b[0m\u001b[0;34m\u001b[0m\u001b[0;34m\u001b[0m\u001b[0m\n",
      "\u001b[0;32m/scratch/project_2001273/diego/miniconda3/envs/b3/lib/python3.8/inspect.py\u001b[0m in \u001b[0;36mgetframeinfo\u001b[0;34m(frame, context)\u001b[0m\n\u001b[1;32m   1464\u001b[0m         \u001b[0;32mtry\u001b[0m\u001b[0;34m:\u001b[0m\u001b[0;34m\u001b[0m\u001b[0;34m\u001b[0m\u001b[0m\n\u001b[0;32m-> 1465\u001b[0;31m             \u001b[0mlines\u001b[0m\u001b[0;34m,\u001b[0m \u001b[0mlnum\u001b[0m \u001b[0;34m=\u001b[0m \u001b[0mfindsource\u001b[0m\u001b[0;34m(\u001b[0m\u001b[0mframe\u001b[0m\u001b[0;34m)\u001b[0m\u001b[0;34m\u001b[0m\u001b[0;34m\u001b[0m\u001b[0m\n\u001b[0m\u001b[1;32m   1466\u001b[0m         \u001b[0;32mexcept\u001b[0m \u001b[0mOSError\u001b[0m\u001b[0;34m:\u001b[0m\u001b[0;34m\u001b[0m\u001b[0;34m\u001b[0m\u001b[0m\n",
      "\u001b[0;32m/scratch/project_2001273/diego/miniconda3/envs/b3/lib/python3.8/site-packages/IPython/core/ultratb.py\u001b[0m in \u001b[0;36mfindsource\u001b[0;34m(object)\u001b[0m\n\u001b[1;32m    181\u001b[0m             \u001b[0mglobals_dict\u001b[0m \u001b[0;34m=\u001b[0m \u001b[0mmodule\u001b[0m\u001b[0;34m.\u001b[0m\u001b[0m__dict__\u001b[0m\u001b[0;34m\u001b[0m\u001b[0;34m\u001b[0m\u001b[0m\n\u001b[0;32m--> 182\u001b[0;31m     \u001b[0mlines\u001b[0m \u001b[0;34m=\u001b[0m \u001b[0mlinecache\u001b[0m\u001b[0;34m.\u001b[0m\u001b[0mgetlines\u001b[0m\u001b[0;34m(\u001b[0m\u001b[0mfile\u001b[0m\u001b[0;34m,\u001b[0m \u001b[0mglobals_dict\u001b[0m\u001b[0;34m)\u001b[0m\u001b[0;34m\u001b[0m\u001b[0;34m\u001b[0m\u001b[0m\n\u001b[0m\u001b[1;32m    183\u001b[0m     \u001b[0;32mif\u001b[0m \u001b[0;32mnot\u001b[0m \u001b[0mlines\u001b[0m\u001b[0;34m:\u001b[0m\u001b[0;34m\u001b[0m\u001b[0;34m\u001b[0m\u001b[0m\n",
      "\u001b[0;32m/scratch/project_2001273/diego/miniconda3/envs/b3/lib/python3.8/linecache.py\u001b[0m in \u001b[0;36mgetlines\u001b[0;34m(filename, module_globals)\u001b[0m\n\u001b[1;32m     46\u001b[0m     \u001b[0;32mtry\u001b[0m\u001b[0;34m:\u001b[0m\u001b[0;34m\u001b[0m\u001b[0;34m\u001b[0m\u001b[0m\n\u001b[0;32m---> 47\u001b[0;31m         \u001b[0;32mreturn\u001b[0m \u001b[0mupdatecache\u001b[0m\u001b[0;34m(\u001b[0m\u001b[0mfilename\u001b[0m\u001b[0;34m,\u001b[0m \u001b[0mmodule_globals\u001b[0m\u001b[0;34m)\u001b[0m\u001b[0;34m\u001b[0m\u001b[0;34m\u001b[0m\u001b[0m\n\u001b[0m\u001b[1;32m     48\u001b[0m     \u001b[0;32mexcept\u001b[0m \u001b[0mMemoryError\u001b[0m\u001b[0;34m:\u001b[0m\u001b[0;34m\u001b[0m\u001b[0;34m\u001b[0m\u001b[0m\n",
      "\u001b[0;32m/scratch/project_2001273/diego/miniconda3/envs/b3/lib/python3.8/linecache.py\u001b[0m in \u001b[0;36mupdatecache\u001b[0;34m(filename, module_globals)\u001b[0m\n\u001b[1;32m    136\u001b[0m         \u001b[0;32mwith\u001b[0m \u001b[0mtokenize\u001b[0m\u001b[0;34m.\u001b[0m\u001b[0mopen\u001b[0m\u001b[0;34m(\u001b[0m\u001b[0mfullname\u001b[0m\u001b[0;34m)\u001b[0m \u001b[0;32mas\u001b[0m \u001b[0mfp\u001b[0m\u001b[0;34m:\u001b[0m\u001b[0;34m\u001b[0m\u001b[0;34m\u001b[0m\u001b[0m\n\u001b[0;32m--> 137\u001b[0;31m             \u001b[0mlines\u001b[0m \u001b[0;34m=\u001b[0m \u001b[0mfp\u001b[0m\u001b[0;34m.\u001b[0m\u001b[0mreadlines\u001b[0m\u001b[0;34m(\u001b[0m\u001b[0;34m)\u001b[0m\u001b[0;34m\u001b[0m\u001b[0;34m\u001b[0m\u001b[0m\n\u001b[0m\u001b[1;32m    138\u001b[0m     \u001b[0;32mexcept\u001b[0m \u001b[0mOSError\u001b[0m\u001b[0;34m:\u001b[0m\u001b[0;34m\u001b[0m\u001b[0;34m\u001b[0m\u001b[0m\n",
      "\u001b[0;31mKeyboardInterrupt\u001b[0m: ",
      "\nDuring handling of the above exception, another exception occurred:\n",
      "\u001b[0;31mKeyboardInterrupt\u001b[0m                         Traceback (most recent call last)",
      "\u001b[0;32m/scratch/project_2001273/diego/miniconda3/envs/b3/lib/python3.8/site-packages/IPython/core/interactiveshell.py\u001b[0m in \u001b[0;36mshowtraceback\u001b[0;34m(self, exc_tuple, filename, tb_offset, exception_only, running_compiled_code)\u001b[0m\n\u001b[1;32m   2045\u001b[0m                     \u001b[0;32mexcept\u001b[0m \u001b[0mException\u001b[0m\u001b[0;34m:\u001b[0m\u001b[0;34m\u001b[0m\u001b[0;34m\u001b[0m\u001b[0m\n\u001b[0;32m-> 2046\u001b[0;31m                         stb = self.InteractiveTB.structured_traceback(etype,\n\u001b[0m\u001b[1;32m   2047\u001b[0m                                             value, tb, tb_offset=tb_offset)\n",
      "\u001b[0;32m/scratch/project_2001273/diego/miniconda3/envs/b3/lib/python3.8/site-packages/IPython/core/ultratb.py\u001b[0m in \u001b[0;36mstructured_traceback\u001b[0;34m(self, etype, value, tb, tb_offset, number_of_lines_of_context)\u001b[0m\n\u001b[1;32m   1434\u001b[0m             \u001b[0mself\u001b[0m\u001b[0;34m.\u001b[0m\u001b[0mtb\u001b[0m \u001b[0;34m=\u001b[0m \u001b[0mtb\u001b[0m\u001b[0;34m\u001b[0m\u001b[0;34m\u001b[0m\u001b[0m\n\u001b[0;32m-> 1435\u001b[0;31m         return FormattedTB.structured_traceback(\n\u001b[0m\u001b[1;32m   1436\u001b[0m             self, etype, value, tb, tb_offset, number_of_lines_of_context)\n",
      "\u001b[0;32m/scratch/project_2001273/diego/miniconda3/envs/b3/lib/python3.8/site-packages/IPython/core/ultratb.py\u001b[0m in \u001b[0;36mstructured_traceback\u001b[0;34m(self, etype, value, tb, tb_offset, number_of_lines_of_context)\u001b[0m\n\u001b[1;32m   1334\u001b[0m             \u001b[0;31m# Verbose modes need a full traceback\u001b[0m\u001b[0;34m\u001b[0m\u001b[0;34m\u001b[0m\u001b[0;34m\u001b[0m\u001b[0m\n\u001b[0;32m-> 1335\u001b[0;31m             return VerboseTB.structured_traceback(\n\u001b[0m\u001b[1;32m   1336\u001b[0m                 \u001b[0mself\u001b[0m\u001b[0;34m,\u001b[0m \u001b[0metype\u001b[0m\u001b[0;34m,\u001b[0m \u001b[0mvalue\u001b[0m\u001b[0;34m,\u001b[0m \u001b[0mtb\u001b[0m\u001b[0;34m,\u001b[0m \u001b[0mtb_offset\u001b[0m\u001b[0;34m,\u001b[0m \u001b[0mnumber_of_lines_of_context\u001b[0m\u001b[0;34m\u001b[0m\u001b[0;34m\u001b[0m\u001b[0m\n",
      "\u001b[0;32m/scratch/project_2001273/diego/miniconda3/envs/b3/lib/python3.8/site-packages/IPython/core/ultratb.py\u001b[0m in \u001b[0;36mstructured_traceback\u001b[0;34m(self, etype, evalue, etb, tb_offset, number_of_lines_of_context)\u001b[0m\n\u001b[1;32m   1191\u001b[0m \u001b[0;34m\u001b[0m\u001b[0m\n\u001b[0;32m-> 1192\u001b[0;31m         formatted_exception = self.format_exception_as_a_whole(etype, evalue, etb, number_of_lines_of_context,\n\u001b[0m\u001b[1;32m   1193\u001b[0m                                                                tb_offset)\n",
      "\u001b[0;32m/scratch/project_2001273/diego/miniconda3/envs/b3/lib/python3.8/site-packages/IPython/core/ultratb.py\u001b[0m in \u001b[0;36mformat_exception_as_a_whole\u001b[0;34m(self, etype, evalue, etb, number_of_lines_of_context, tb_offset)\u001b[0m\n\u001b[1;32m   1146\u001b[0m         \u001b[0mhead\u001b[0m \u001b[0;34m=\u001b[0m \u001b[0mself\u001b[0m\u001b[0;34m.\u001b[0m\u001b[0mprepare_header\u001b[0m\u001b[0;34m(\u001b[0m\u001b[0metype\u001b[0m\u001b[0;34m,\u001b[0m \u001b[0mself\u001b[0m\u001b[0;34m.\u001b[0m\u001b[0mlong_header\u001b[0m\u001b[0;34m)\u001b[0m\u001b[0;34m\u001b[0m\u001b[0;34m\u001b[0m\u001b[0m\n\u001b[0;32m-> 1147\u001b[0;31m         \u001b[0mrecords\u001b[0m \u001b[0;34m=\u001b[0m \u001b[0mself\u001b[0m\u001b[0;34m.\u001b[0m\u001b[0mget_records\u001b[0m\u001b[0;34m(\u001b[0m\u001b[0metb\u001b[0m\u001b[0;34m,\u001b[0m \u001b[0mnumber_of_lines_of_context\u001b[0m\u001b[0;34m,\u001b[0m \u001b[0mtb_offset\u001b[0m\u001b[0;34m)\u001b[0m\u001b[0;34m\u001b[0m\u001b[0;34m\u001b[0m\u001b[0m\n\u001b[0m\u001b[1;32m   1148\u001b[0m \u001b[0;34m\u001b[0m\u001b[0m\n",
      "\u001b[0;32m/scratch/project_2001273/diego/miniconda3/envs/b3/lib/python3.8/site-packages/IPython/core/ultratb.py\u001b[0m in \u001b[0;36mget_records\u001b[0;34m(self, etb, number_of_lines_of_context, tb_offset)\u001b[0m\n\u001b[1;32m   1183\u001b[0m             \u001b[0minspect_error\u001b[0m\u001b[0;34m(\u001b[0m\u001b[0;34m)\u001b[0m\u001b[0;34m\u001b[0m\u001b[0;34m\u001b[0m\u001b[0m\n\u001b[0;32m-> 1184\u001b[0;31m             \u001b[0mtraceback\u001b[0m\u001b[0;34m.\u001b[0m\u001b[0mprint_exc\u001b[0m\u001b[0;34m(\u001b[0m\u001b[0mfile\u001b[0m\u001b[0;34m=\u001b[0m\u001b[0mself\u001b[0m\u001b[0;34m.\u001b[0m\u001b[0mostream\u001b[0m\u001b[0;34m)\u001b[0m\u001b[0;34m\u001b[0m\u001b[0;34m\u001b[0m\u001b[0m\n\u001b[0m\u001b[1;32m   1185\u001b[0m             \u001b[0minfo\u001b[0m\u001b[0;34m(\u001b[0m\u001b[0;34m'\\nUnfortunately, your original traceback can not be constructed.\\n'\u001b[0m\u001b[0;34m)\u001b[0m\u001b[0;34m\u001b[0m\u001b[0;34m\u001b[0m\u001b[0m\n",
      "\u001b[0;32m/scratch/project_2001273/diego/miniconda3/envs/b3/lib/python3.8/traceback.py\u001b[0m in \u001b[0;36mprint_exc\u001b[0;34m(limit, file, chain)\u001b[0m\n\u001b[1;32m    162\u001b[0m     \u001b[0;34m\"\"\"Shorthand for 'print_exception(*sys.exc_info(), limit, file)'.\"\"\"\u001b[0m\u001b[0;34m\u001b[0m\u001b[0;34m\u001b[0m\u001b[0m\n\u001b[0;32m--> 163\u001b[0;31m     \u001b[0mprint_exception\u001b[0m\u001b[0;34m(\u001b[0m\u001b[0;34m*\u001b[0m\u001b[0msys\u001b[0m\u001b[0;34m.\u001b[0m\u001b[0mexc_info\u001b[0m\u001b[0;34m(\u001b[0m\u001b[0;34m)\u001b[0m\u001b[0;34m,\u001b[0m \u001b[0mlimit\u001b[0m\u001b[0;34m=\u001b[0m\u001b[0mlimit\u001b[0m\u001b[0;34m,\u001b[0m \u001b[0mfile\u001b[0m\u001b[0;34m=\u001b[0m\u001b[0mfile\u001b[0m\u001b[0;34m,\u001b[0m \u001b[0mchain\u001b[0m\u001b[0;34m=\u001b[0m\u001b[0mchain\u001b[0m\u001b[0;34m)\u001b[0m\u001b[0;34m\u001b[0m\u001b[0;34m\u001b[0m\u001b[0m\n\u001b[0m\u001b[1;32m    164\u001b[0m \u001b[0;34m\u001b[0m\u001b[0m\n",
      "\u001b[0;32m/scratch/project_2001273/diego/miniconda3/envs/b3/lib/python3.8/traceback.py\u001b[0m in \u001b[0;36mprint_exception\u001b[0;34m(etype, value, tb, limit, file, chain)\u001b[0m\n\u001b[1;32m    102\u001b[0m         \u001b[0mfile\u001b[0m \u001b[0;34m=\u001b[0m \u001b[0msys\u001b[0m\u001b[0;34m.\u001b[0m\u001b[0mstderr\u001b[0m\u001b[0;34m\u001b[0m\u001b[0;34m\u001b[0m\u001b[0m\n\u001b[0;32m--> 103\u001b[0;31m     for line in TracebackException(\n\u001b[0m\u001b[1;32m    104\u001b[0m             type(value), value, tb, limit=limit).format(chain=chain):\n",
      "\u001b[0;32m/scratch/project_2001273/diego/miniconda3/envs/b3/lib/python3.8/traceback.py\u001b[0m in \u001b[0;36m__init__\u001b[0;34m(self, exc_type, exc_value, exc_traceback, limit, lookup_lines, capture_locals, _seen)\u001b[0m\n\u001b[1;32m    523\u001b[0m         \u001b[0;32mif\u001b[0m \u001b[0mlookup_lines\u001b[0m\u001b[0;34m:\u001b[0m\u001b[0;34m\u001b[0m\u001b[0;34m\u001b[0m\u001b[0m\n\u001b[0;32m--> 524\u001b[0;31m             \u001b[0mself\u001b[0m\u001b[0;34m.\u001b[0m\u001b[0m_load_lines\u001b[0m\u001b[0;34m(\u001b[0m\u001b[0;34m)\u001b[0m\u001b[0;34m\u001b[0m\u001b[0;34m\u001b[0m\u001b[0m\n\u001b[0m\u001b[1;32m    525\u001b[0m \u001b[0;34m\u001b[0m\u001b[0m\n",
      "\u001b[0;32m/scratch/project_2001273/diego/miniconda3/envs/b3/lib/python3.8/traceback.py\u001b[0m in \u001b[0;36m_load_lines\u001b[0;34m(self)\u001b[0m\n\u001b[1;32m    535\u001b[0m         \u001b[0;32mif\u001b[0m \u001b[0mself\u001b[0m\u001b[0;34m.\u001b[0m\u001b[0m__context__\u001b[0m\u001b[0;34m:\u001b[0m\u001b[0;34m\u001b[0m\u001b[0;34m\u001b[0m\u001b[0m\n\u001b[0;32m--> 536\u001b[0;31m             \u001b[0mself\u001b[0m\u001b[0;34m.\u001b[0m\u001b[0m__context__\u001b[0m\u001b[0;34m.\u001b[0m\u001b[0m_load_lines\u001b[0m\u001b[0;34m(\u001b[0m\u001b[0;34m)\u001b[0m\u001b[0;34m\u001b[0m\u001b[0;34m\u001b[0m\u001b[0m\n\u001b[0m\u001b[1;32m    537\u001b[0m         \u001b[0;32mif\u001b[0m \u001b[0mself\u001b[0m\u001b[0;34m.\u001b[0m\u001b[0m__cause__\u001b[0m\u001b[0;34m:\u001b[0m\u001b[0;34m\u001b[0m\u001b[0;34m\u001b[0m\u001b[0m\n",
      "\u001b[0;32m/scratch/project_2001273/diego/miniconda3/envs/b3/lib/python3.8/traceback.py\u001b[0m in \u001b[0;36m_load_lines\u001b[0;34m(self)\u001b[0m\n\u001b[1;32m    535\u001b[0m         \u001b[0;32mif\u001b[0m \u001b[0mself\u001b[0m\u001b[0;34m.\u001b[0m\u001b[0m__context__\u001b[0m\u001b[0;34m:\u001b[0m\u001b[0;34m\u001b[0m\u001b[0;34m\u001b[0m\u001b[0m\n\u001b[0;32m--> 536\u001b[0;31m             \u001b[0mself\u001b[0m\u001b[0;34m.\u001b[0m\u001b[0m__context__\u001b[0m\u001b[0;34m.\u001b[0m\u001b[0m_load_lines\u001b[0m\u001b[0;34m(\u001b[0m\u001b[0;34m)\u001b[0m\u001b[0;34m\u001b[0m\u001b[0;34m\u001b[0m\u001b[0m\n\u001b[0m\u001b[1;32m    537\u001b[0m         \u001b[0;32mif\u001b[0m \u001b[0mself\u001b[0m\u001b[0;34m.\u001b[0m\u001b[0m__cause__\u001b[0m\u001b[0;34m:\u001b[0m\u001b[0;34m\u001b[0m\u001b[0;34m\u001b[0m\u001b[0m\n",
      "\u001b[0;32m/scratch/project_2001273/diego/miniconda3/envs/b3/lib/python3.8/traceback.py\u001b[0m in \u001b[0;36m_load_lines\u001b[0;34m(self)\u001b[0m\n\u001b[1;32m    533\u001b[0m         \u001b[0;32mfor\u001b[0m \u001b[0mframe\u001b[0m \u001b[0;32min\u001b[0m \u001b[0mself\u001b[0m\u001b[0;34m.\u001b[0m\u001b[0mstack\u001b[0m\u001b[0;34m:\u001b[0m\u001b[0;34m\u001b[0m\u001b[0;34m\u001b[0m\u001b[0m\n\u001b[0;32m--> 534\u001b[0;31m             \u001b[0mframe\u001b[0m\u001b[0;34m.\u001b[0m\u001b[0mline\u001b[0m\u001b[0;34m\u001b[0m\u001b[0;34m\u001b[0m\u001b[0m\n\u001b[0m\u001b[1;32m    535\u001b[0m         \u001b[0;32mif\u001b[0m \u001b[0mself\u001b[0m\u001b[0;34m.\u001b[0m\u001b[0m__context__\u001b[0m\u001b[0;34m:\u001b[0m\u001b[0;34m\u001b[0m\u001b[0;34m\u001b[0m\u001b[0m\n",
      "\u001b[0;32m/scratch/project_2001273/diego/miniconda3/envs/b3/lib/python3.8/traceback.py\u001b[0m in \u001b[0;36mline\u001b[0;34m(self)\u001b[0m\n\u001b[1;32m    287\u001b[0m         \u001b[0;32mif\u001b[0m \u001b[0mself\u001b[0m\u001b[0;34m.\u001b[0m\u001b[0m_line\u001b[0m \u001b[0;32mis\u001b[0m \u001b[0;32mNone\u001b[0m\u001b[0;34m:\u001b[0m\u001b[0;34m\u001b[0m\u001b[0;34m\u001b[0m\u001b[0m\n\u001b[0;32m--> 288\u001b[0;31m             \u001b[0mself\u001b[0m\u001b[0;34m.\u001b[0m\u001b[0m_line\u001b[0m \u001b[0;34m=\u001b[0m \u001b[0mlinecache\u001b[0m\u001b[0;34m.\u001b[0m\u001b[0mgetline\u001b[0m\u001b[0;34m(\u001b[0m\u001b[0mself\u001b[0m\u001b[0;34m.\u001b[0m\u001b[0mfilename\u001b[0m\u001b[0;34m,\u001b[0m \u001b[0mself\u001b[0m\u001b[0;34m.\u001b[0m\u001b[0mlineno\u001b[0m\u001b[0;34m)\u001b[0m\u001b[0;34m.\u001b[0m\u001b[0mstrip\u001b[0m\u001b[0;34m(\u001b[0m\u001b[0;34m)\u001b[0m\u001b[0;34m\u001b[0m\u001b[0;34m\u001b[0m\u001b[0m\n\u001b[0m\u001b[1;32m    289\u001b[0m         \u001b[0;32mreturn\u001b[0m \u001b[0mself\u001b[0m\u001b[0;34m.\u001b[0m\u001b[0m_line\u001b[0m\u001b[0;34m\u001b[0m\u001b[0;34m\u001b[0m\u001b[0m\n",
      "\u001b[0;32m/scratch/project_2001273/diego/miniconda3/envs/b3/lib/python3.8/linecache.py\u001b[0m in \u001b[0;36mgetline\u001b[0;34m(filename, lineno, module_globals)\u001b[0m\n\u001b[1;32m     15\u001b[0m \u001b[0;32mdef\u001b[0m \u001b[0mgetline\u001b[0m\u001b[0;34m(\u001b[0m\u001b[0mfilename\u001b[0m\u001b[0;34m,\u001b[0m \u001b[0mlineno\u001b[0m\u001b[0;34m,\u001b[0m \u001b[0mmodule_globals\u001b[0m\u001b[0;34m=\u001b[0m\u001b[0;32mNone\u001b[0m\u001b[0;34m)\u001b[0m\u001b[0;34m:\u001b[0m\u001b[0;34m\u001b[0m\u001b[0;34m\u001b[0m\u001b[0m\n\u001b[0;32m---> 16\u001b[0;31m     \u001b[0mlines\u001b[0m \u001b[0;34m=\u001b[0m \u001b[0mgetlines\u001b[0m\u001b[0;34m(\u001b[0m\u001b[0mfilename\u001b[0m\u001b[0;34m,\u001b[0m \u001b[0mmodule_globals\u001b[0m\u001b[0;34m)\u001b[0m\u001b[0;34m\u001b[0m\u001b[0;34m\u001b[0m\u001b[0m\n\u001b[0m\u001b[1;32m     17\u001b[0m     \u001b[0;32mif\u001b[0m \u001b[0;36m1\u001b[0m \u001b[0;34m<=\u001b[0m \u001b[0mlineno\u001b[0m \u001b[0;34m<=\u001b[0m \u001b[0mlen\u001b[0m\u001b[0;34m(\u001b[0m\u001b[0mlines\u001b[0m\u001b[0;34m)\u001b[0m\u001b[0;34m:\u001b[0m\u001b[0;34m\u001b[0m\u001b[0;34m\u001b[0m\u001b[0m\n",
      "\u001b[0;32m/scratch/project_2001273/diego/miniconda3/envs/b3/lib/python3.8/linecache.py\u001b[0m in \u001b[0;36mgetlines\u001b[0;34m(filename, module_globals)\u001b[0m\n\u001b[1;32m     46\u001b[0m     \u001b[0;32mtry\u001b[0m\u001b[0;34m:\u001b[0m\u001b[0;34m\u001b[0m\u001b[0;34m\u001b[0m\u001b[0m\n\u001b[0;32m---> 47\u001b[0;31m         \u001b[0;32mreturn\u001b[0m \u001b[0mupdatecache\u001b[0m\u001b[0;34m(\u001b[0m\u001b[0mfilename\u001b[0m\u001b[0;34m,\u001b[0m \u001b[0mmodule_globals\u001b[0m\u001b[0;34m)\u001b[0m\u001b[0;34m\u001b[0m\u001b[0;34m\u001b[0m\u001b[0m\n\u001b[0m\u001b[1;32m     48\u001b[0m     \u001b[0;32mexcept\u001b[0m \u001b[0mMemoryError\u001b[0m\u001b[0;34m:\u001b[0m\u001b[0;34m\u001b[0m\u001b[0;34m\u001b[0m\u001b[0m\n",
      "\u001b[0;32m/scratch/project_2001273/diego/miniconda3/envs/b3/lib/python3.8/linecache.py\u001b[0m in \u001b[0;36mupdatecache\u001b[0;34m(filename, module_globals)\u001b[0m\n\u001b[1;32m    135\u001b[0m     \u001b[0;32mtry\u001b[0m\u001b[0;34m:\u001b[0m\u001b[0;34m\u001b[0m\u001b[0;34m\u001b[0m\u001b[0m\n\u001b[0;32m--> 136\u001b[0;31m         \u001b[0;32mwith\u001b[0m \u001b[0mtokenize\u001b[0m\u001b[0;34m.\u001b[0m\u001b[0mopen\u001b[0m\u001b[0;34m(\u001b[0m\u001b[0mfullname\u001b[0m\u001b[0;34m)\u001b[0m \u001b[0;32mas\u001b[0m \u001b[0mfp\u001b[0m\u001b[0;34m:\u001b[0m\u001b[0;34m\u001b[0m\u001b[0;34m\u001b[0m\u001b[0m\n\u001b[0m\u001b[1;32m    137\u001b[0m             \u001b[0mlines\u001b[0m \u001b[0;34m=\u001b[0m \u001b[0mfp\u001b[0m\u001b[0;34m.\u001b[0m\u001b[0mreadlines\u001b[0m\u001b[0;34m(\u001b[0m\u001b[0;34m)\u001b[0m\u001b[0;34m\u001b[0m\u001b[0;34m\u001b[0m\u001b[0m\n",
      "\u001b[0;32m/scratch/project_2001273/diego/miniconda3/envs/b3/lib/python3.8/tokenize.py\u001b[0m in \u001b[0;36mopen\u001b[0;34m(filename)\u001b[0m\n\u001b[1;32m    393\u001b[0m     \u001b[0;32mtry\u001b[0m\u001b[0;34m:\u001b[0m\u001b[0;34m\u001b[0m\u001b[0;34m\u001b[0m\u001b[0m\n\u001b[0;32m--> 394\u001b[0;31m         \u001b[0mencoding\u001b[0m\u001b[0;34m,\u001b[0m \u001b[0mlines\u001b[0m \u001b[0;34m=\u001b[0m \u001b[0mdetect_encoding\u001b[0m\u001b[0;34m(\u001b[0m\u001b[0mbuffer\u001b[0m\u001b[0;34m.\u001b[0m\u001b[0mreadline\u001b[0m\u001b[0;34m)\u001b[0m\u001b[0;34m\u001b[0m\u001b[0;34m\u001b[0m\u001b[0m\n\u001b[0m\u001b[1;32m    395\u001b[0m         \u001b[0mbuffer\u001b[0m\u001b[0;34m.\u001b[0m\u001b[0mseek\u001b[0m\u001b[0;34m(\u001b[0m\u001b[0;36m0\u001b[0m\u001b[0;34m)\u001b[0m\u001b[0;34m\u001b[0m\u001b[0;34m\u001b[0m\u001b[0m\n",
      "\u001b[0;32m/scratch/project_2001273/diego/miniconda3/envs/b3/lib/python3.8/tokenize.py\u001b[0m in \u001b[0;36mdetect_encoding\u001b[0;34m(readline)\u001b[0m\n\u001b[1;32m    362\u001b[0m \u001b[0;34m\u001b[0m\u001b[0m\n\u001b[0;32m--> 363\u001b[0;31m     \u001b[0mfirst\u001b[0m \u001b[0;34m=\u001b[0m \u001b[0mread_or_stop\u001b[0m\u001b[0;34m(\u001b[0m\u001b[0;34m)\u001b[0m\u001b[0;34m\u001b[0m\u001b[0;34m\u001b[0m\u001b[0m\n\u001b[0m\u001b[1;32m    364\u001b[0m     \u001b[0;32mif\u001b[0m \u001b[0mfirst\u001b[0m\u001b[0;34m.\u001b[0m\u001b[0mstartswith\u001b[0m\u001b[0;34m(\u001b[0m\u001b[0mBOM_UTF8\u001b[0m\u001b[0;34m)\u001b[0m\u001b[0;34m:\u001b[0m\u001b[0;34m\u001b[0m\u001b[0;34m\u001b[0m\u001b[0m\n",
      "\u001b[0;32m/scratch/project_2001273/diego/miniconda3/envs/b3/lib/python3.8/tokenize.py\u001b[0m in \u001b[0;36mread_or_stop\u001b[0;34m()\u001b[0m\n\u001b[1;32m    320\u001b[0m         \u001b[0;32mtry\u001b[0m\u001b[0;34m:\u001b[0m\u001b[0;34m\u001b[0m\u001b[0;34m\u001b[0m\u001b[0m\n\u001b[0;32m--> 321\u001b[0;31m             \u001b[0;32mreturn\u001b[0m \u001b[0mreadline\u001b[0m\u001b[0;34m(\u001b[0m\u001b[0;34m)\u001b[0m\u001b[0;34m\u001b[0m\u001b[0;34m\u001b[0m\u001b[0m\n\u001b[0m\u001b[1;32m    322\u001b[0m         \u001b[0;32mexcept\u001b[0m \u001b[0mStopIteration\u001b[0m\u001b[0;34m:\u001b[0m\u001b[0;34m\u001b[0m\u001b[0;34m\u001b[0m\u001b[0m\n",
      "\u001b[0;31mKeyboardInterrupt\u001b[0m: ",
      "\nDuring handling of the above exception, another exception occurred:\n",
      "\u001b[0;31mKeyboardInterrupt\u001b[0m                         Traceback (most recent call last)",
      "    \u001b[0;31m[... skipping hidden 1 frame]\u001b[0m\n",
      "\u001b[0;32m/scratch/project_2001273/diego/miniconda3/envs/b3/lib/python3.8/site-packages/IPython/core/interactiveshell.py\u001b[0m in \u001b[0;36mshowtraceback\u001b[0;34m(self, exc_tuple, filename, tb_offset, exception_only, running_compiled_code)\u001b[0m\n\u001b[1;32m   2057\u001b[0m \u001b[0;34m\u001b[0m\u001b[0m\n\u001b[1;32m   2058\u001b[0m         \u001b[0;32mexcept\u001b[0m \u001b[0mKeyboardInterrupt\u001b[0m\u001b[0;34m:\u001b[0m\u001b[0;34m\u001b[0m\u001b[0;34m\u001b[0m\u001b[0m\n\u001b[0;32m-> 2059\u001b[0;31m             \u001b[0mprint\u001b[0m\u001b[0;34m(\u001b[0m\u001b[0;34m'\\n'\u001b[0m \u001b[0;34m+\u001b[0m \u001b[0mself\u001b[0m\u001b[0;34m.\u001b[0m\u001b[0mget_exception_only\u001b[0m\u001b[0;34m(\u001b[0m\u001b[0;34m)\u001b[0m\u001b[0;34m,\u001b[0m \u001b[0mfile\u001b[0m\u001b[0;34m=\u001b[0m\u001b[0msys\u001b[0m\u001b[0;34m.\u001b[0m\u001b[0mstderr\u001b[0m\u001b[0;34m)\u001b[0m\u001b[0;34m\u001b[0m\u001b[0;34m\u001b[0m\u001b[0m\n\u001b[0m\u001b[1;32m   2060\u001b[0m \u001b[0;34m\u001b[0m\u001b[0m\n\u001b[1;32m   2061\u001b[0m     \u001b[0;32mdef\u001b[0m \u001b[0m_showtraceback\u001b[0m\u001b[0;34m(\u001b[0m\u001b[0mself\u001b[0m\u001b[0;34m,\u001b[0m \u001b[0metype\u001b[0m\u001b[0;34m,\u001b[0m \u001b[0mevalue\u001b[0m\u001b[0;34m,\u001b[0m \u001b[0mstb\u001b[0m\u001b[0;34m)\u001b[0m\u001b[0;34m:\u001b[0m\u001b[0;34m\u001b[0m\u001b[0;34m\u001b[0m\u001b[0m\n",
      "\u001b[0;32m/scratch/project_2001273/diego/miniconda3/envs/b3/lib/python3.8/site-packages/IPython/core/interactiveshell.py\u001b[0m in \u001b[0;36mget_exception_only\u001b[0;34m(self, exc_tuple)\u001b[0m\n\u001b[1;32m   2002\u001b[0m         \"\"\"\n\u001b[1;32m   2003\u001b[0m         \u001b[0metype\u001b[0m\u001b[0;34m,\u001b[0m \u001b[0mvalue\u001b[0m\u001b[0;34m,\u001b[0m \u001b[0mtb\u001b[0m \u001b[0;34m=\u001b[0m \u001b[0mself\u001b[0m\u001b[0;34m.\u001b[0m\u001b[0m_get_exc_info\u001b[0m\u001b[0;34m(\u001b[0m\u001b[0mexc_tuple\u001b[0m\u001b[0;34m)\u001b[0m\u001b[0;34m\u001b[0m\u001b[0;34m\u001b[0m\u001b[0m\n\u001b[0;32m-> 2004\u001b[0;31m         \u001b[0mmsg\u001b[0m \u001b[0;34m=\u001b[0m \u001b[0mtraceback\u001b[0m\u001b[0;34m.\u001b[0m\u001b[0mformat_exception_only\u001b[0m\u001b[0;34m(\u001b[0m\u001b[0metype\u001b[0m\u001b[0;34m,\u001b[0m \u001b[0mvalue\u001b[0m\u001b[0;34m)\u001b[0m\u001b[0;34m\u001b[0m\u001b[0;34m\u001b[0m\u001b[0m\n\u001b[0m\u001b[1;32m   2005\u001b[0m         \u001b[0;32mreturn\u001b[0m \u001b[0;34m''\u001b[0m\u001b[0;34m.\u001b[0m\u001b[0mjoin\u001b[0m\u001b[0;34m(\u001b[0m\u001b[0mmsg\u001b[0m\u001b[0;34m)\u001b[0m\u001b[0;34m\u001b[0m\u001b[0;34m\u001b[0m\u001b[0m\n\u001b[1;32m   2006\u001b[0m \u001b[0;34m\u001b[0m\u001b[0m\n",
      "\u001b[0;32m/scratch/project_2001273/diego/miniconda3/envs/b3/lib/python3.8/traceback.py\u001b[0m in \u001b[0;36mformat_exception_only\u001b[0;34m(etype, value)\u001b[0m\n\u001b[1;32m    138\u001b[0m \u001b[0;34m\u001b[0m\u001b[0m\n\u001b[1;32m    139\u001b[0m     \"\"\"\n\u001b[0;32m--> 140\u001b[0;31m     \u001b[0;32mreturn\u001b[0m \u001b[0mlist\u001b[0m\u001b[0;34m(\u001b[0m\u001b[0mTracebackException\u001b[0m\u001b[0;34m(\u001b[0m\u001b[0metype\u001b[0m\u001b[0;34m,\u001b[0m \u001b[0mvalue\u001b[0m\u001b[0;34m,\u001b[0m \u001b[0;32mNone\u001b[0m\u001b[0;34m)\u001b[0m\u001b[0;34m.\u001b[0m\u001b[0mformat_exception_only\u001b[0m\u001b[0;34m(\u001b[0m\u001b[0;34m)\u001b[0m\u001b[0;34m)\u001b[0m\u001b[0;34m\u001b[0m\u001b[0;34m\u001b[0m\u001b[0m\n\u001b[0m\u001b[1;32m    141\u001b[0m \u001b[0;34m\u001b[0m\u001b[0m\n\u001b[1;32m    142\u001b[0m \u001b[0;34m\u001b[0m\u001b[0m\n",
      "\u001b[0;32m/scratch/project_2001273/diego/miniconda3/envs/b3/lib/python3.8/traceback.py\u001b[0m in \u001b[0;36m__init__\u001b[0;34m(self, exc_type, exc_value, exc_traceback, limit, lookup_lines, capture_locals, _seen)\u001b[0m\n\u001b[1;32m    522\u001b[0m             \u001b[0mself\u001b[0m\u001b[0;34m.\u001b[0m\u001b[0mmsg\u001b[0m \u001b[0;34m=\u001b[0m \u001b[0mexc_value\u001b[0m\u001b[0;34m.\u001b[0m\u001b[0mmsg\u001b[0m\u001b[0;34m\u001b[0m\u001b[0;34m\u001b[0m\u001b[0m\n\u001b[1;32m    523\u001b[0m         \u001b[0;32mif\u001b[0m \u001b[0mlookup_lines\u001b[0m\u001b[0;34m:\u001b[0m\u001b[0;34m\u001b[0m\u001b[0;34m\u001b[0m\u001b[0m\n\u001b[0;32m--> 524\u001b[0;31m             \u001b[0mself\u001b[0m\u001b[0;34m.\u001b[0m\u001b[0m_load_lines\u001b[0m\u001b[0;34m(\u001b[0m\u001b[0;34m)\u001b[0m\u001b[0;34m\u001b[0m\u001b[0;34m\u001b[0m\u001b[0m\n\u001b[0m\u001b[1;32m    525\u001b[0m \u001b[0;34m\u001b[0m\u001b[0m\n\u001b[1;32m    526\u001b[0m     \u001b[0;34m@\u001b[0m\u001b[0mclassmethod\u001b[0m\u001b[0;34m\u001b[0m\u001b[0;34m\u001b[0m\u001b[0m\n",
      "\u001b[0;32m/scratch/project_2001273/diego/miniconda3/envs/b3/lib/python3.8/traceback.py\u001b[0m in \u001b[0;36m_load_lines\u001b[0;34m(self)\u001b[0m\n\u001b[1;32m    534\u001b[0m             \u001b[0mframe\u001b[0m\u001b[0;34m.\u001b[0m\u001b[0mline\u001b[0m\u001b[0;34m\u001b[0m\u001b[0;34m\u001b[0m\u001b[0m\n\u001b[1;32m    535\u001b[0m         \u001b[0;32mif\u001b[0m \u001b[0mself\u001b[0m\u001b[0;34m.\u001b[0m\u001b[0m__context__\u001b[0m\u001b[0;34m:\u001b[0m\u001b[0;34m\u001b[0m\u001b[0;34m\u001b[0m\u001b[0m\n\u001b[0;32m--> 536\u001b[0;31m             \u001b[0mself\u001b[0m\u001b[0;34m.\u001b[0m\u001b[0m__context__\u001b[0m\u001b[0;34m.\u001b[0m\u001b[0m_load_lines\u001b[0m\u001b[0;34m(\u001b[0m\u001b[0;34m)\u001b[0m\u001b[0;34m\u001b[0m\u001b[0;34m\u001b[0m\u001b[0m\n\u001b[0m\u001b[1;32m    537\u001b[0m         \u001b[0;32mif\u001b[0m \u001b[0mself\u001b[0m\u001b[0;34m.\u001b[0m\u001b[0m__cause__\u001b[0m\u001b[0;34m:\u001b[0m\u001b[0;34m\u001b[0m\u001b[0;34m\u001b[0m\u001b[0m\n\u001b[1;32m    538\u001b[0m             \u001b[0mself\u001b[0m\u001b[0;34m.\u001b[0m\u001b[0m__cause__\u001b[0m\u001b[0;34m.\u001b[0m\u001b[0m_load_lines\u001b[0m\u001b[0;34m(\u001b[0m\u001b[0;34m)\u001b[0m\u001b[0;34m\u001b[0m\u001b[0;34m\u001b[0m\u001b[0m\n",
      "\u001b[0;32m/scratch/project_2001273/diego/miniconda3/envs/b3/lib/python3.8/traceback.py\u001b[0m in \u001b[0;36m_load_lines\u001b[0;34m(self)\u001b[0m\n\u001b[1;32m    534\u001b[0m             \u001b[0mframe\u001b[0m\u001b[0;34m.\u001b[0m\u001b[0mline\u001b[0m\u001b[0;34m\u001b[0m\u001b[0;34m\u001b[0m\u001b[0m\n\u001b[1;32m    535\u001b[0m         \u001b[0;32mif\u001b[0m \u001b[0mself\u001b[0m\u001b[0;34m.\u001b[0m\u001b[0m__context__\u001b[0m\u001b[0;34m:\u001b[0m\u001b[0;34m\u001b[0m\u001b[0;34m\u001b[0m\u001b[0m\n\u001b[0;32m--> 536\u001b[0;31m             \u001b[0mself\u001b[0m\u001b[0;34m.\u001b[0m\u001b[0m__context__\u001b[0m\u001b[0;34m.\u001b[0m\u001b[0m_load_lines\u001b[0m\u001b[0;34m(\u001b[0m\u001b[0;34m)\u001b[0m\u001b[0;34m\u001b[0m\u001b[0;34m\u001b[0m\u001b[0m\n\u001b[0m\u001b[1;32m    537\u001b[0m         \u001b[0;32mif\u001b[0m \u001b[0mself\u001b[0m\u001b[0;34m.\u001b[0m\u001b[0m__cause__\u001b[0m\u001b[0;34m:\u001b[0m\u001b[0;34m\u001b[0m\u001b[0;34m\u001b[0m\u001b[0m\n\u001b[1;32m    538\u001b[0m             \u001b[0mself\u001b[0m\u001b[0;34m.\u001b[0m\u001b[0m__cause__\u001b[0m\u001b[0;34m.\u001b[0m\u001b[0m_load_lines\u001b[0m\u001b[0;34m(\u001b[0m\u001b[0;34m)\u001b[0m\u001b[0;34m\u001b[0m\u001b[0;34m\u001b[0m\u001b[0m\n",
      "\u001b[0;32m/scratch/project_2001273/diego/miniconda3/envs/b3/lib/python3.8/traceback.py\u001b[0m in \u001b[0;36m_load_lines\u001b[0;34m(self)\u001b[0m\n\u001b[1;32m    534\u001b[0m             \u001b[0mframe\u001b[0m\u001b[0;34m.\u001b[0m\u001b[0mline\u001b[0m\u001b[0;34m\u001b[0m\u001b[0;34m\u001b[0m\u001b[0m\n\u001b[1;32m    535\u001b[0m         \u001b[0;32mif\u001b[0m \u001b[0mself\u001b[0m\u001b[0;34m.\u001b[0m\u001b[0m__context__\u001b[0m\u001b[0;34m:\u001b[0m\u001b[0;34m\u001b[0m\u001b[0;34m\u001b[0m\u001b[0m\n\u001b[0;32m--> 536\u001b[0;31m             \u001b[0mself\u001b[0m\u001b[0;34m.\u001b[0m\u001b[0m__context__\u001b[0m\u001b[0;34m.\u001b[0m\u001b[0m_load_lines\u001b[0m\u001b[0;34m(\u001b[0m\u001b[0;34m)\u001b[0m\u001b[0;34m\u001b[0m\u001b[0;34m\u001b[0m\u001b[0m\n\u001b[0m\u001b[1;32m    537\u001b[0m         \u001b[0;32mif\u001b[0m \u001b[0mself\u001b[0m\u001b[0;34m.\u001b[0m\u001b[0m__cause__\u001b[0m\u001b[0;34m:\u001b[0m\u001b[0;34m\u001b[0m\u001b[0;34m\u001b[0m\u001b[0m\n\u001b[1;32m    538\u001b[0m             \u001b[0mself\u001b[0m\u001b[0;34m.\u001b[0m\u001b[0m__cause__\u001b[0m\u001b[0;34m.\u001b[0m\u001b[0m_load_lines\u001b[0m\u001b[0;34m(\u001b[0m\u001b[0;34m)\u001b[0m\u001b[0;34m\u001b[0m\u001b[0;34m\u001b[0m\u001b[0m\n",
      "\u001b[0;32m/scratch/project_2001273/diego/miniconda3/envs/b3/lib/python3.8/traceback.py\u001b[0m in \u001b[0;36m_load_lines\u001b[0;34m(self)\u001b[0m\n\u001b[1;32m    532\u001b[0m         \u001b[0;34m\"\"\"Private API. force all lines in the stack to be loaded.\"\"\"\u001b[0m\u001b[0;34m\u001b[0m\u001b[0;34m\u001b[0m\u001b[0m\n\u001b[1;32m    533\u001b[0m         \u001b[0;32mfor\u001b[0m \u001b[0mframe\u001b[0m \u001b[0;32min\u001b[0m \u001b[0mself\u001b[0m\u001b[0;34m.\u001b[0m\u001b[0mstack\u001b[0m\u001b[0;34m:\u001b[0m\u001b[0;34m\u001b[0m\u001b[0;34m\u001b[0m\u001b[0m\n\u001b[0;32m--> 534\u001b[0;31m             \u001b[0mframe\u001b[0m\u001b[0;34m.\u001b[0m\u001b[0mline\u001b[0m\u001b[0;34m\u001b[0m\u001b[0;34m\u001b[0m\u001b[0m\n\u001b[0m\u001b[1;32m    535\u001b[0m         \u001b[0;32mif\u001b[0m \u001b[0mself\u001b[0m\u001b[0;34m.\u001b[0m\u001b[0m__context__\u001b[0m\u001b[0;34m:\u001b[0m\u001b[0;34m\u001b[0m\u001b[0;34m\u001b[0m\u001b[0m\n\u001b[1;32m    536\u001b[0m             \u001b[0mself\u001b[0m\u001b[0;34m.\u001b[0m\u001b[0m__context__\u001b[0m\u001b[0;34m.\u001b[0m\u001b[0m_load_lines\u001b[0m\u001b[0;34m(\u001b[0m\u001b[0;34m)\u001b[0m\u001b[0;34m\u001b[0m\u001b[0;34m\u001b[0m\u001b[0m\n",
      "\u001b[0;32m/scratch/project_2001273/diego/miniconda3/envs/b3/lib/python3.8/traceback.py\u001b[0m in \u001b[0;36mline\u001b[0;34m(self)\u001b[0m\n\u001b[1;32m    286\u001b[0m     \u001b[0;32mdef\u001b[0m \u001b[0mline\u001b[0m\u001b[0;34m(\u001b[0m\u001b[0mself\u001b[0m\u001b[0;34m)\u001b[0m\u001b[0;34m:\u001b[0m\u001b[0;34m\u001b[0m\u001b[0;34m\u001b[0m\u001b[0m\n\u001b[1;32m    287\u001b[0m         \u001b[0;32mif\u001b[0m \u001b[0mself\u001b[0m\u001b[0;34m.\u001b[0m\u001b[0m_line\u001b[0m \u001b[0;32mis\u001b[0m \u001b[0;32mNone\u001b[0m\u001b[0;34m:\u001b[0m\u001b[0;34m\u001b[0m\u001b[0;34m\u001b[0m\u001b[0m\n\u001b[0;32m--> 288\u001b[0;31m             \u001b[0mself\u001b[0m\u001b[0;34m.\u001b[0m\u001b[0m_line\u001b[0m \u001b[0;34m=\u001b[0m \u001b[0mlinecache\u001b[0m\u001b[0;34m.\u001b[0m\u001b[0mgetline\u001b[0m\u001b[0;34m(\u001b[0m\u001b[0mself\u001b[0m\u001b[0;34m.\u001b[0m\u001b[0mfilename\u001b[0m\u001b[0;34m,\u001b[0m \u001b[0mself\u001b[0m\u001b[0;34m.\u001b[0m\u001b[0mlineno\u001b[0m\u001b[0;34m)\u001b[0m\u001b[0;34m.\u001b[0m\u001b[0mstrip\u001b[0m\u001b[0;34m(\u001b[0m\u001b[0;34m)\u001b[0m\u001b[0;34m\u001b[0m\u001b[0;34m\u001b[0m\u001b[0m\n\u001b[0m\u001b[1;32m    289\u001b[0m         \u001b[0;32mreturn\u001b[0m \u001b[0mself\u001b[0m\u001b[0;34m.\u001b[0m\u001b[0m_line\u001b[0m\u001b[0;34m\u001b[0m\u001b[0;34m\u001b[0m\u001b[0m\n\u001b[1;32m    290\u001b[0m \u001b[0;34m\u001b[0m\u001b[0m\n",
      "\u001b[0;32m/scratch/project_2001273/diego/miniconda3/envs/b3/lib/python3.8/linecache.py\u001b[0m in \u001b[0;36mgetline\u001b[0;34m(filename, lineno, module_globals)\u001b[0m\n\u001b[1;32m     14\u001b[0m \u001b[0;34m\u001b[0m\u001b[0m\n\u001b[1;32m     15\u001b[0m \u001b[0;32mdef\u001b[0m \u001b[0mgetline\u001b[0m\u001b[0;34m(\u001b[0m\u001b[0mfilename\u001b[0m\u001b[0;34m,\u001b[0m \u001b[0mlineno\u001b[0m\u001b[0;34m,\u001b[0m \u001b[0mmodule_globals\u001b[0m\u001b[0;34m=\u001b[0m\u001b[0;32mNone\u001b[0m\u001b[0;34m)\u001b[0m\u001b[0;34m:\u001b[0m\u001b[0;34m\u001b[0m\u001b[0;34m\u001b[0m\u001b[0m\n\u001b[0;32m---> 16\u001b[0;31m     \u001b[0mlines\u001b[0m \u001b[0;34m=\u001b[0m \u001b[0mgetlines\u001b[0m\u001b[0;34m(\u001b[0m\u001b[0mfilename\u001b[0m\u001b[0;34m,\u001b[0m \u001b[0mmodule_globals\u001b[0m\u001b[0;34m)\u001b[0m\u001b[0;34m\u001b[0m\u001b[0;34m\u001b[0m\u001b[0m\n\u001b[0m\u001b[1;32m     17\u001b[0m     \u001b[0;32mif\u001b[0m \u001b[0;36m1\u001b[0m \u001b[0;34m<=\u001b[0m \u001b[0mlineno\u001b[0m \u001b[0;34m<=\u001b[0m \u001b[0mlen\u001b[0m\u001b[0;34m(\u001b[0m\u001b[0mlines\u001b[0m\u001b[0;34m)\u001b[0m\u001b[0;34m:\u001b[0m\u001b[0;34m\u001b[0m\u001b[0;34m\u001b[0m\u001b[0m\n\u001b[1;32m     18\u001b[0m         \u001b[0;32mreturn\u001b[0m \u001b[0mlines\u001b[0m\u001b[0;34m[\u001b[0m\u001b[0mlineno\u001b[0m\u001b[0;34m-\u001b[0m\u001b[0;36m1\u001b[0m\u001b[0;34m]\u001b[0m\u001b[0;34m\u001b[0m\u001b[0;34m\u001b[0m\u001b[0m\n",
      "\u001b[0;32m/scratch/project_2001273/diego/miniconda3/envs/b3/lib/python3.8/linecache.py\u001b[0m in \u001b[0;36mgetlines\u001b[0;34m(filename, module_globals)\u001b[0m\n\u001b[1;32m     45\u001b[0m \u001b[0;34m\u001b[0m\u001b[0m\n\u001b[1;32m     46\u001b[0m     \u001b[0;32mtry\u001b[0m\u001b[0;34m:\u001b[0m\u001b[0;34m\u001b[0m\u001b[0;34m\u001b[0m\u001b[0m\n\u001b[0;32m---> 47\u001b[0;31m         \u001b[0;32mreturn\u001b[0m \u001b[0mupdatecache\u001b[0m\u001b[0;34m(\u001b[0m\u001b[0mfilename\u001b[0m\u001b[0;34m,\u001b[0m \u001b[0mmodule_globals\u001b[0m\u001b[0;34m)\u001b[0m\u001b[0;34m\u001b[0m\u001b[0;34m\u001b[0m\u001b[0m\n\u001b[0m\u001b[1;32m     48\u001b[0m     \u001b[0;32mexcept\u001b[0m \u001b[0mMemoryError\u001b[0m\u001b[0;34m:\u001b[0m\u001b[0;34m\u001b[0m\u001b[0;34m\u001b[0m\u001b[0m\n\u001b[1;32m     49\u001b[0m         \u001b[0mclearcache\u001b[0m\u001b[0;34m(\u001b[0m\u001b[0;34m)\u001b[0m\u001b[0;34m\u001b[0m\u001b[0;34m\u001b[0m\u001b[0m\n",
      "\u001b[0;32m/scratch/project_2001273/diego/miniconda3/envs/b3/lib/python3.8/linecache.py\u001b[0m in \u001b[0;36mupdatecache\u001b[0;34m(filename, module_globals)\u001b[0m\n\u001b[1;32m    134\u001b[0m             \u001b[0;32mreturn\u001b[0m \u001b[0;34m[\u001b[0m\u001b[0;34m]\u001b[0m\u001b[0;34m\u001b[0m\u001b[0;34m\u001b[0m\u001b[0m\n\u001b[1;32m    135\u001b[0m     \u001b[0;32mtry\u001b[0m\u001b[0;34m:\u001b[0m\u001b[0;34m\u001b[0m\u001b[0;34m\u001b[0m\u001b[0m\n\u001b[0;32m--> 136\u001b[0;31m         \u001b[0;32mwith\u001b[0m \u001b[0mtokenize\u001b[0m\u001b[0;34m.\u001b[0m\u001b[0mopen\u001b[0m\u001b[0;34m(\u001b[0m\u001b[0mfullname\u001b[0m\u001b[0;34m)\u001b[0m \u001b[0;32mas\u001b[0m \u001b[0mfp\u001b[0m\u001b[0;34m:\u001b[0m\u001b[0;34m\u001b[0m\u001b[0;34m\u001b[0m\u001b[0m\n\u001b[0m\u001b[1;32m    137\u001b[0m             \u001b[0mlines\u001b[0m \u001b[0;34m=\u001b[0m \u001b[0mfp\u001b[0m\u001b[0;34m.\u001b[0m\u001b[0mreadlines\u001b[0m\u001b[0;34m(\u001b[0m\u001b[0;34m)\u001b[0m\u001b[0;34m\u001b[0m\u001b[0;34m\u001b[0m\u001b[0m\n\u001b[1;32m    138\u001b[0m     \u001b[0;32mexcept\u001b[0m \u001b[0mOSError\u001b[0m\u001b[0;34m:\u001b[0m\u001b[0;34m\u001b[0m\u001b[0;34m\u001b[0m\u001b[0m\n",
      "\u001b[0;32m/scratch/project_2001273/diego/miniconda3/envs/b3/lib/python3.8/tokenize.py\u001b[0m in \u001b[0;36mopen\u001b[0;34m(filename)\u001b[0m\n\u001b[1;32m    392\u001b[0m     \u001b[0mbuffer\u001b[0m \u001b[0;34m=\u001b[0m \u001b[0m_builtin_open\u001b[0m\u001b[0;34m(\u001b[0m\u001b[0mfilename\u001b[0m\u001b[0;34m,\u001b[0m \u001b[0;34m'rb'\u001b[0m\u001b[0;34m)\u001b[0m\u001b[0;34m\u001b[0m\u001b[0;34m\u001b[0m\u001b[0m\n\u001b[1;32m    393\u001b[0m     \u001b[0;32mtry\u001b[0m\u001b[0;34m:\u001b[0m\u001b[0;34m\u001b[0m\u001b[0;34m\u001b[0m\u001b[0m\n\u001b[0;32m--> 394\u001b[0;31m         \u001b[0mencoding\u001b[0m\u001b[0;34m,\u001b[0m \u001b[0mlines\u001b[0m \u001b[0;34m=\u001b[0m \u001b[0mdetect_encoding\u001b[0m\u001b[0;34m(\u001b[0m\u001b[0mbuffer\u001b[0m\u001b[0;34m.\u001b[0m\u001b[0mreadline\u001b[0m\u001b[0;34m)\u001b[0m\u001b[0;34m\u001b[0m\u001b[0;34m\u001b[0m\u001b[0m\n\u001b[0m\u001b[1;32m    395\u001b[0m         \u001b[0mbuffer\u001b[0m\u001b[0;34m.\u001b[0m\u001b[0mseek\u001b[0m\u001b[0;34m(\u001b[0m\u001b[0;36m0\u001b[0m\u001b[0;34m)\u001b[0m\u001b[0;34m\u001b[0m\u001b[0;34m\u001b[0m\u001b[0m\n\u001b[1;32m    396\u001b[0m         \u001b[0mtext\u001b[0m \u001b[0;34m=\u001b[0m \u001b[0mTextIOWrapper\u001b[0m\u001b[0;34m(\u001b[0m\u001b[0mbuffer\u001b[0m\u001b[0;34m,\u001b[0m \u001b[0mencoding\u001b[0m\u001b[0;34m,\u001b[0m \u001b[0mline_buffering\u001b[0m\u001b[0;34m=\u001b[0m\u001b[0;32mTrue\u001b[0m\u001b[0;34m)\u001b[0m\u001b[0;34m\u001b[0m\u001b[0;34m\u001b[0m\u001b[0m\n",
      "\u001b[0;32m/scratch/project_2001273/diego/miniconda3/envs/b3/lib/python3.8/tokenize.py\u001b[0m in \u001b[0;36mdetect_encoding\u001b[0;34m(readline)\u001b[0m\n\u001b[1;32m    361\u001b[0m         \u001b[0;32mreturn\u001b[0m \u001b[0mencoding\u001b[0m\u001b[0;34m\u001b[0m\u001b[0;34m\u001b[0m\u001b[0m\n\u001b[1;32m    362\u001b[0m \u001b[0;34m\u001b[0m\u001b[0m\n\u001b[0;32m--> 363\u001b[0;31m     \u001b[0mfirst\u001b[0m \u001b[0;34m=\u001b[0m \u001b[0mread_or_stop\u001b[0m\u001b[0;34m(\u001b[0m\u001b[0;34m)\u001b[0m\u001b[0;34m\u001b[0m\u001b[0;34m\u001b[0m\u001b[0m\n\u001b[0m\u001b[1;32m    364\u001b[0m     \u001b[0;32mif\u001b[0m \u001b[0mfirst\u001b[0m\u001b[0;34m.\u001b[0m\u001b[0mstartswith\u001b[0m\u001b[0;34m(\u001b[0m\u001b[0mBOM_UTF8\u001b[0m\u001b[0;34m)\u001b[0m\u001b[0;34m:\u001b[0m\u001b[0;34m\u001b[0m\u001b[0;34m\u001b[0m\u001b[0m\n\u001b[1;32m    365\u001b[0m         \u001b[0mbom_found\u001b[0m \u001b[0;34m=\u001b[0m \u001b[0;32mTrue\u001b[0m\u001b[0;34m\u001b[0m\u001b[0;34m\u001b[0m\u001b[0m\n",
      "\u001b[0;32m/scratch/project_2001273/diego/miniconda3/envs/b3/lib/python3.8/tokenize.py\u001b[0m in \u001b[0;36mread_or_stop\u001b[0;34m()\u001b[0m\n\u001b[1;32m    319\u001b[0m     \u001b[0;32mdef\u001b[0m \u001b[0mread_or_stop\u001b[0m\u001b[0;34m(\u001b[0m\u001b[0;34m)\u001b[0m\u001b[0;34m:\u001b[0m\u001b[0;34m\u001b[0m\u001b[0;34m\u001b[0m\u001b[0m\n\u001b[1;32m    320\u001b[0m         \u001b[0;32mtry\u001b[0m\u001b[0;34m:\u001b[0m\u001b[0;34m\u001b[0m\u001b[0;34m\u001b[0m\u001b[0m\n\u001b[0;32m--> 321\u001b[0;31m             \u001b[0;32mreturn\u001b[0m \u001b[0mreadline\u001b[0m\u001b[0;34m(\u001b[0m\u001b[0;34m)\u001b[0m\u001b[0;34m\u001b[0m\u001b[0;34m\u001b[0m\u001b[0m\n\u001b[0m\u001b[1;32m    322\u001b[0m         \u001b[0;32mexcept\u001b[0m \u001b[0mStopIteration\u001b[0m\u001b[0;34m:\u001b[0m\u001b[0;34m\u001b[0m\u001b[0;34m\u001b[0m\u001b[0m\n\u001b[1;32m    323\u001b[0m             \u001b[0;32mreturn\u001b[0m \u001b[0;34mb''\u001b[0m\u001b[0;34m\u001b[0m\u001b[0;34m\u001b[0m\u001b[0m\n",
      "\u001b[0;31mKeyboardInterrupt\u001b[0m: "
     ]
    }
   ],
   "source": [
    "for p in paths[:]:\n",
    "    for d in doms:\n",
    "        print('starting',d,p)\n",
    "        new_dic = dict(dom=d,folder_path=p)\n",
    "        fo_dic = {**fo_base_dic,**new_dic}\n",
    "\n",
    "        try:\n",
    "            fo = FO.FLEXOUT(**fo_dic)\n",
    "            fo.export_log_polar_coords()\n",
    "            print('done',d,p)\n",
    "        except AssertionError as error:\n",
    "            log.ger.error(error)\n",
    "            print('failed when',d,p)"
   ]
  },
  {
   "cell_type": "code",
   "execution_count": 11,
   "metadata": {},
   "outputs": [
    {
     "data": {
      "text/plain": [
       "2"
      ]
     },
     "execution_count": 11,
     "metadata": {},
     "output_type": "execute_result"
    }
   ],
   "source": [
    "2"
   ]
  },
  {
   "cell_type": "code",
   "execution_count": null,
   "metadata": {},
   "outputs": [],
   "source": []
  }
 ],
 "metadata": {
  "jupytext": {
   "formats": "ipynb,py:percent"
  },
  "kernelspec": {
   "display_name": "Python 3",
   "language": "python",
   "name": "python3"
  },
  "language_info": {
   "codemirror_mode": {
    "name": "ipython",
    "version": 3
   },
   "file_extension": ".py",
   "mimetype": "text/x-python",
   "name": "python",
   "nbconvert_exporter": "python",
   "pygments_lexer": "ipython3",
   "version": "3.8.6"
  }
 },
 "nbformat": 4,
 "nbformat_minor": 4
}
