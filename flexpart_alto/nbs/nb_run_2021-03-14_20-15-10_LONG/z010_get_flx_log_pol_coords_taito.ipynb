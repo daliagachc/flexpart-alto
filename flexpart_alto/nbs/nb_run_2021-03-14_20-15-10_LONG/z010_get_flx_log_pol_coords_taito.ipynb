{
 "cells": [
  {
   "cell_type": "code",
   "execution_count": null,
   "metadata": {},
   "outputs": [],
   "source": []
  },
  {
   "cell_type": "code",
   "execution_count": 1,
   "metadata": {},
   "outputs": [],
   "source": [
    "# this notebook was created to convert rectanfular coo\n",
    "\n",
    "%load_ext autoreload\n",
    "%autoreload 2"
   ]
  },
  {
   "cell_type": "code",
   "execution_count": 2,
   "metadata": {},
   "outputs": [
    {
     "name": "stdout",
     "output_type": "stream",
     "text": [
      "The autoreload extension is already loaded. To reload it, use:\n",
      "  %reload_ext autoreload\n",
      "reload\n",
      "The autoreload extension is already loaded. To reload it, use:\n",
      "  %reload_ext autoreload\n"
     ]
    }
   ],
   "source": [
    "import flexpart_alto.modules.FLEXOUT as FO\n",
    "import flexpart_alto.modules.flx_array as fa\n",
    "from useful_scit.imps2.defs import *"
   ]
  },
  {
   "cell_type": "code",
   "execution_count": 3,
   "metadata": {},
   "outputs": [],
   "source": [
    "log.ger.setLevel(log.log.DEBUG)"
   ]
  },
  {
   "cell_type": "code",
   "execution_count": 4,
   "metadata": {},
   "outputs": [],
   "source": [
    "#os.environ['HDF5_USE_FILE_LOCKING'] = 'FALSE'\n",
    "doms = ['d01','d02']\n",
    "root_path = '/Volumes/Transcend/diego_tr/flexpart-alto/flexpart_alto/data_small/d_run_2021-03-14_20-15-10_LONG/*-*-*'\n",
    "# root_path = '/homeappl/home/aliagadi/wrk/DONOTREMOVE/flexpart_management_data/runs/run_2019-06-05_18-42-11_/*-*-*'\n",
    "path_out = '/Volumes/Transcend/diego_tr/flexpart-alto/flexpart_alto/data_small/d_run_2021-03-14_20-15-10_LONG/log_pol'\n",
    "\n",
    "run_name = 'run_2021-03-14_20-15-10_LONG'\n",
    "paths = glob.glob(root_path)\n",
    "paths.sort()"
   ]
  },
  {
   "cell_type": "code",
   "execution_count": 5,
   "metadata": {},
   "outputs": [
    {
     "data": {
      "text/plain": [
       "['/Volumes/Transcend/diego_tr/flexpart-alto/flexpart_alto/data_small/d_run_2021-03-14_20-15-10_LONG/2018-01-06']"
      ]
     },
     "execution_count": 5,
     "metadata": {},
     "output_type": "execute_result"
    }
   ],
   "source": [
    "paths"
   ]
  },
  {
   "cell_type": "code",
   "execution_count": 6,
   "metadata": {},
   "outputs": [],
   "source": [
    "fo_base_dic  = dict(\n",
    "# dom = 'd01',\n",
    "# folder_path = '/Volumes/mbProD/Downloads/flex_out/run_2019-06-02_20-42-05_/2017-12-10',\n",
    "folder_path_out = path_out,\n",
    "run_name= run_name,\n",
    ")"
   ]
  },
  {
   "cell_type": "code",
   "execution_count": null,
   "metadata": {
    "lines_to_next_cell": 2
   },
   "outputs": [],
   "source": [
    "for p in paths:\n",
    "    for d in doms:\n",
    "        print('starting',d,p)\n",
    "        new_dic = dict(dom=d,folder_path=p)\n",
    "        fo_dic = {**fo_base_dic,**new_dic}\n",
    "\n",
    "        try:\n",
    "            fo = FO.FLEXOUT(**fo_dic)\n",
    "            fo.export_log_polar_coords()\n",
    "            print('done',d,p)\n",
    "        except AssertionError as error:\n",
    "            log.ger.error(error)\n",
    "            print('failed when',d,p)"
   ]
  },
  {
   "cell_type": "code",
   "execution_count": null,
   "metadata": {},
   "outputs": [],
   "source": []
  }
 ],
 "metadata": {
  "jupytext": {
   "text_representation": {
    "extension": ".py",
    "format_name": "percent",
    "format_version": "1.2",
    "jupytext_version": "1.1.3"
   }
  },
  "kernelspec": {
   "display_name": "Python [conda env:b36]",
   "language": "python",
   "name": "conda-env-b36-py"
  },
  "language_info": {
   "codemirror_mode": {
    "name": "ipython",
    "version": 3
   },
   "file_extension": ".py",
   "mimetype": "text/x-python",
   "name": "python",
   "nbconvert_exporter": "python",
   "pygments_lexer": "ipython3",
   "version": "3.8.6"
  }
 },
 "nbformat": 4,
 "nbformat_minor": 4
}
